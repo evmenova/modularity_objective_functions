{
 "cells": [
  {
   "cell_type": "markdown",
   "metadata": {},
   "source": [
    "# Import utilities"
   ]
  },
  {
   "cell_type": "code",
   "execution_count": 16,
   "metadata": {},
   "outputs": [
    {
     "data": {
      "text/html": [
       "        <script type=\"text/javascript\">\n",
       "        window.PlotlyConfig = {MathJaxConfig: 'local'};\n",
       "        if (window.MathJax) {MathJax.Hub.Config({SVG: {font: \"STIX-Web\"}});}\n",
       "        if (typeof require !== 'undefined') {\n",
       "        require.undef(\"plotly\");\n",
       "        requirejs.config({\n",
       "            paths: {\n",
       "                'plotly': ['https://cdn.plot.ly/plotly-2.4.2.min']\n",
       "            }\n",
       "        });\n",
       "        require(['plotly'], function(Plotly) {\n",
       "            window._Plotly = Plotly;\n",
       "        });\n",
       "        }\n",
       "        </script>\n",
       "        "
      ]
     },
     "metadata": {},
     "output_type": "display_data"
    }
   ],
   "source": [
    "from community_utils_3layers import *"
   ]
  },
  {
   "cell_type": "code",
   "execution_count": 17,
   "metadata": {},
   "outputs": [
    {
     "name": "stdout",
     "output_type": "stream",
     "text": [
      "The autoreload extension is already loaded. To reload it, use:\n",
      "  %reload_ext autoreload\n"
     ]
    }
   ],
   "source": [
    "%load_ext autoreload\n",
    "%autoreload 2"
   ]
  },
  {
   "cell_type": "markdown",
   "metadata": {},
   "source": [
    "# Preprocessing"
   ]
  },
  {
   "cell_type": "markdown",
   "metadata": {},
   "source": [
    "Read the graph"
   ]
  },
  {
   "cell_type": "code",
   "execution_count": null,
   "metadata": {},
   "outputs": [],
   "source": [
    "str_graph = nx.Graph()\n",
    "att_graph = nx.Graph()"
   ]
  },
  {
   "cell_type": "code",
   "execution_count": null,
   "metadata": {},
   "outputs": [],
   "source": [
    "u1, u2 = [0, 0, 0, 1, 1, 2, 2, 3, 3], [5, 5, 5, 5, 5]\n",
    "v1, v2 = [1, 2, 3, 2, 4, 3, 4, 4, 5], [0, 1, 2, 3, 4]\n",
    "w1 = [1/9, 1/9, 1/9, 1/9, 1/9, 1/9, 1/9, 1/9, 1/9]\n",
    "w2 = [1/5, 1/5, 1/5, 1/5, 1/5]"
   ]
  },
  {
   "cell_type": "code",
   "execution_count": null,
   "metadata": {},
   "outputs": [],
   "source": [
    "u1, u2 = [0, 1, 0, 3], [2, 2, 1, 1]\n",
    "v1, v2 = [1, 2, 2, 4], [3, 4, 3, 4]\n",
    "w1 = [1/4, 1/4, 1/4, 1/4]\n",
    "w2 = [1/4, 1/4, 1/4, 1/4]\n",
    "\n",
    "att_graph.add_node(0)"
   ]
  },
  {
   "cell_type": "code",
   "execution_count": null,
   "metadata": {},
   "outputs": [],
   "source": [
    "for u, v, w in zip(u1, v1, w1):\n",
    "    str_graph.add_edge(u, v, weight=w)\n",
    "for u, v, w in zip(u2, v2, w2):\n",
    "    att_graph.add_edge(u, v, weight=w)"
   ]
  },
  {
   "cell_type": "code",
   "execution_count": 3,
   "metadata": {},
   "outputs": [],
   "source": [
    "G = nx.Graph()\n",
    "G.add_edge(0, 1, weight=0.6)\n",
    "G.add_edge(0, 2, weight=0.2)\n",
    "G.add_edge(2, 3, weight=0.1)\n",
    "G.add_edge(2, 4, weight=0.7)\n",
    "G.add_edge(2, 5, weight=0.9)\n",
    "G.add_edge(0, 3, weight=0.3)\n",
    "str_graph = G.copy()\n",
    "\n",
    "G = nx.Graph()\n",
    "G.add_edge(0, 1, weight=0.1)\n",
    "G.add_edge(2, 3, weight=0.3)\n",
    "G.add_edge(5, 4, weight=0.2)\n",
    "G.add_edge(2, 5, weight=0.9)\n",
    "G.add_edge(0, 3, weight=0.13)\n",
    "att_graph = G.copy()"
   ]
  },
  {
   "cell_type": "code",
   "execution_count": 4,
   "metadata": {},
   "outputs": [
    {
     "name": "stdout",
     "output_type": "stream",
     "text": [
      "The whole weight has been equalt to 2.8000000000000003 . Now it is equal to 0.9999999999999999\n",
      "The whole weight has been equalt to 1.6300000000000001 . Now it is equal to 0.9999999999999999\n"
     ]
    }
   ],
   "source": [
    "str_graph = normalize_to_fixed_weight_nx(str_graph, 1, show=True)\n",
    "att_graph = normalize_to_fixed_weight_nx(att_graph, 1, show=True)"
   ]
  },
  {
   "cell_type": "markdown",
   "metadata": {},
   "source": [
    "# Brute force experiments"
   ]
  },
  {
   "cell_type": "code",
   "execution_count": 9,
   "metadata": {},
   "outputs": [
    {
     "data": {
      "application/vnd.jupyter.widget-view+json": {
       "model_id": "",
       "version_major": 2,
       "version_minor": 0
      },
      "text/plain": [
       "HBox(children=(IntProgress(value=0, max=21), HTML(value='')))"
      ]
     },
     "metadata": {},
     "output_type": "display_data"
    },
    {
     "name": "stdout",
     "output_type": "stream",
     "text": [
      "\r"
     ]
    },
    {
     "data": {
      "application/vnd.jupyter.widget-view+json": {
       "model_id": "",
       "version_major": 2,
       "version_minor": 0
      },
      "text/plain": [
       "HBox(children=(IntProgress(value=0, max=21), HTML(value='')))"
      ]
     },
     "metadata": {},
     "output_type": "display_data"
    },
    {
     "name": "stdout",
     "output_type": "stream",
     "text": [
      "\r"
     ]
    },
    {
     "data": {
      "application/vnd.jupyter.widget-view+json": {
       "model_id": "",
       "version_major": 2,
       "version_minor": 0
      },
      "text/plain": [
       "HBox(children=(IntProgress(value=0, max=21), HTML(value='')))"
      ]
     },
     "metadata": {},
     "output_type": "display_data"
    },
    {
     "name": "stdout",
     "output_type": "stream",
     "text": [
      "\r"
     ]
    }
   ],
   "source": [
    "graph_layers = {'str': str_graph, 'att': att_graph}\n",
    "graph_names = graph_layers.keys()\n",
    "node_list = graph_layers[take_first(graph_layers)].nodes()\n",
    "\n",
    "alphas_grid = [(val, 1-val) for val in np.linspace(0, 1, 21)]\n",
    "alpha_order = {key: val for val, key in enumerate(graph_names)}\n",
    "\n",
    "brute_partitions = {name: brute_force(name, graph_layers, alphas_grid, alpha_order, node_list) for name in ['sf', 'ef', 'lf']}"
   ]
  },
  {
   "cell_type": "code",
   "execution_count": 11,
   "metadata": {},
   "outputs": [
    {
     "data": {
      "application/vnd.jupyter.widget-view+json": {
       "model_id": "",
       "version_major": 2,
       "version_minor": 0
      },
      "text/plain": [
       "HBox(children=(IntProgress(value=0, max=21), HTML(value='')))"
      ]
     },
     "metadata": {},
     "output_type": "display_data"
    },
    {
     "name": "stdout",
     "output_type": "stream",
     "text": [
      "\r"
     ]
    },
    {
     "data": {
      "application/vnd.jupyter.widget-view+json": {
       "model_id": "",
       "version_major": 2,
       "version_minor": 0
      },
      "text/plain": [
       "HBox(children=(IntProgress(value=0, max=21), HTML(value='')))"
      ]
     },
     "metadata": {},
     "output_type": "display_data"
    },
    {
     "name": "stdout",
     "output_type": "stream",
     "text": [
      "\r"
     ]
    },
    {
     "data": {
      "application/vnd.jupyter.widget-view+json": {
       "model_id": "",
       "version_major": 2,
       "version_minor": 0
      },
      "text/plain": [
       "HBox(children=(IntProgress(value=0, max=21), HTML(value='')))"
      ]
     },
     "metadata": {},
     "output_type": "display_data"
    },
    {
     "name": "stdout",
     "output_type": "stream",
     "text": [
      "\r"
     ]
    },
    {
     "data": {
      "application/vnd.plotly.v1+json": {
       "config": {
        "plotlyServerURL": "https://plot.ly"
       },
       "data": [
        {
         "line": {
          "color": "olivedrab",
          "dash": "dash",
          "width": 2
         },
         "marker": {
          "size": 15
         },
         "mode": "markers",
         "name": "Early Fusion",
         "type": "scatter",
         "x": [
          0,
          0,
          0.05,
          0.05,
          0.1,
          0.1,
          0.15000000000000002,
          0.15000000000000002,
          0.2,
          0.2,
          0.25,
          0.25,
          0.30000000000000004,
          0.30000000000000004,
          0.35000000000000003,
          0.35000000000000003,
          0.4,
          0.4,
          0.45,
          0.45,
          0.5,
          0.5,
          0.55,
          0.55,
          0.6000000000000001,
          0.6000000000000001,
          0.65,
          0.65,
          0.7000000000000001,
          0.7000000000000001,
          0.75,
          0.75,
          0.8,
          0.8,
          0.8500000000000001,
          0.8500000000000001,
          0.9,
          0.9,
          0.9500000000000001,
          0.9500000000000001,
          1,
          1
         ],
         "y": [
          0.17351048214084086,
          0.17351048214084086,
          0.18291531517665593,
          0.18291531517665593,
          0.19232014821247106,
          0.19232014821247106,
          0.20172498124828617,
          0.20172498124828617,
          0.21112981428410127,
          0.21112981428410127,
          0.22053464731991634,
          0.22053464731991634,
          0.22993948035573147,
          0.22993948035573147,
          0.23934431339154655,
          0.23934431339154655,
          0.24874914642736168,
          0.24874914642736168,
          0.25815397946317675,
          0.25815397946317675,
          0.2675588124989918,
          0.2675588124989918,
          0.27696364553480696,
          0.27696364553480696,
          0.2863684785706221,
          0.2863684785706221,
          0.29577331160643716,
          0.29577331160643716,
          0.3051781446422523,
          0.3051781446422523,
          0.31458297767806737,
          0.31458297767806737,
          0.3239878107138825,
          0.3239878107138825,
          0.33339264374969757,
          0.33339264374969757,
          0.34279747678551264,
          0.34279747678551264,
          0.3522023098213278,
          0.3522023098213278,
          0.36160714285714285,
          0.36160714285714285
         ]
        },
        {
         "line": {
          "color": "deepskyblue",
          "dash": "dash",
          "width": 2
         },
         "marker": {
          "size": 10
         },
         "mode": "markers",
         "name": "Simultaneous Fusion",
         "type": "scatter",
         "x": [
          0,
          0,
          0.05,
          0.05,
          0.1,
          0.1,
          0.15000000000000002,
          0.15000000000000002,
          0.2,
          0.2,
          0.25,
          0.25,
          0.30000000000000004,
          0.30000000000000004,
          0.35000000000000003,
          0.35000000000000003,
          0.4,
          0.4,
          0.45,
          0.45,
          0.5,
          0.5,
          0.55,
          0.55,
          0.6000000000000001,
          0.6000000000000001,
          0.65,
          0.65,
          0.7000000000000001,
          0.7000000000000001,
          0.75,
          0.75,
          0.8,
          0.8,
          0.8500000000000001,
          0.8500000000000001,
          0.9,
          0.9,
          0.9500000000000001,
          0.9500000000000001,
          1,
          1
         ],
         "y": [
          0.17351048214084086,
          0.17351048214084086,
          0.18291531517665593,
          0.18291531517665593,
          0.19232014821247106,
          0.19232014821247106,
          0.20172498124828617,
          0.20172498124828617,
          0.21112981428410127,
          0.21112981428410127,
          0.22053464731991634,
          0.22053464731991634,
          0.22993948035573147,
          0.22993948035573147,
          0.23934431339154655,
          0.23934431339154655,
          0.24874914642736168,
          0.24874914642736168,
          0.25815397946317675,
          0.25815397946317675,
          0.2675588124989918,
          0.2675588124989918,
          0.27696364553480696,
          0.27696364553480696,
          0.2863684785706221,
          0.2863684785706221,
          0.29577331160643716,
          0.29577331160643716,
          0.3051781446422523,
          0.3051781446422523,
          0.31458297767806737,
          0.31458297767806737,
          0.3239878107138825,
          0.3239878107138825,
          0.33339264374969757,
          0.33339264374969757,
          0.34279747678551264,
          0.34279747678551264,
          0.3522023098213278,
          0.3522023098213278,
          0.36160714285714285,
          0.36160714285714285
         ]
        },
        {
         "line": {
          "color": "tomato",
          "dash": "dash",
          "width": 2
         },
         "marker": {
          "size": 7
         },
         "mode": "markers",
         "name": "Late Fusion",
         "type": "scatter",
         "x": [
          0,
          0,
          0,
          0,
          0,
          0,
          0,
          0,
          0.05,
          0.05,
          0.05,
          0.05,
          0.05,
          0.05,
          0.05,
          0.05,
          0.1,
          0.1,
          0.1,
          0.1,
          0.1,
          0.1,
          0.1,
          0.1,
          0.15000000000000002,
          0.15000000000000002,
          0.15000000000000002,
          0.15000000000000002,
          0.15000000000000002,
          0.15000000000000002,
          0.15000000000000002,
          0.15000000000000002,
          0.2,
          0.2,
          0.2,
          0.2,
          0.2,
          0.2,
          0.2,
          0.2,
          0.25,
          0.25,
          0.25,
          0.25,
          0.25,
          0.25,
          0.25,
          0.25,
          0.30000000000000004,
          0.30000000000000004,
          0.30000000000000004,
          0.30000000000000004,
          0.30000000000000004,
          0.30000000000000004,
          0.30000000000000004,
          0.30000000000000004,
          0.35000000000000003,
          0.35000000000000003,
          0.35000000000000003,
          0.35000000000000003,
          0.35000000000000003,
          0.35000000000000003,
          0.35000000000000003,
          0.35000000000000003,
          0.4,
          0.4,
          0.4,
          0.4,
          0.4,
          0.4,
          0.4,
          0.4,
          0.45,
          0.45,
          0.45,
          0.45,
          0.45,
          0.45,
          0.45,
          0.45,
          0.5,
          0.5,
          0.5,
          0.5,
          0.5,
          0.5,
          0.5,
          0.5,
          0.55,
          0.55,
          0.55,
          0.55,
          0.55,
          0.55,
          0.55,
          0.55,
          0.6000000000000001,
          0.6000000000000001,
          0.6000000000000001,
          0.6000000000000001,
          0.6000000000000001,
          0.6000000000000001,
          0.6000000000000001,
          0.6000000000000001,
          0.65,
          0.65,
          0.65,
          0.65,
          0.65,
          0.65,
          0.65,
          0.65,
          0.7000000000000001,
          0.7000000000000001,
          0.7000000000000001,
          0.7000000000000001,
          0.7000000000000001,
          0.7000000000000001,
          0.7000000000000001,
          0.7000000000000001,
          0.75,
          0.75,
          0.75,
          0.75,
          0.75,
          0.75,
          0.75,
          0.75,
          0.8,
          0.8,
          0.8,
          0.8,
          0.8,
          0.8,
          0.8,
          0.8,
          0.8500000000000001,
          0.8500000000000001,
          0.8500000000000001,
          0.8500000000000001,
          0.8500000000000001,
          0.8500000000000001,
          0.8500000000000001,
          0.8500000000000001,
          0.9,
          0.9,
          0.9,
          0.9,
          0.9,
          0.9,
          0.9,
          0.9,
          0.9500000000000001,
          0.9500000000000001,
          0.9500000000000001,
          0.9500000000000001,
          0.9500000000000001,
          0.9500000000000001,
          0.9500000000000001,
          0.9500000000000001,
          1,
          1,
          1,
          1,
          1,
          1,
          1,
          1
         ],
         "y": [
          0.17351048214084086,
          0.17351048214084086,
          0.17351048214084086,
          0.17351048214084086,
          0.17351048214084086,
          0.17351048214084086,
          0.17351048214084086,
          0.17351048214084086,
          0.18291531517665593,
          0.18291531517665593,
          0.18291531517665593,
          0.18291531517665593,
          0.18291531517665593,
          0.18291531517665593,
          0.18291531517665593,
          0.18291531517665593,
          0.19232014821247106,
          0.19232014821247106,
          0.19232014821247106,
          0.19232014821247106,
          0.19232014821247106,
          0.19232014821247106,
          0.19232014821247106,
          0.19232014821247106,
          0.20172498124828617,
          0.20172498124828617,
          0.20172498124828617,
          0.20172498124828617,
          0.20172498124828617,
          0.20172498124828617,
          0.20172498124828617,
          0.20172498124828617,
          0.21112981428410127,
          0.21112981428410127,
          0.21112981428410127,
          0.21112981428410127,
          0.21112981428410127,
          0.21112981428410127,
          0.21112981428410127,
          0.21112981428410127,
          0.22053464731991634,
          0.22053464731991634,
          0.22053464731991634,
          0.22053464731991634,
          0.22053464731991634,
          0.22053464731991634,
          0.22053464731991634,
          0.22053464731991634,
          0.22993948035573147,
          0.22993948035573147,
          0.22993948035573147,
          0.22993948035573147,
          0.22993948035573147,
          0.22993948035573147,
          0.22993948035573147,
          0.22993948035573147,
          0.23934431339154655,
          0.23934431339154655,
          0.23934431339154655,
          0.23934431339154655,
          0.23934431339154655,
          0.23934431339154655,
          0.23934431339154655,
          0.23934431339154655,
          0.24874914642736168,
          0.24874914642736168,
          0.24874914642736168,
          0.24874914642736168,
          0.24874914642736168,
          0.24874914642736168,
          0.24874914642736168,
          0.24874914642736168,
          0.25815397946317675,
          0.25815397946317675,
          0.25815397946317675,
          0.25815397946317675,
          0.25815397946317675,
          0.25815397946317675,
          0.25815397946317675,
          0.25815397946317675,
          0.2675588124989918,
          0.2675588124989918,
          0.2675588124989918,
          0.2675588124989918,
          0.2675588124989918,
          0.2675588124989918,
          0.2675588124989918,
          0.2675588124989918,
          0.27696364553480696,
          0.27696364553480696,
          0.27696364553480696,
          0.27696364553480696,
          0.27696364553480696,
          0.27696364553480696,
          0.27696364553480696,
          0.27696364553480696,
          0.2863684785706221,
          0.2863684785706221,
          0.2863684785706221,
          0.2863684785706221,
          0.2863684785706221,
          0.2863684785706221,
          0.2863684785706221,
          0.2863684785706221,
          0.29577331160643716,
          0.29577331160643716,
          0.29577331160643716,
          0.29577331160643716,
          0.29577331160643716,
          0.29577331160643716,
          0.29577331160643716,
          0.29577331160643716,
          0.3051781446422523,
          0.3051781446422523,
          0.3051781446422523,
          0.3051781446422523,
          0.3051781446422523,
          0.3051781446422523,
          0.3051781446422523,
          0.3051781446422523,
          0.31458297767806737,
          0.31458297767806737,
          0.31458297767806737,
          0.31458297767806737,
          0.31458297767806737,
          0.31458297767806737,
          0.31458297767806737,
          0.31458297767806737,
          0.3239878107138825,
          0.3239878107138825,
          0.3239878107138825,
          0.3239878107138825,
          0.3239878107138825,
          0.3239878107138825,
          0.3239878107138825,
          0.3239878107138825,
          0.33339264374969757,
          0.33339264374969757,
          0.33339264374969757,
          0.33339264374969757,
          0.33339264374969757,
          0.33339264374969757,
          0.33339264374969757,
          0.33339264374969757,
          0.34279747678551264,
          0.34279747678551264,
          0.34279747678551264,
          0.34279747678551264,
          0.34279747678551264,
          0.34279747678551264,
          0.34279747678551264,
          0.34279747678551264,
          0.3522023098213278,
          0.3522023098213278,
          0.3522023098213278,
          0.3522023098213278,
          0.3522023098213278,
          0.3522023098213278,
          0.3522023098213278,
          0.3522023098213278,
          0.36160714285714285,
          0.36160714285714285,
          0.36160714285714285,
          0.36160714285714285,
          0.36160714285714285,
          0.36160714285714285,
          0.36160714285714285,
          0.36160714285714285
         ]
        }
       ],
       "layout": {
        "showlegend": false,
        "template": {
         "data": {
          "bar": [
           {
            "error_x": {
             "color": "#2a3f5f"
            },
            "error_y": {
             "color": "#2a3f5f"
            },
            "marker": {
             "line": {
              "color": "#E5ECF6",
              "width": 0.5
             },
             "pattern": {
              "fillmode": "overlay",
              "size": 10,
              "solidity": 0.2
             }
            },
            "type": "bar"
           }
          ],
          "barpolar": [
           {
            "marker": {
             "line": {
              "color": "#E5ECF6",
              "width": 0.5
             },
             "pattern": {
              "fillmode": "overlay",
              "size": 10,
              "solidity": 0.2
             }
            },
            "type": "barpolar"
           }
          ],
          "carpet": [
           {
            "aaxis": {
             "endlinecolor": "#2a3f5f",
             "gridcolor": "white",
             "linecolor": "white",
             "minorgridcolor": "white",
             "startlinecolor": "#2a3f5f"
            },
            "baxis": {
             "endlinecolor": "#2a3f5f",
             "gridcolor": "white",
             "linecolor": "white",
             "minorgridcolor": "white",
             "startlinecolor": "#2a3f5f"
            },
            "type": "carpet"
           }
          ],
          "choropleth": [
           {
            "colorbar": {
             "outlinewidth": 0,
             "ticks": ""
            },
            "type": "choropleth"
           }
          ],
          "contour": [
           {
            "colorbar": {
             "outlinewidth": 0,
             "ticks": ""
            },
            "colorscale": [
             [
              0,
              "#0d0887"
             ],
             [
              0.1111111111111111,
              "#46039f"
             ],
             [
              0.2222222222222222,
              "#7201a8"
             ],
             [
              0.3333333333333333,
              "#9c179e"
             ],
             [
              0.4444444444444444,
              "#bd3786"
             ],
             [
              0.5555555555555556,
              "#d8576b"
             ],
             [
              0.6666666666666666,
              "#ed7953"
             ],
             [
              0.7777777777777778,
              "#fb9f3a"
             ],
             [
              0.8888888888888888,
              "#fdca26"
             ],
             [
              1,
              "#f0f921"
             ]
            ],
            "type": "contour"
           }
          ],
          "contourcarpet": [
           {
            "colorbar": {
             "outlinewidth": 0,
             "ticks": ""
            },
            "type": "contourcarpet"
           }
          ],
          "heatmap": [
           {
            "colorbar": {
             "outlinewidth": 0,
             "ticks": ""
            },
            "colorscale": [
             [
              0,
              "#0d0887"
             ],
             [
              0.1111111111111111,
              "#46039f"
             ],
             [
              0.2222222222222222,
              "#7201a8"
             ],
             [
              0.3333333333333333,
              "#9c179e"
             ],
             [
              0.4444444444444444,
              "#bd3786"
             ],
             [
              0.5555555555555556,
              "#d8576b"
             ],
             [
              0.6666666666666666,
              "#ed7953"
             ],
             [
              0.7777777777777778,
              "#fb9f3a"
             ],
             [
              0.8888888888888888,
              "#fdca26"
             ],
             [
              1,
              "#f0f921"
             ]
            ],
            "type": "heatmap"
           }
          ],
          "heatmapgl": [
           {
            "colorbar": {
             "outlinewidth": 0,
             "ticks": ""
            },
            "colorscale": [
             [
              0,
              "#0d0887"
             ],
             [
              0.1111111111111111,
              "#46039f"
             ],
             [
              0.2222222222222222,
              "#7201a8"
             ],
             [
              0.3333333333333333,
              "#9c179e"
             ],
             [
              0.4444444444444444,
              "#bd3786"
             ],
             [
              0.5555555555555556,
              "#d8576b"
             ],
             [
              0.6666666666666666,
              "#ed7953"
             ],
             [
              0.7777777777777778,
              "#fb9f3a"
             ],
             [
              0.8888888888888888,
              "#fdca26"
             ],
             [
              1,
              "#f0f921"
             ]
            ],
            "type": "heatmapgl"
           }
          ],
          "histogram": [
           {
            "marker": {
             "pattern": {
              "fillmode": "overlay",
              "size": 10,
              "solidity": 0.2
             }
            },
            "type": "histogram"
           }
          ],
          "histogram2d": [
           {
            "colorbar": {
             "outlinewidth": 0,
             "ticks": ""
            },
            "colorscale": [
             [
              0,
              "#0d0887"
             ],
             [
              0.1111111111111111,
              "#46039f"
             ],
             [
              0.2222222222222222,
              "#7201a8"
             ],
             [
              0.3333333333333333,
              "#9c179e"
             ],
             [
              0.4444444444444444,
              "#bd3786"
             ],
             [
              0.5555555555555556,
              "#d8576b"
             ],
             [
              0.6666666666666666,
              "#ed7953"
             ],
             [
              0.7777777777777778,
              "#fb9f3a"
             ],
             [
              0.8888888888888888,
              "#fdca26"
             ],
             [
              1,
              "#f0f921"
             ]
            ],
            "type": "histogram2d"
           }
          ],
          "histogram2dcontour": [
           {
            "colorbar": {
             "outlinewidth": 0,
             "ticks": ""
            },
            "colorscale": [
             [
              0,
              "#0d0887"
             ],
             [
              0.1111111111111111,
              "#46039f"
             ],
             [
              0.2222222222222222,
              "#7201a8"
             ],
             [
              0.3333333333333333,
              "#9c179e"
             ],
             [
              0.4444444444444444,
              "#bd3786"
             ],
             [
              0.5555555555555556,
              "#d8576b"
             ],
             [
              0.6666666666666666,
              "#ed7953"
             ],
             [
              0.7777777777777778,
              "#fb9f3a"
             ],
             [
              0.8888888888888888,
              "#fdca26"
             ],
             [
              1,
              "#f0f921"
             ]
            ],
            "type": "histogram2dcontour"
           }
          ],
          "mesh3d": [
           {
            "colorbar": {
             "outlinewidth": 0,
             "ticks": ""
            },
            "type": "mesh3d"
           }
          ],
          "parcoords": [
           {
            "line": {
             "colorbar": {
              "outlinewidth": 0,
              "ticks": ""
             }
            },
            "type": "parcoords"
           }
          ],
          "pie": [
           {
            "automargin": true,
            "type": "pie"
           }
          ],
          "scatter": [
           {
            "marker": {
             "colorbar": {
              "outlinewidth": 0,
              "ticks": ""
             }
            },
            "type": "scatter"
           }
          ],
          "scatter3d": [
           {
            "line": {
             "colorbar": {
              "outlinewidth": 0,
              "ticks": ""
             }
            },
            "marker": {
             "colorbar": {
              "outlinewidth": 0,
              "ticks": ""
             }
            },
            "type": "scatter3d"
           }
          ],
          "scattercarpet": [
           {
            "marker": {
             "colorbar": {
              "outlinewidth": 0,
              "ticks": ""
             }
            },
            "type": "scattercarpet"
           }
          ],
          "scattergeo": [
           {
            "marker": {
             "colorbar": {
              "outlinewidth": 0,
              "ticks": ""
             }
            },
            "type": "scattergeo"
           }
          ],
          "scattergl": [
           {
            "marker": {
             "colorbar": {
              "outlinewidth": 0,
              "ticks": ""
             }
            },
            "type": "scattergl"
           }
          ],
          "scattermapbox": [
           {
            "marker": {
             "colorbar": {
              "outlinewidth": 0,
              "ticks": ""
             }
            },
            "type": "scattermapbox"
           }
          ],
          "scatterpolar": [
           {
            "marker": {
             "colorbar": {
              "outlinewidth": 0,
              "ticks": ""
             }
            },
            "type": "scatterpolar"
           }
          ],
          "scatterpolargl": [
           {
            "marker": {
             "colorbar": {
              "outlinewidth": 0,
              "ticks": ""
             }
            },
            "type": "scatterpolargl"
           }
          ],
          "scatterternary": [
           {
            "marker": {
             "colorbar": {
              "outlinewidth": 0,
              "ticks": ""
             }
            },
            "type": "scatterternary"
           }
          ],
          "surface": [
           {
            "colorbar": {
             "outlinewidth": 0,
             "ticks": ""
            },
            "colorscale": [
             [
              0,
              "#0d0887"
             ],
             [
              0.1111111111111111,
              "#46039f"
             ],
             [
              0.2222222222222222,
              "#7201a8"
             ],
             [
              0.3333333333333333,
              "#9c179e"
             ],
             [
              0.4444444444444444,
              "#bd3786"
             ],
             [
              0.5555555555555556,
              "#d8576b"
             ],
             [
              0.6666666666666666,
              "#ed7953"
             ],
             [
              0.7777777777777778,
              "#fb9f3a"
             ],
             [
              0.8888888888888888,
              "#fdca26"
             ],
             [
              1,
              "#f0f921"
             ]
            ],
            "type": "surface"
           }
          ],
          "table": [
           {
            "cells": {
             "fill": {
              "color": "#EBF0F8"
             },
             "line": {
              "color": "white"
             }
            },
            "header": {
             "fill": {
              "color": "#C8D4E3"
             },
             "line": {
              "color": "white"
             }
            },
            "type": "table"
           }
          ]
         },
         "layout": {
          "annotationdefaults": {
           "arrowcolor": "#2a3f5f",
           "arrowhead": 0,
           "arrowwidth": 1
          },
          "autotypenumbers": "strict",
          "coloraxis": {
           "colorbar": {
            "outlinewidth": 0,
            "ticks": ""
           }
          },
          "colorscale": {
           "diverging": [
            [
             0,
             "#8e0152"
            ],
            [
             0.1,
             "#c51b7d"
            ],
            [
             0.2,
             "#de77ae"
            ],
            [
             0.3,
             "#f1b6da"
            ],
            [
             0.4,
             "#fde0ef"
            ],
            [
             0.5,
             "#f7f7f7"
            ],
            [
             0.6,
             "#e6f5d0"
            ],
            [
             0.7,
             "#b8e186"
            ],
            [
             0.8,
             "#7fbc41"
            ],
            [
             0.9,
             "#4d9221"
            ],
            [
             1,
             "#276419"
            ]
           ],
           "sequential": [
            [
             0,
             "#0d0887"
            ],
            [
             0.1111111111111111,
             "#46039f"
            ],
            [
             0.2222222222222222,
             "#7201a8"
            ],
            [
             0.3333333333333333,
             "#9c179e"
            ],
            [
             0.4444444444444444,
             "#bd3786"
            ],
            [
             0.5555555555555556,
             "#d8576b"
            ],
            [
             0.6666666666666666,
             "#ed7953"
            ],
            [
             0.7777777777777778,
             "#fb9f3a"
            ],
            [
             0.8888888888888888,
             "#fdca26"
            ],
            [
             1,
             "#f0f921"
            ]
           ],
           "sequentialminus": [
            [
             0,
             "#0d0887"
            ],
            [
             0.1111111111111111,
             "#46039f"
            ],
            [
             0.2222222222222222,
             "#7201a8"
            ],
            [
             0.3333333333333333,
             "#9c179e"
            ],
            [
             0.4444444444444444,
             "#bd3786"
            ],
            [
             0.5555555555555556,
             "#d8576b"
            ],
            [
             0.6666666666666666,
             "#ed7953"
            ],
            [
             0.7777777777777778,
             "#fb9f3a"
            ],
            [
             0.8888888888888888,
             "#fdca26"
            ],
            [
             1,
             "#f0f921"
            ]
           ]
          },
          "colorway": [
           "#636efa",
           "#EF553B",
           "#00cc96",
           "#ab63fa",
           "#FFA15A",
           "#19d3f3",
           "#FF6692",
           "#B6E880",
           "#FF97FF",
           "#FECB52"
          ],
          "font": {
           "color": "#2a3f5f"
          },
          "geo": {
           "bgcolor": "white",
           "lakecolor": "white",
           "landcolor": "#E5ECF6",
           "showlakes": true,
           "showland": true,
           "subunitcolor": "white"
          },
          "hoverlabel": {
           "align": "left"
          },
          "hovermode": "closest",
          "mapbox": {
           "style": "light"
          },
          "paper_bgcolor": "white",
          "plot_bgcolor": "#E5ECF6",
          "polar": {
           "angularaxis": {
            "gridcolor": "white",
            "linecolor": "white",
            "ticks": ""
           },
           "bgcolor": "#E5ECF6",
           "radialaxis": {
            "gridcolor": "white",
            "linecolor": "white",
            "ticks": ""
           }
          },
          "scene": {
           "xaxis": {
            "backgroundcolor": "#E5ECF6",
            "gridcolor": "white",
            "gridwidth": 2,
            "linecolor": "white",
            "showbackground": true,
            "ticks": "",
            "zerolinecolor": "white"
           },
           "yaxis": {
            "backgroundcolor": "#E5ECF6",
            "gridcolor": "white",
            "gridwidth": 2,
            "linecolor": "white",
            "showbackground": true,
            "ticks": "",
            "zerolinecolor": "white"
           },
           "zaxis": {
            "backgroundcolor": "#E5ECF6",
            "gridcolor": "white",
            "gridwidth": 2,
            "linecolor": "white",
            "showbackground": true,
            "ticks": "",
            "zerolinecolor": "white"
           }
          },
          "shapedefaults": {
           "line": {
            "color": "#2a3f5f"
           }
          },
          "ternary": {
           "aaxis": {
            "gridcolor": "white",
            "linecolor": "white",
            "ticks": ""
           },
           "baxis": {
            "gridcolor": "white",
            "linecolor": "white",
            "ticks": ""
           },
           "bgcolor": "#E5ECF6",
           "caxis": {
            "gridcolor": "white",
            "linecolor": "white",
            "ticks": ""
           }
          },
          "title": {
           "x": 0.05
          },
          "xaxis": {
           "automargin": true,
           "gridcolor": "white",
           "linecolor": "white",
           "ticks": "",
           "title": {
            "standoff": 15
           },
           "zerolinecolor": "white",
           "zerolinewidth": 2
          },
          "yaxis": {
           "automargin": true,
           "gridcolor": "white",
           "linecolor": "white",
           "ticks": "",
           "title": {
            "standoff": 15
           },
           "zerolinecolor": "white",
           "zerolinewidth": 2
          }
         }
        },
        "xaxis": {
         "title": {
          "text": "$\\alpha$"
         }
        },
        "yaxis": {
         "title": {
          "text": "$Q_{SF}$"
         }
        }
       }
      },
      "text/html": [
       "<div>                            <div id=\"82eb80e4-86f0-4828-a8da-b673c1e1b7ef\" class=\"plotly-graph-div\" style=\"height:525px; width:100%;\"></div>            <script type=\"text/javascript\">                require([\"plotly\"], function(Plotly) {                    window.PLOTLYENV=window.PLOTLYENV || {};                                    if (document.getElementById(\"82eb80e4-86f0-4828-a8da-b673c1e1b7ef\")) {                    Plotly.newPlot(                        \"82eb80e4-86f0-4828-a8da-b673c1e1b7ef\",                        [{\"line\":{\"color\":\"olivedrab\",\"dash\":\"dash\",\"width\":2},\"marker\":{\"size\":15},\"mode\":\"markers\",\"name\":\"Early Fusion\",\"type\":\"scatter\",\"x\":[0.0,0.0,0.05,0.05,0.1,0.1,0.15000000000000002,0.15000000000000002,0.2,0.2,0.25,0.25,0.30000000000000004,0.30000000000000004,0.35000000000000003,0.35000000000000003,0.4,0.4,0.45,0.45,0.5,0.5,0.55,0.55,0.6000000000000001,0.6000000000000001,0.65,0.65,0.7000000000000001,0.7000000000000001,0.75,0.75,0.8,0.8,0.8500000000000001,0.8500000000000001,0.9,0.9,0.9500000000000001,0.9500000000000001,1.0,1.0],\"y\":[0.17351048214084086,0.17351048214084086,0.18291531517665593,0.18291531517665593,0.19232014821247106,0.19232014821247106,0.20172498124828617,0.20172498124828617,0.21112981428410127,0.21112981428410127,0.22053464731991634,0.22053464731991634,0.22993948035573147,0.22993948035573147,0.23934431339154655,0.23934431339154655,0.24874914642736168,0.24874914642736168,0.25815397946317675,0.25815397946317675,0.2675588124989918,0.2675588124989918,0.27696364553480696,0.27696364553480696,0.2863684785706221,0.2863684785706221,0.29577331160643716,0.29577331160643716,0.3051781446422523,0.3051781446422523,0.31458297767806737,0.31458297767806737,0.3239878107138825,0.3239878107138825,0.33339264374969757,0.33339264374969757,0.34279747678551264,0.34279747678551264,0.3522023098213278,0.3522023098213278,0.36160714285714285,0.36160714285714285]},{\"line\":{\"color\":\"deepskyblue\",\"dash\":\"dash\",\"width\":2},\"marker\":{\"size\":10},\"mode\":\"markers\",\"name\":\"Simultaneous Fusion\",\"type\":\"scatter\",\"x\":[0.0,0.0,0.05,0.05,0.1,0.1,0.15000000000000002,0.15000000000000002,0.2,0.2,0.25,0.25,0.30000000000000004,0.30000000000000004,0.35000000000000003,0.35000000000000003,0.4,0.4,0.45,0.45,0.5,0.5,0.55,0.55,0.6000000000000001,0.6000000000000001,0.65,0.65,0.7000000000000001,0.7000000000000001,0.75,0.75,0.8,0.8,0.8500000000000001,0.8500000000000001,0.9,0.9,0.9500000000000001,0.9500000000000001,1.0,1.0],\"y\":[0.17351048214084086,0.17351048214084086,0.18291531517665593,0.18291531517665593,0.19232014821247106,0.19232014821247106,0.20172498124828617,0.20172498124828617,0.21112981428410127,0.21112981428410127,0.22053464731991634,0.22053464731991634,0.22993948035573147,0.22993948035573147,0.23934431339154655,0.23934431339154655,0.24874914642736168,0.24874914642736168,0.25815397946317675,0.25815397946317675,0.2675588124989918,0.2675588124989918,0.27696364553480696,0.27696364553480696,0.2863684785706221,0.2863684785706221,0.29577331160643716,0.29577331160643716,0.3051781446422523,0.3051781446422523,0.31458297767806737,0.31458297767806737,0.3239878107138825,0.3239878107138825,0.33339264374969757,0.33339264374969757,0.34279747678551264,0.34279747678551264,0.3522023098213278,0.3522023098213278,0.36160714285714285,0.36160714285714285]},{\"line\":{\"color\":\"tomato\",\"dash\":\"dash\",\"width\":2},\"marker\":{\"size\":7},\"mode\":\"markers\",\"name\":\"Late Fusion\",\"type\":\"scatter\",\"x\":[0.0,0.0,0.0,0.0,0.0,0.0,0.0,0.0,0.05,0.05,0.05,0.05,0.05,0.05,0.05,0.05,0.1,0.1,0.1,0.1,0.1,0.1,0.1,0.1,0.15000000000000002,0.15000000000000002,0.15000000000000002,0.15000000000000002,0.15000000000000002,0.15000000000000002,0.15000000000000002,0.15000000000000002,0.2,0.2,0.2,0.2,0.2,0.2,0.2,0.2,0.25,0.25,0.25,0.25,0.25,0.25,0.25,0.25,0.30000000000000004,0.30000000000000004,0.30000000000000004,0.30000000000000004,0.30000000000000004,0.30000000000000004,0.30000000000000004,0.30000000000000004,0.35000000000000003,0.35000000000000003,0.35000000000000003,0.35000000000000003,0.35000000000000003,0.35000000000000003,0.35000000000000003,0.35000000000000003,0.4,0.4,0.4,0.4,0.4,0.4,0.4,0.4,0.45,0.45,0.45,0.45,0.45,0.45,0.45,0.45,0.5,0.5,0.5,0.5,0.5,0.5,0.5,0.5,0.55,0.55,0.55,0.55,0.55,0.55,0.55,0.55,0.6000000000000001,0.6000000000000001,0.6000000000000001,0.6000000000000001,0.6000000000000001,0.6000000000000001,0.6000000000000001,0.6000000000000001,0.65,0.65,0.65,0.65,0.65,0.65,0.65,0.65,0.7000000000000001,0.7000000000000001,0.7000000000000001,0.7000000000000001,0.7000000000000001,0.7000000000000001,0.7000000000000001,0.7000000000000001,0.75,0.75,0.75,0.75,0.75,0.75,0.75,0.75,0.8,0.8,0.8,0.8,0.8,0.8,0.8,0.8,0.8500000000000001,0.8500000000000001,0.8500000000000001,0.8500000000000001,0.8500000000000001,0.8500000000000001,0.8500000000000001,0.8500000000000001,0.9,0.9,0.9,0.9,0.9,0.9,0.9,0.9,0.9500000000000001,0.9500000000000001,0.9500000000000001,0.9500000000000001,0.9500000000000001,0.9500000000000001,0.9500000000000001,0.9500000000000001,1.0,1.0,1.0,1.0,1.0,1.0,1.0,1.0],\"y\":[0.17351048214084086,0.17351048214084086,0.17351048214084086,0.17351048214084086,0.17351048214084086,0.17351048214084086,0.17351048214084086,0.17351048214084086,0.18291531517665593,0.18291531517665593,0.18291531517665593,0.18291531517665593,0.18291531517665593,0.18291531517665593,0.18291531517665593,0.18291531517665593,0.19232014821247106,0.19232014821247106,0.19232014821247106,0.19232014821247106,0.19232014821247106,0.19232014821247106,0.19232014821247106,0.19232014821247106,0.20172498124828617,0.20172498124828617,0.20172498124828617,0.20172498124828617,0.20172498124828617,0.20172498124828617,0.20172498124828617,0.20172498124828617,0.21112981428410127,0.21112981428410127,0.21112981428410127,0.21112981428410127,0.21112981428410127,0.21112981428410127,0.21112981428410127,0.21112981428410127,0.22053464731991634,0.22053464731991634,0.22053464731991634,0.22053464731991634,0.22053464731991634,0.22053464731991634,0.22053464731991634,0.22053464731991634,0.22993948035573147,0.22993948035573147,0.22993948035573147,0.22993948035573147,0.22993948035573147,0.22993948035573147,0.22993948035573147,0.22993948035573147,0.23934431339154655,0.23934431339154655,0.23934431339154655,0.23934431339154655,0.23934431339154655,0.23934431339154655,0.23934431339154655,0.23934431339154655,0.24874914642736168,0.24874914642736168,0.24874914642736168,0.24874914642736168,0.24874914642736168,0.24874914642736168,0.24874914642736168,0.24874914642736168,0.25815397946317675,0.25815397946317675,0.25815397946317675,0.25815397946317675,0.25815397946317675,0.25815397946317675,0.25815397946317675,0.25815397946317675,0.2675588124989918,0.2675588124989918,0.2675588124989918,0.2675588124989918,0.2675588124989918,0.2675588124989918,0.2675588124989918,0.2675588124989918,0.27696364553480696,0.27696364553480696,0.27696364553480696,0.27696364553480696,0.27696364553480696,0.27696364553480696,0.27696364553480696,0.27696364553480696,0.2863684785706221,0.2863684785706221,0.2863684785706221,0.2863684785706221,0.2863684785706221,0.2863684785706221,0.2863684785706221,0.2863684785706221,0.29577331160643716,0.29577331160643716,0.29577331160643716,0.29577331160643716,0.29577331160643716,0.29577331160643716,0.29577331160643716,0.29577331160643716,0.3051781446422523,0.3051781446422523,0.3051781446422523,0.3051781446422523,0.3051781446422523,0.3051781446422523,0.3051781446422523,0.3051781446422523,0.31458297767806737,0.31458297767806737,0.31458297767806737,0.31458297767806737,0.31458297767806737,0.31458297767806737,0.31458297767806737,0.31458297767806737,0.3239878107138825,0.3239878107138825,0.3239878107138825,0.3239878107138825,0.3239878107138825,0.3239878107138825,0.3239878107138825,0.3239878107138825,0.33339264374969757,0.33339264374969757,0.33339264374969757,0.33339264374969757,0.33339264374969757,0.33339264374969757,0.33339264374969757,0.33339264374969757,0.34279747678551264,0.34279747678551264,0.34279747678551264,0.34279747678551264,0.34279747678551264,0.34279747678551264,0.34279747678551264,0.34279747678551264,0.3522023098213278,0.3522023098213278,0.3522023098213278,0.3522023098213278,0.3522023098213278,0.3522023098213278,0.3522023098213278,0.3522023098213278,0.36160714285714285,0.36160714285714285,0.36160714285714285,0.36160714285714285,0.36160714285714285,0.36160714285714285,0.36160714285714285,0.36160714285714285]}],                        {\"showlegend\":false,\"template\":{\"data\":{\"bar\":[{\"error_x\":{\"color\":\"#2a3f5f\"},\"error_y\":{\"color\":\"#2a3f5f\"},\"marker\":{\"line\":{\"color\":\"#E5ECF6\",\"width\":0.5},\"pattern\":{\"fillmode\":\"overlay\",\"size\":10,\"solidity\":0.2}},\"type\":\"bar\"}],\"barpolar\":[{\"marker\":{\"line\":{\"color\":\"#E5ECF6\",\"width\":0.5},\"pattern\":{\"fillmode\":\"overlay\",\"size\":10,\"solidity\":0.2}},\"type\":\"barpolar\"}],\"carpet\":[{\"aaxis\":{\"endlinecolor\":\"#2a3f5f\",\"gridcolor\":\"white\",\"linecolor\":\"white\",\"minorgridcolor\":\"white\",\"startlinecolor\":\"#2a3f5f\"},\"baxis\":{\"endlinecolor\":\"#2a3f5f\",\"gridcolor\":\"white\",\"linecolor\":\"white\",\"minorgridcolor\":\"white\",\"startlinecolor\":\"#2a3f5f\"},\"type\":\"carpet\"}],\"choropleth\":[{\"colorbar\":{\"outlinewidth\":0,\"ticks\":\"\"},\"type\":\"choropleth\"}],\"contour\":[{\"colorbar\":{\"outlinewidth\":0,\"ticks\":\"\"},\"colorscale\":[[0.0,\"#0d0887\"],[0.1111111111111111,\"#46039f\"],[0.2222222222222222,\"#7201a8\"],[0.3333333333333333,\"#9c179e\"],[0.4444444444444444,\"#bd3786\"],[0.5555555555555556,\"#d8576b\"],[0.6666666666666666,\"#ed7953\"],[0.7777777777777778,\"#fb9f3a\"],[0.8888888888888888,\"#fdca26\"],[1.0,\"#f0f921\"]],\"type\":\"contour\"}],\"contourcarpet\":[{\"colorbar\":{\"outlinewidth\":0,\"ticks\":\"\"},\"type\":\"contourcarpet\"}],\"heatmap\":[{\"colorbar\":{\"outlinewidth\":0,\"ticks\":\"\"},\"colorscale\":[[0.0,\"#0d0887\"],[0.1111111111111111,\"#46039f\"],[0.2222222222222222,\"#7201a8\"],[0.3333333333333333,\"#9c179e\"],[0.4444444444444444,\"#bd3786\"],[0.5555555555555556,\"#d8576b\"],[0.6666666666666666,\"#ed7953\"],[0.7777777777777778,\"#fb9f3a\"],[0.8888888888888888,\"#fdca26\"],[1.0,\"#f0f921\"]],\"type\":\"heatmap\"}],\"heatmapgl\":[{\"colorbar\":{\"outlinewidth\":0,\"ticks\":\"\"},\"colorscale\":[[0.0,\"#0d0887\"],[0.1111111111111111,\"#46039f\"],[0.2222222222222222,\"#7201a8\"],[0.3333333333333333,\"#9c179e\"],[0.4444444444444444,\"#bd3786\"],[0.5555555555555556,\"#d8576b\"],[0.6666666666666666,\"#ed7953\"],[0.7777777777777778,\"#fb9f3a\"],[0.8888888888888888,\"#fdca26\"],[1.0,\"#f0f921\"]],\"type\":\"heatmapgl\"}],\"histogram\":[{\"marker\":{\"pattern\":{\"fillmode\":\"overlay\",\"size\":10,\"solidity\":0.2}},\"type\":\"histogram\"}],\"histogram2d\":[{\"colorbar\":{\"outlinewidth\":0,\"ticks\":\"\"},\"colorscale\":[[0.0,\"#0d0887\"],[0.1111111111111111,\"#46039f\"],[0.2222222222222222,\"#7201a8\"],[0.3333333333333333,\"#9c179e\"],[0.4444444444444444,\"#bd3786\"],[0.5555555555555556,\"#d8576b\"],[0.6666666666666666,\"#ed7953\"],[0.7777777777777778,\"#fb9f3a\"],[0.8888888888888888,\"#fdca26\"],[1.0,\"#f0f921\"]],\"type\":\"histogram2d\"}],\"histogram2dcontour\":[{\"colorbar\":{\"outlinewidth\":0,\"ticks\":\"\"},\"colorscale\":[[0.0,\"#0d0887\"],[0.1111111111111111,\"#46039f\"],[0.2222222222222222,\"#7201a8\"],[0.3333333333333333,\"#9c179e\"],[0.4444444444444444,\"#bd3786\"],[0.5555555555555556,\"#d8576b\"],[0.6666666666666666,\"#ed7953\"],[0.7777777777777778,\"#fb9f3a\"],[0.8888888888888888,\"#fdca26\"],[1.0,\"#f0f921\"]],\"type\":\"histogram2dcontour\"}],\"mesh3d\":[{\"colorbar\":{\"outlinewidth\":0,\"ticks\":\"\"},\"type\":\"mesh3d\"}],\"parcoords\":[{\"line\":{\"colorbar\":{\"outlinewidth\":0,\"ticks\":\"\"}},\"type\":\"parcoords\"}],\"pie\":[{\"automargin\":true,\"type\":\"pie\"}],\"scatter\":[{\"marker\":{\"colorbar\":{\"outlinewidth\":0,\"ticks\":\"\"}},\"type\":\"scatter\"}],\"scatter3d\":[{\"line\":{\"colorbar\":{\"outlinewidth\":0,\"ticks\":\"\"}},\"marker\":{\"colorbar\":{\"outlinewidth\":0,\"ticks\":\"\"}},\"type\":\"scatter3d\"}],\"scattercarpet\":[{\"marker\":{\"colorbar\":{\"outlinewidth\":0,\"ticks\":\"\"}},\"type\":\"scattercarpet\"}],\"scattergeo\":[{\"marker\":{\"colorbar\":{\"outlinewidth\":0,\"ticks\":\"\"}},\"type\":\"scattergeo\"}],\"scattergl\":[{\"marker\":{\"colorbar\":{\"outlinewidth\":0,\"ticks\":\"\"}},\"type\":\"scattergl\"}],\"scattermapbox\":[{\"marker\":{\"colorbar\":{\"outlinewidth\":0,\"ticks\":\"\"}},\"type\":\"scattermapbox\"}],\"scatterpolar\":[{\"marker\":{\"colorbar\":{\"outlinewidth\":0,\"ticks\":\"\"}},\"type\":\"scatterpolar\"}],\"scatterpolargl\":[{\"marker\":{\"colorbar\":{\"outlinewidth\":0,\"ticks\":\"\"}},\"type\":\"scatterpolargl\"}],\"scatterternary\":[{\"marker\":{\"colorbar\":{\"outlinewidth\":0,\"ticks\":\"\"}},\"type\":\"scatterternary\"}],\"surface\":[{\"colorbar\":{\"outlinewidth\":0,\"ticks\":\"\"},\"colorscale\":[[0.0,\"#0d0887\"],[0.1111111111111111,\"#46039f\"],[0.2222222222222222,\"#7201a8\"],[0.3333333333333333,\"#9c179e\"],[0.4444444444444444,\"#bd3786\"],[0.5555555555555556,\"#d8576b\"],[0.6666666666666666,\"#ed7953\"],[0.7777777777777778,\"#fb9f3a\"],[0.8888888888888888,\"#fdca26\"],[1.0,\"#f0f921\"]],\"type\":\"surface\"}],\"table\":[{\"cells\":{\"fill\":{\"color\":\"#EBF0F8\"},\"line\":{\"color\":\"white\"}},\"header\":{\"fill\":{\"color\":\"#C8D4E3\"},\"line\":{\"color\":\"white\"}},\"type\":\"table\"}]},\"layout\":{\"annotationdefaults\":{\"arrowcolor\":\"#2a3f5f\",\"arrowhead\":0,\"arrowwidth\":1},\"autotypenumbers\":\"strict\",\"coloraxis\":{\"colorbar\":{\"outlinewidth\":0,\"ticks\":\"\"}},\"colorscale\":{\"diverging\":[[0,\"#8e0152\"],[0.1,\"#c51b7d\"],[0.2,\"#de77ae\"],[0.3,\"#f1b6da\"],[0.4,\"#fde0ef\"],[0.5,\"#f7f7f7\"],[0.6,\"#e6f5d0\"],[0.7,\"#b8e186\"],[0.8,\"#7fbc41\"],[0.9,\"#4d9221\"],[1,\"#276419\"]],\"sequential\":[[0.0,\"#0d0887\"],[0.1111111111111111,\"#46039f\"],[0.2222222222222222,\"#7201a8\"],[0.3333333333333333,\"#9c179e\"],[0.4444444444444444,\"#bd3786\"],[0.5555555555555556,\"#d8576b\"],[0.6666666666666666,\"#ed7953\"],[0.7777777777777778,\"#fb9f3a\"],[0.8888888888888888,\"#fdca26\"],[1.0,\"#f0f921\"]],\"sequentialminus\":[[0.0,\"#0d0887\"],[0.1111111111111111,\"#46039f\"],[0.2222222222222222,\"#7201a8\"],[0.3333333333333333,\"#9c179e\"],[0.4444444444444444,\"#bd3786\"],[0.5555555555555556,\"#d8576b\"],[0.6666666666666666,\"#ed7953\"],[0.7777777777777778,\"#fb9f3a\"],[0.8888888888888888,\"#fdca26\"],[1.0,\"#f0f921\"]]},\"colorway\":[\"#636efa\",\"#EF553B\",\"#00cc96\",\"#ab63fa\",\"#FFA15A\",\"#19d3f3\",\"#FF6692\",\"#B6E880\",\"#FF97FF\",\"#FECB52\"],\"font\":{\"color\":\"#2a3f5f\"},\"geo\":{\"bgcolor\":\"white\",\"lakecolor\":\"white\",\"landcolor\":\"#E5ECF6\",\"showlakes\":true,\"showland\":true,\"subunitcolor\":\"white\"},\"hoverlabel\":{\"align\":\"left\"},\"hovermode\":\"closest\",\"mapbox\":{\"style\":\"light\"},\"paper_bgcolor\":\"white\",\"plot_bgcolor\":\"#E5ECF6\",\"polar\":{\"angularaxis\":{\"gridcolor\":\"white\",\"linecolor\":\"white\",\"ticks\":\"\"},\"bgcolor\":\"#E5ECF6\",\"radialaxis\":{\"gridcolor\":\"white\",\"linecolor\":\"white\",\"ticks\":\"\"}},\"scene\":{\"xaxis\":{\"backgroundcolor\":\"#E5ECF6\",\"gridcolor\":\"white\",\"gridwidth\":2,\"linecolor\":\"white\",\"showbackground\":true,\"ticks\":\"\",\"zerolinecolor\":\"white\"},\"yaxis\":{\"backgroundcolor\":\"#E5ECF6\",\"gridcolor\":\"white\",\"gridwidth\":2,\"linecolor\":\"white\",\"showbackground\":true,\"ticks\":\"\",\"zerolinecolor\":\"white\"},\"zaxis\":{\"backgroundcolor\":\"#E5ECF6\",\"gridcolor\":\"white\",\"gridwidth\":2,\"linecolor\":\"white\",\"showbackground\":true,\"ticks\":\"\",\"zerolinecolor\":\"white\"}},\"shapedefaults\":{\"line\":{\"color\":\"#2a3f5f\"}},\"ternary\":{\"aaxis\":{\"gridcolor\":\"white\",\"linecolor\":\"white\",\"ticks\":\"\"},\"baxis\":{\"gridcolor\":\"white\",\"linecolor\":\"white\",\"ticks\":\"\"},\"bgcolor\":\"#E5ECF6\",\"caxis\":{\"gridcolor\":\"white\",\"linecolor\":\"white\",\"ticks\":\"\"}},\"title\":{\"x\":0.05},\"xaxis\":{\"automargin\":true,\"gridcolor\":\"white\",\"linecolor\":\"white\",\"ticks\":\"\",\"title\":{\"standoff\":15},\"zerolinecolor\":\"white\",\"zerolinewidth\":2},\"yaxis\":{\"automargin\":true,\"gridcolor\":\"white\",\"linecolor\":\"white\",\"ticks\":\"\",\"title\":{\"standoff\":15},\"zerolinecolor\":\"white\",\"zerolinewidth\":2}}},\"xaxis\":{\"title\":{\"text\":\"$\\\\alpha$\"}},\"yaxis\":{\"title\":{\"text\":\"$Q_{SF}$\"}}},                        {\"responsive\": true}                    ).then(function(){\n",
       "                            \n",
       "var gd = document.getElementById('82eb80e4-86f0-4828-a8da-b673c1e1b7ef');\n",
       "var x = new MutationObserver(function (mutations, observer) {{\n",
       "        var display = window.getComputedStyle(gd).display;\n",
       "        if (!display || display === 'none') {{\n",
       "            console.log([gd, 'removed!']);\n",
       "            Plotly.purge(gd);\n",
       "            observer.disconnect();\n",
       "        }}\n",
       "}});\n",
       "\n",
       "// Listen for the removal of the full notebook cells\n",
       "var notebookContainer = gd.closest('#notebook-container');\n",
       "if (notebookContainer) {{\n",
       "    x.observe(notebookContainer, {childList: true});\n",
       "}}\n",
       "\n",
       "// Listen for the clearing of the current output cell\n",
       "var outputEl = gd.closest('.output');\n",
       "if (outputEl) {{\n",
       "    x.observe(outputEl, {childList: true});\n",
       "}}\n",
       "\n",
       "                        })                };                });            </script>        </div>"
      ]
     },
     "metadata": {},
     "output_type": "display_data"
    }
   ],
   "source": [
    "modularity_set_sf = {name: define_modularity_set('sf', brute_partitions[name], graph_layers, alpha_order, node_list) \n",
    "                     for name in ['sf', 'ef', 'lf']}\n",
    "plot_dots_2d(modularity_set_sf, r'$Q_{SF}$', 'data/plots/toy1/toy1_sf.pdf')"
   ]
  },
  {
   "cell_type": "code",
   "execution_count": 12,
   "metadata": {},
   "outputs": [
    {
     "data": {
      "application/vnd.jupyter.widget-view+json": {
       "model_id": "",
       "version_major": 2,
       "version_minor": 0
      },
      "text/plain": [
       "HBox(children=(IntProgress(value=0, max=21), HTML(value='')))"
      ]
     },
     "metadata": {},
     "output_type": "display_data"
    },
    {
     "name": "stdout",
     "output_type": "stream",
     "text": [
      "\r"
     ]
    },
    {
     "data": {
      "application/vnd.jupyter.widget-view+json": {
       "model_id": "",
       "version_major": 2,
       "version_minor": 0
      },
      "text/plain": [
       "HBox(children=(IntProgress(value=0, max=21), HTML(value='')))"
      ]
     },
     "metadata": {},
     "output_type": "display_data"
    },
    {
     "name": "stdout",
     "output_type": "stream",
     "text": [
      "\r"
     ]
    },
    {
     "data": {
      "application/vnd.jupyter.widget-view+json": {
       "model_id": "",
       "version_major": 2,
       "version_minor": 0
      },
      "text/plain": [
       "HBox(children=(IntProgress(value=0, max=21), HTML(value='')))"
      ]
     },
     "metadata": {},
     "output_type": "display_data"
    },
    {
     "name": "stdout",
     "output_type": "stream",
     "text": [
      "\r"
     ]
    },
    {
     "data": {
      "application/vnd.plotly.v1+json": {
       "config": {
        "plotlyServerURL": "https://plot.ly"
       },
       "data": [
        {
         "line": {
          "color": "olivedrab",
          "dash": "dash",
          "width": 2
         },
         "marker": {
          "size": 15
         },
         "mode": "markers",
         "name": "Early Fusion",
         "type": "scatter",
         "x": [
          0,
          0,
          0.05,
          0.05,
          0.1,
          0.1,
          0.15000000000000002,
          0.15000000000000002,
          0.2,
          0.2,
          0.25,
          0.25,
          0.30000000000000004,
          0.30000000000000004,
          0.35000000000000003,
          0.35000000000000003,
          0.4,
          0.4,
          0.45,
          0.45,
          0.5,
          0.5,
          0.55,
          0.55,
          0.6000000000000001,
          0.6000000000000001,
          0.65,
          0.65,
          0.7000000000000001,
          0.7000000000000001,
          0.75,
          0.75,
          0.8,
          0.8,
          0.8500000000000001,
          0.8500000000000001,
          0.9,
          0.9,
          0.9500000000000001,
          0.9500000000000001,
          1,
          1
         ],
         "y": [
          0.17351048214084086,
          0.17351048214084086,
          0.18482742080257322,
          0.18482742080257322,
          0.19594308518789355,
          0.19594308518789355,
          0.2068574752968012,
          0.2068574752968012,
          0.21757059112929683,
          0.21757059112929683,
          0.22808243268537987,
          0.22808243268537987,
          0.23839299996505053,
          0.23839299996505053,
          0.2485022929683089,
          0.2485022929683089,
          0.25841031169515516,
          0.25841031169515516,
          0.2681170561455888,
          0.2681170561455888,
          0.27762252631960976,
          0.27762252631960976,
          0.28692672221721877,
          0.28692672221721877,
          0.2960296438384154,
          0.2960296438384154,
          0.3049312911831996,
          0.3049312911831996,
          0.3136316642515714,
          0.3136316642515714,
          0.3221307630435309,
          0.3221307630435309,
          0.330428587559078,
          0.330428587559078,
          0.33852513779821264,
          0.33852513779821264,
          0.34642041376093513,
          0.34642041376093513,
          0.3541144154472452,
          0.3541144154472452,
          0.36160714285714285,
          0.36160714285714285
         ]
        },
        {
         "line": {
          "color": "deepskyblue",
          "dash": "dash",
          "width": 2
         },
         "marker": {
          "size": 10
         },
         "mode": "markers",
         "name": "Simultaneous Fusion",
         "type": "scatter",
         "x": [
          0,
          0,
          0.05,
          0.05,
          0.1,
          0.1,
          0.15000000000000002,
          0.15000000000000002,
          0.2,
          0.2,
          0.25,
          0.25,
          0.30000000000000004,
          0.30000000000000004,
          0.35000000000000003,
          0.35000000000000003,
          0.4,
          0.4,
          0.45,
          0.45,
          0.5,
          0.5,
          0.55,
          0.55,
          0.6000000000000001,
          0.6000000000000001,
          0.65,
          0.65,
          0.7000000000000001,
          0.7000000000000001,
          0.75,
          0.75,
          0.8,
          0.8,
          0.8500000000000001,
          0.8500000000000001,
          0.9,
          0.9,
          0.9500000000000001,
          0.9500000000000001,
          1,
          1
         ],
         "y": [
          0.17351048214084086,
          0.17351048214084086,
          0.18482742080257322,
          0.18482742080257322,
          0.19594308518789355,
          0.19594308518789355,
          0.2068574752968012,
          0.2068574752968012,
          0.21757059112929683,
          0.21757059112929683,
          0.22808243268537987,
          0.22808243268537987,
          0.23839299996505053,
          0.23839299996505053,
          0.2485022929683089,
          0.2485022929683089,
          0.25841031169515516,
          0.25841031169515516,
          0.2681170561455888,
          0.2681170561455888,
          0.27762252631960976,
          0.27762252631960976,
          0.28692672221721877,
          0.28692672221721877,
          0.2960296438384154,
          0.2960296438384154,
          0.3049312911831996,
          0.3049312911831996,
          0.3136316642515714,
          0.3136316642515714,
          0.3221307630435309,
          0.3221307630435309,
          0.330428587559078,
          0.330428587559078,
          0.33852513779821264,
          0.33852513779821264,
          0.34642041376093513,
          0.34642041376093513,
          0.3541144154472452,
          0.3541144154472452,
          0.36160714285714285,
          0.36160714285714285
         ]
        },
        {
         "line": {
          "color": "tomato",
          "dash": "dash",
          "width": 2
         },
         "marker": {
          "size": 7
         },
         "mode": "markers",
         "name": "Late Fusion",
         "type": "scatter",
         "x": [
          0,
          0,
          0,
          0,
          0,
          0,
          0,
          0,
          0.05,
          0.05,
          0.05,
          0.05,
          0.05,
          0.05,
          0.05,
          0.05,
          0.1,
          0.1,
          0.1,
          0.1,
          0.1,
          0.1,
          0.1,
          0.1,
          0.15000000000000002,
          0.15000000000000002,
          0.15000000000000002,
          0.15000000000000002,
          0.15000000000000002,
          0.15000000000000002,
          0.15000000000000002,
          0.15000000000000002,
          0.2,
          0.2,
          0.2,
          0.2,
          0.2,
          0.2,
          0.2,
          0.2,
          0.25,
          0.25,
          0.25,
          0.25,
          0.25,
          0.25,
          0.25,
          0.25,
          0.30000000000000004,
          0.30000000000000004,
          0.30000000000000004,
          0.30000000000000004,
          0.30000000000000004,
          0.30000000000000004,
          0.30000000000000004,
          0.30000000000000004,
          0.35000000000000003,
          0.35000000000000003,
          0.35000000000000003,
          0.35000000000000003,
          0.35000000000000003,
          0.35000000000000003,
          0.35000000000000003,
          0.35000000000000003,
          0.4,
          0.4,
          0.4,
          0.4,
          0.4,
          0.4,
          0.4,
          0.4,
          0.45,
          0.45,
          0.45,
          0.45,
          0.45,
          0.45,
          0.45,
          0.45,
          0.5,
          0.5,
          0.5,
          0.5,
          0.5,
          0.5,
          0.5,
          0.5,
          0.55,
          0.55,
          0.55,
          0.55,
          0.55,
          0.55,
          0.55,
          0.55,
          0.6000000000000001,
          0.6000000000000001,
          0.6000000000000001,
          0.6000000000000001,
          0.6000000000000001,
          0.6000000000000001,
          0.6000000000000001,
          0.6000000000000001,
          0.65,
          0.65,
          0.65,
          0.65,
          0.65,
          0.65,
          0.65,
          0.65,
          0.7000000000000001,
          0.7000000000000001,
          0.7000000000000001,
          0.7000000000000001,
          0.7000000000000001,
          0.7000000000000001,
          0.7000000000000001,
          0.7000000000000001,
          0.75,
          0.75,
          0.75,
          0.75,
          0.75,
          0.75,
          0.75,
          0.75,
          0.8,
          0.8,
          0.8,
          0.8,
          0.8,
          0.8,
          0.8,
          0.8,
          0.8500000000000001,
          0.8500000000000001,
          0.8500000000000001,
          0.8500000000000001,
          0.8500000000000001,
          0.8500000000000001,
          0.8500000000000001,
          0.8500000000000001,
          0.9,
          0.9,
          0.9,
          0.9,
          0.9,
          0.9,
          0.9,
          0.9,
          0.9500000000000001,
          0.9500000000000001,
          0.9500000000000001,
          0.9500000000000001,
          0.9500000000000001,
          0.9500000000000001,
          0.9500000000000001,
          0.9500000000000001,
          1,
          1,
          1,
          1,
          1,
          1,
          1,
          1
         ],
         "y": [
          0.17351048214084086,
          0.17351048214084086,
          0.17351048214084086,
          0.17351048214084086,
          0.17351048214084086,
          0.17351048214084086,
          0.17351048214084086,
          0.17351048214084086,
          0.18482742080257322,
          0.18482742080257322,
          0.18482742080257322,
          0.18482742080257322,
          0.18482742080257322,
          0.18482742080257322,
          0.18482742080257322,
          0.18482742080257322,
          0.19594308518789355,
          0.19594308518789355,
          0.19594308518789355,
          0.19594308518789355,
          0.19594308518789355,
          0.19594308518789355,
          0.19594308518789355,
          0.19594308518789355,
          0.2068574752968012,
          0.2068574752968012,
          0.2068574752968012,
          0.2068574752968012,
          0.2068574752968012,
          0.2068574752968012,
          0.2068574752968012,
          0.2068574752968012,
          0.21757059112929683,
          0.21757059112929683,
          0.21757059112929683,
          0.21757059112929683,
          0.21757059112929683,
          0.21757059112929683,
          0.21757059112929683,
          0.21757059112929683,
          0.22808243268537987,
          0.22808243268537987,
          0.22808243268537987,
          0.22808243268537987,
          0.22808243268537987,
          0.22808243268537987,
          0.22808243268537987,
          0.22808243268537987,
          0.23839299996505053,
          0.23839299996505053,
          0.23839299996505053,
          0.23839299996505053,
          0.23839299996505053,
          0.23839299996505053,
          0.23839299996505053,
          0.23839299996505053,
          0.2485022929683089,
          0.2485022929683089,
          0.2485022929683089,
          0.2485022929683089,
          0.2485022929683089,
          0.2485022929683089,
          0.2485022929683089,
          0.2485022929683089,
          0.25841031169515516,
          0.25841031169515516,
          0.25841031169515516,
          0.25841031169515516,
          0.25841031169515516,
          0.25841031169515516,
          0.25841031169515516,
          0.25841031169515516,
          0.2681170561455888,
          0.2681170561455888,
          0.2681170561455888,
          0.2681170561455888,
          0.2681170561455888,
          0.2681170561455888,
          0.2681170561455888,
          0.2681170561455888,
          0.27762252631960976,
          0.27762252631960976,
          0.27762252631960976,
          0.27762252631960976,
          0.27762252631960976,
          0.27762252631960976,
          0.27762252631960976,
          0.27762252631960976,
          0.28692672221721877,
          0.28692672221721877,
          0.28692672221721877,
          0.28692672221721877,
          0.28692672221721877,
          0.28692672221721877,
          0.28692672221721877,
          0.28692672221721877,
          0.2960296438384154,
          0.2960296438384154,
          0.2960296438384154,
          0.2960296438384154,
          0.2960296438384154,
          0.2960296438384154,
          0.2960296438384154,
          0.2960296438384154,
          0.3049312911831996,
          0.3049312911831996,
          0.3049312911831996,
          0.3049312911831996,
          0.3049312911831996,
          0.3049312911831996,
          0.3049312911831996,
          0.3049312911831996,
          0.3136316642515714,
          0.3136316642515714,
          0.3136316642515714,
          0.3136316642515714,
          0.3136316642515714,
          0.3136316642515714,
          0.3136316642515714,
          0.3136316642515714,
          0.3221307630435309,
          0.3221307630435309,
          0.3221307630435309,
          0.3221307630435309,
          0.3221307630435309,
          0.3221307630435309,
          0.3221307630435309,
          0.3221307630435309,
          0.330428587559078,
          0.330428587559078,
          0.330428587559078,
          0.330428587559078,
          0.330428587559078,
          0.330428587559078,
          0.330428587559078,
          0.330428587559078,
          0.33852513779821264,
          0.33852513779821264,
          0.33852513779821264,
          0.33852513779821264,
          0.33852513779821264,
          0.33852513779821264,
          0.33852513779821264,
          0.33852513779821264,
          0.34642041376093513,
          0.34642041376093513,
          0.34642041376093513,
          0.34642041376093513,
          0.34642041376093513,
          0.34642041376093513,
          0.34642041376093513,
          0.34642041376093513,
          0.3541144154472452,
          0.3541144154472452,
          0.3541144154472452,
          0.3541144154472452,
          0.3541144154472452,
          0.3541144154472452,
          0.3541144154472452,
          0.3541144154472452,
          0.36160714285714285,
          0.36160714285714285,
          0.36160714285714285,
          0.36160714285714285,
          0.36160714285714285,
          0.36160714285714285,
          0.36160714285714285,
          0.36160714285714285
         ]
        }
       ],
       "layout": {
        "showlegend": false,
        "template": {
         "data": {
          "bar": [
           {
            "error_x": {
             "color": "#2a3f5f"
            },
            "error_y": {
             "color": "#2a3f5f"
            },
            "marker": {
             "line": {
              "color": "#E5ECF6",
              "width": 0.5
             },
             "pattern": {
              "fillmode": "overlay",
              "size": 10,
              "solidity": 0.2
             }
            },
            "type": "bar"
           }
          ],
          "barpolar": [
           {
            "marker": {
             "line": {
              "color": "#E5ECF6",
              "width": 0.5
             },
             "pattern": {
              "fillmode": "overlay",
              "size": 10,
              "solidity": 0.2
             }
            },
            "type": "barpolar"
           }
          ],
          "carpet": [
           {
            "aaxis": {
             "endlinecolor": "#2a3f5f",
             "gridcolor": "white",
             "linecolor": "white",
             "minorgridcolor": "white",
             "startlinecolor": "#2a3f5f"
            },
            "baxis": {
             "endlinecolor": "#2a3f5f",
             "gridcolor": "white",
             "linecolor": "white",
             "minorgridcolor": "white",
             "startlinecolor": "#2a3f5f"
            },
            "type": "carpet"
           }
          ],
          "choropleth": [
           {
            "colorbar": {
             "outlinewidth": 0,
             "ticks": ""
            },
            "type": "choropleth"
           }
          ],
          "contour": [
           {
            "colorbar": {
             "outlinewidth": 0,
             "ticks": ""
            },
            "colorscale": [
             [
              0,
              "#0d0887"
             ],
             [
              0.1111111111111111,
              "#46039f"
             ],
             [
              0.2222222222222222,
              "#7201a8"
             ],
             [
              0.3333333333333333,
              "#9c179e"
             ],
             [
              0.4444444444444444,
              "#bd3786"
             ],
             [
              0.5555555555555556,
              "#d8576b"
             ],
             [
              0.6666666666666666,
              "#ed7953"
             ],
             [
              0.7777777777777778,
              "#fb9f3a"
             ],
             [
              0.8888888888888888,
              "#fdca26"
             ],
             [
              1,
              "#f0f921"
             ]
            ],
            "type": "contour"
           }
          ],
          "contourcarpet": [
           {
            "colorbar": {
             "outlinewidth": 0,
             "ticks": ""
            },
            "type": "contourcarpet"
           }
          ],
          "heatmap": [
           {
            "colorbar": {
             "outlinewidth": 0,
             "ticks": ""
            },
            "colorscale": [
             [
              0,
              "#0d0887"
             ],
             [
              0.1111111111111111,
              "#46039f"
             ],
             [
              0.2222222222222222,
              "#7201a8"
             ],
             [
              0.3333333333333333,
              "#9c179e"
             ],
             [
              0.4444444444444444,
              "#bd3786"
             ],
             [
              0.5555555555555556,
              "#d8576b"
             ],
             [
              0.6666666666666666,
              "#ed7953"
             ],
             [
              0.7777777777777778,
              "#fb9f3a"
             ],
             [
              0.8888888888888888,
              "#fdca26"
             ],
             [
              1,
              "#f0f921"
             ]
            ],
            "type": "heatmap"
           }
          ],
          "heatmapgl": [
           {
            "colorbar": {
             "outlinewidth": 0,
             "ticks": ""
            },
            "colorscale": [
             [
              0,
              "#0d0887"
             ],
             [
              0.1111111111111111,
              "#46039f"
             ],
             [
              0.2222222222222222,
              "#7201a8"
             ],
             [
              0.3333333333333333,
              "#9c179e"
             ],
             [
              0.4444444444444444,
              "#bd3786"
             ],
             [
              0.5555555555555556,
              "#d8576b"
             ],
             [
              0.6666666666666666,
              "#ed7953"
             ],
             [
              0.7777777777777778,
              "#fb9f3a"
             ],
             [
              0.8888888888888888,
              "#fdca26"
             ],
             [
              1,
              "#f0f921"
             ]
            ],
            "type": "heatmapgl"
           }
          ],
          "histogram": [
           {
            "marker": {
             "pattern": {
              "fillmode": "overlay",
              "size": 10,
              "solidity": 0.2
             }
            },
            "type": "histogram"
           }
          ],
          "histogram2d": [
           {
            "colorbar": {
             "outlinewidth": 0,
             "ticks": ""
            },
            "colorscale": [
             [
              0,
              "#0d0887"
             ],
             [
              0.1111111111111111,
              "#46039f"
             ],
             [
              0.2222222222222222,
              "#7201a8"
             ],
             [
              0.3333333333333333,
              "#9c179e"
             ],
             [
              0.4444444444444444,
              "#bd3786"
             ],
             [
              0.5555555555555556,
              "#d8576b"
             ],
             [
              0.6666666666666666,
              "#ed7953"
             ],
             [
              0.7777777777777778,
              "#fb9f3a"
             ],
             [
              0.8888888888888888,
              "#fdca26"
             ],
             [
              1,
              "#f0f921"
             ]
            ],
            "type": "histogram2d"
           }
          ],
          "histogram2dcontour": [
           {
            "colorbar": {
             "outlinewidth": 0,
             "ticks": ""
            },
            "colorscale": [
             [
              0,
              "#0d0887"
             ],
             [
              0.1111111111111111,
              "#46039f"
             ],
             [
              0.2222222222222222,
              "#7201a8"
             ],
             [
              0.3333333333333333,
              "#9c179e"
             ],
             [
              0.4444444444444444,
              "#bd3786"
             ],
             [
              0.5555555555555556,
              "#d8576b"
             ],
             [
              0.6666666666666666,
              "#ed7953"
             ],
             [
              0.7777777777777778,
              "#fb9f3a"
             ],
             [
              0.8888888888888888,
              "#fdca26"
             ],
             [
              1,
              "#f0f921"
             ]
            ],
            "type": "histogram2dcontour"
           }
          ],
          "mesh3d": [
           {
            "colorbar": {
             "outlinewidth": 0,
             "ticks": ""
            },
            "type": "mesh3d"
           }
          ],
          "parcoords": [
           {
            "line": {
             "colorbar": {
              "outlinewidth": 0,
              "ticks": ""
             }
            },
            "type": "parcoords"
           }
          ],
          "pie": [
           {
            "automargin": true,
            "type": "pie"
           }
          ],
          "scatter": [
           {
            "marker": {
             "colorbar": {
              "outlinewidth": 0,
              "ticks": ""
             }
            },
            "type": "scatter"
           }
          ],
          "scatter3d": [
           {
            "line": {
             "colorbar": {
              "outlinewidth": 0,
              "ticks": ""
             }
            },
            "marker": {
             "colorbar": {
              "outlinewidth": 0,
              "ticks": ""
             }
            },
            "type": "scatter3d"
           }
          ],
          "scattercarpet": [
           {
            "marker": {
             "colorbar": {
              "outlinewidth": 0,
              "ticks": ""
             }
            },
            "type": "scattercarpet"
           }
          ],
          "scattergeo": [
           {
            "marker": {
             "colorbar": {
              "outlinewidth": 0,
              "ticks": ""
             }
            },
            "type": "scattergeo"
           }
          ],
          "scattergl": [
           {
            "marker": {
             "colorbar": {
              "outlinewidth": 0,
              "ticks": ""
             }
            },
            "type": "scattergl"
           }
          ],
          "scattermapbox": [
           {
            "marker": {
             "colorbar": {
              "outlinewidth": 0,
              "ticks": ""
             }
            },
            "type": "scattermapbox"
           }
          ],
          "scatterpolar": [
           {
            "marker": {
             "colorbar": {
              "outlinewidth": 0,
              "ticks": ""
             }
            },
            "type": "scatterpolar"
           }
          ],
          "scatterpolargl": [
           {
            "marker": {
             "colorbar": {
              "outlinewidth": 0,
              "ticks": ""
             }
            },
            "type": "scatterpolargl"
           }
          ],
          "scatterternary": [
           {
            "marker": {
             "colorbar": {
              "outlinewidth": 0,
              "ticks": ""
             }
            },
            "type": "scatterternary"
           }
          ],
          "surface": [
           {
            "colorbar": {
             "outlinewidth": 0,
             "ticks": ""
            },
            "colorscale": [
             [
              0,
              "#0d0887"
             ],
             [
              0.1111111111111111,
              "#46039f"
             ],
             [
              0.2222222222222222,
              "#7201a8"
             ],
             [
              0.3333333333333333,
              "#9c179e"
             ],
             [
              0.4444444444444444,
              "#bd3786"
             ],
             [
              0.5555555555555556,
              "#d8576b"
             ],
             [
              0.6666666666666666,
              "#ed7953"
             ],
             [
              0.7777777777777778,
              "#fb9f3a"
             ],
             [
              0.8888888888888888,
              "#fdca26"
             ],
             [
              1,
              "#f0f921"
             ]
            ],
            "type": "surface"
           }
          ],
          "table": [
           {
            "cells": {
             "fill": {
              "color": "#EBF0F8"
             },
             "line": {
              "color": "white"
             }
            },
            "header": {
             "fill": {
              "color": "#C8D4E3"
             },
             "line": {
              "color": "white"
             }
            },
            "type": "table"
           }
          ]
         },
         "layout": {
          "annotationdefaults": {
           "arrowcolor": "#2a3f5f",
           "arrowhead": 0,
           "arrowwidth": 1
          },
          "autotypenumbers": "strict",
          "coloraxis": {
           "colorbar": {
            "outlinewidth": 0,
            "ticks": ""
           }
          },
          "colorscale": {
           "diverging": [
            [
             0,
             "#8e0152"
            ],
            [
             0.1,
             "#c51b7d"
            ],
            [
             0.2,
             "#de77ae"
            ],
            [
             0.3,
             "#f1b6da"
            ],
            [
             0.4,
             "#fde0ef"
            ],
            [
             0.5,
             "#f7f7f7"
            ],
            [
             0.6,
             "#e6f5d0"
            ],
            [
             0.7,
             "#b8e186"
            ],
            [
             0.8,
             "#7fbc41"
            ],
            [
             0.9,
             "#4d9221"
            ],
            [
             1,
             "#276419"
            ]
           ],
           "sequential": [
            [
             0,
             "#0d0887"
            ],
            [
             0.1111111111111111,
             "#46039f"
            ],
            [
             0.2222222222222222,
             "#7201a8"
            ],
            [
             0.3333333333333333,
             "#9c179e"
            ],
            [
             0.4444444444444444,
             "#bd3786"
            ],
            [
             0.5555555555555556,
             "#d8576b"
            ],
            [
             0.6666666666666666,
             "#ed7953"
            ],
            [
             0.7777777777777778,
             "#fb9f3a"
            ],
            [
             0.8888888888888888,
             "#fdca26"
            ],
            [
             1,
             "#f0f921"
            ]
           ],
           "sequentialminus": [
            [
             0,
             "#0d0887"
            ],
            [
             0.1111111111111111,
             "#46039f"
            ],
            [
             0.2222222222222222,
             "#7201a8"
            ],
            [
             0.3333333333333333,
             "#9c179e"
            ],
            [
             0.4444444444444444,
             "#bd3786"
            ],
            [
             0.5555555555555556,
             "#d8576b"
            ],
            [
             0.6666666666666666,
             "#ed7953"
            ],
            [
             0.7777777777777778,
             "#fb9f3a"
            ],
            [
             0.8888888888888888,
             "#fdca26"
            ],
            [
             1,
             "#f0f921"
            ]
           ]
          },
          "colorway": [
           "#636efa",
           "#EF553B",
           "#00cc96",
           "#ab63fa",
           "#FFA15A",
           "#19d3f3",
           "#FF6692",
           "#B6E880",
           "#FF97FF",
           "#FECB52"
          ],
          "font": {
           "color": "#2a3f5f"
          },
          "geo": {
           "bgcolor": "white",
           "lakecolor": "white",
           "landcolor": "#E5ECF6",
           "showlakes": true,
           "showland": true,
           "subunitcolor": "white"
          },
          "hoverlabel": {
           "align": "left"
          },
          "hovermode": "closest",
          "mapbox": {
           "style": "light"
          },
          "paper_bgcolor": "white",
          "plot_bgcolor": "#E5ECF6",
          "polar": {
           "angularaxis": {
            "gridcolor": "white",
            "linecolor": "white",
            "ticks": ""
           },
           "bgcolor": "#E5ECF6",
           "radialaxis": {
            "gridcolor": "white",
            "linecolor": "white",
            "ticks": ""
           }
          },
          "scene": {
           "xaxis": {
            "backgroundcolor": "#E5ECF6",
            "gridcolor": "white",
            "gridwidth": 2,
            "linecolor": "white",
            "showbackground": true,
            "ticks": "",
            "zerolinecolor": "white"
           },
           "yaxis": {
            "backgroundcolor": "#E5ECF6",
            "gridcolor": "white",
            "gridwidth": 2,
            "linecolor": "white",
            "showbackground": true,
            "ticks": "",
            "zerolinecolor": "white"
           },
           "zaxis": {
            "backgroundcolor": "#E5ECF6",
            "gridcolor": "white",
            "gridwidth": 2,
            "linecolor": "white",
            "showbackground": true,
            "ticks": "",
            "zerolinecolor": "white"
           }
          },
          "shapedefaults": {
           "line": {
            "color": "#2a3f5f"
           }
          },
          "ternary": {
           "aaxis": {
            "gridcolor": "white",
            "linecolor": "white",
            "ticks": ""
           },
           "baxis": {
            "gridcolor": "white",
            "linecolor": "white",
            "ticks": ""
           },
           "bgcolor": "#E5ECF6",
           "caxis": {
            "gridcolor": "white",
            "linecolor": "white",
            "ticks": ""
           }
          },
          "title": {
           "x": 0.05
          },
          "xaxis": {
           "automargin": true,
           "gridcolor": "white",
           "linecolor": "white",
           "ticks": "",
           "title": {
            "standoff": 15
           },
           "zerolinecolor": "white",
           "zerolinewidth": 2
          },
          "yaxis": {
           "automargin": true,
           "gridcolor": "white",
           "linecolor": "white",
           "ticks": "",
           "title": {
            "standoff": 15
           },
           "zerolinecolor": "white",
           "zerolinewidth": 2
          }
         }
        },
        "xaxis": {
         "title": {
          "text": "$\\alpha$"
         }
        },
        "yaxis": {
         "title": {
          "text": "$Q_{EF}$"
         }
        }
       }
      },
      "text/html": [
       "<div>                            <div id=\"072e076d-be65-42c9-93d2-5006110745c6\" class=\"plotly-graph-div\" style=\"height:525px; width:100%;\"></div>            <script type=\"text/javascript\">                require([\"plotly\"], function(Plotly) {                    window.PLOTLYENV=window.PLOTLYENV || {};                                    if (document.getElementById(\"072e076d-be65-42c9-93d2-5006110745c6\")) {                    Plotly.newPlot(                        \"072e076d-be65-42c9-93d2-5006110745c6\",                        [{\"line\":{\"color\":\"olivedrab\",\"dash\":\"dash\",\"width\":2},\"marker\":{\"size\":15},\"mode\":\"markers\",\"name\":\"Early Fusion\",\"type\":\"scatter\",\"x\":[0.0,0.0,0.05,0.05,0.1,0.1,0.15000000000000002,0.15000000000000002,0.2,0.2,0.25,0.25,0.30000000000000004,0.30000000000000004,0.35000000000000003,0.35000000000000003,0.4,0.4,0.45,0.45,0.5,0.5,0.55,0.55,0.6000000000000001,0.6000000000000001,0.65,0.65,0.7000000000000001,0.7000000000000001,0.75,0.75,0.8,0.8,0.8500000000000001,0.8500000000000001,0.9,0.9,0.9500000000000001,0.9500000000000001,1.0,1.0],\"y\":[0.17351048214084086,0.17351048214084086,0.18482742080257322,0.18482742080257322,0.19594308518789355,0.19594308518789355,0.2068574752968012,0.2068574752968012,0.21757059112929683,0.21757059112929683,0.22808243268537987,0.22808243268537987,0.23839299996505053,0.23839299996505053,0.2485022929683089,0.2485022929683089,0.25841031169515516,0.25841031169515516,0.2681170561455888,0.2681170561455888,0.27762252631960976,0.27762252631960976,0.28692672221721877,0.28692672221721877,0.2960296438384154,0.2960296438384154,0.3049312911831996,0.3049312911831996,0.3136316642515714,0.3136316642515714,0.3221307630435309,0.3221307630435309,0.330428587559078,0.330428587559078,0.33852513779821264,0.33852513779821264,0.34642041376093513,0.34642041376093513,0.3541144154472452,0.3541144154472452,0.36160714285714285,0.36160714285714285]},{\"line\":{\"color\":\"deepskyblue\",\"dash\":\"dash\",\"width\":2},\"marker\":{\"size\":10},\"mode\":\"markers\",\"name\":\"Simultaneous Fusion\",\"type\":\"scatter\",\"x\":[0.0,0.0,0.05,0.05,0.1,0.1,0.15000000000000002,0.15000000000000002,0.2,0.2,0.25,0.25,0.30000000000000004,0.30000000000000004,0.35000000000000003,0.35000000000000003,0.4,0.4,0.45,0.45,0.5,0.5,0.55,0.55,0.6000000000000001,0.6000000000000001,0.65,0.65,0.7000000000000001,0.7000000000000001,0.75,0.75,0.8,0.8,0.8500000000000001,0.8500000000000001,0.9,0.9,0.9500000000000001,0.9500000000000001,1.0,1.0],\"y\":[0.17351048214084086,0.17351048214084086,0.18482742080257322,0.18482742080257322,0.19594308518789355,0.19594308518789355,0.2068574752968012,0.2068574752968012,0.21757059112929683,0.21757059112929683,0.22808243268537987,0.22808243268537987,0.23839299996505053,0.23839299996505053,0.2485022929683089,0.2485022929683089,0.25841031169515516,0.25841031169515516,0.2681170561455888,0.2681170561455888,0.27762252631960976,0.27762252631960976,0.28692672221721877,0.28692672221721877,0.2960296438384154,0.2960296438384154,0.3049312911831996,0.3049312911831996,0.3136316642515714,0.3136316642515714,0.3221307630435309,0.3221307630435309,0.330428587559078,0.330428587559078,0.33852513779821264,0.33852513779821264,0.34642041376093513,0.34642041376093513,0.3541144154472452,0.3541144154472452,0.36160714285714285,0.36160714285714285]},{\"line\":{\"color\":\"tomato\",\"dash\":\"dash\",\"width\":2},\"marker\":{\"size\":7},\"mode\":\"markers\",\"name\":\"Late Fusion\",\"type\":\"scatter\",\"x\":[0.0,0.0,0.0,0.0,0.0,0.0,0.0,0.0,0.05,0.05,0.05,0.05,0.05,0.05,0.05,0.05,0.1,0.1,0.1,0.1,0.1,0.1,0.1,0.1,0.15000000000000002,0.15000000000000002,0.15000000000000002,0.15000000000000002,0.15000000000000002,0.15000000000000002,0.15000000000000002,0.15000000000000002,0.2,0.2,0.2,0.2,0.2,0.2,0.2,0.2,0.25,0.25,0.25,0.25,0.25,0.25,0.25,0.25,0.30000000000000004,0.30000000000000004,0.30000000000000004,0.30000000000000004,0.30000000000000004,0.30000000000000004,0.30000000000000004,0.30000000000000004,0.35000000000000003,0.35000000000000003,0.35000000000000003,0.35000000000000003,0.35000000000000003,0.35000000000000003,0.35000000000000003,0.35000000000000003,0.4,0.4,0.4,0.4,0.4,0.4,0.4,0.4,0.45,0.45,0.45,0.45,0.45,0.45,0.45,0.45,0.5,0.5,0.5,0.5,0.5,0.5,0.5,0.5,0.55,0.55,0.55,0.55,0.55,0.55,0.55,0.55,0.6000000000000001,0.6000000000000001,0.6000000000000001,0.6000000000000001,0.6000000000000001,0.6000000000000001,0.6000000000000001,0.6000000000000001,0.65,0.65,0.65,0.65,0.65,0.65,0.65,0.65,0.7000000000000001,0.7000000000000001,0.7000000000000001,0.7000000000000001,0.7000000000000001,0.7000000000000001,0.7000000000000001,0.7000000000000001,0.75,0.75,0.75,0.75,0.75,0.75,0.75,0.75,0.8,0.8,0.8,0.8,0.8,0.8,0.8,0.8,0.8500000000000001,0.8500000000000001,0.8500000000000001,0.8500000000000001,0.8500000000000001,0.8500000000000001,0.8500000000000001,0.8500000000000001,0.9,0.9,0.9,0.9,0.9,0.9,0.9,0.9,0.9500000000000001,0.9500000000000001,0.9500000000000001,0.9500000000000001,0.9500000000000001,0.9500000000000001,0.9500000000000001,0.9500000000000001,1.0,1.0,1.0,1.0,1.0,1.0,1.0,1.0],\"y\":[0.17351048214084086,0.17351048214084086,0.17351048214084086,0.17351048214084086,0.17351048214084086,0.17351048214084086,0.17351048214084086,0.17351048214084086,0.18482742080257322,0.18482742080257322,0.18482742080257322,0.18482742080257322,0.18482742080257322,0.18482742080257322,0.18482742080257322,0.18482742080257322,0.19594308518789355,0.19594308518789355,0.19594308518789355,0.19594308518789355,0.19594308518789355,0.19594308518789355,0.19594308518789355,0.19594308518789355,0.2068574752968012,0.2068574752968012,0.2068574752968012,0.2068574752968012,0.2068574752968012,0.2068574752968012,0.2068574752968012,0.2068574752968012,0.21757059112929683,0.21757059112929683,0.21757059112929683,0.21757059112929683,0.21757059112929683,0.21757059112929683,0.21757059112929683,0.21757059112929683,0.22808243268537987,0.22808243268537987,0.22808243268537987,0.22808243268537987,0.22808243268537987,0.22808243268537987,0.22808243268537987,0.22808243268537987,0.23839299996505053,0.23839299996505053,0.23839299996505053,0.23839299996505053,0.23839299996505053,0.23839299996505053,0.23839299996505053,0.23839299996505053,0.2485022929683089,0.2485022929683089,0.2485022929683089,0.2485022929683089,0.2485022929683089,0.2485022929683089,0.2485022929683089,0.2485022929683089,0.25841031169515516,0.25841031169515516,0.25841031169515516,0.25841031169515516,0.25841031169515516,0.25841031169515516,0.25841031169515516,0.25841031169515516,0.2681170561455888,0.2681170561455888,0.2681170561455888,0.2681170561455888,0.2681170561455888,0.2681170561455888,0.2681170561455888,0.2681170561455888,0.27762252631960976,0.27762252631960976,0.27762252631960976,0.27762252631960976,0.27762252631960976,0.27762252631960976,0.27762252631960976,0.27762252631960976,0.28692672221721877,0.28692672221721877,0.28692672221721877,0.28692672221721877,0.28692672221721877,0.28692672221721877,0.28692672221721877,0.28692672221721877,0.2960296438384154,0.2960296438384154,0.2960296438384154,0.2960296438384154,0.2960296438384154,0.2960296438384154,0.2960296438384154,0.2960296438384154,0.3049312911831996,0.3049312911831996,0.3049312911831996,0.3049312911831996,0.3049312911831996,0.3049312911831996,0.3049312911831996,0.3049312911831996,0.3136316642515714,0.3136316642515714,0.3136316642515714,0.3136316642515714,0.3136316642515714,0.3136316642515714,0.3136316642515714,0.3136316642515714,0.3221307630435309,0.3221307630435309,0.3221307630435309,0.3221307630435309,0.3221307630435309,0.3221307630435309,0.3221307630435309,0.3221307630435309,0.330428587559078,0.330428587559078,0.330428587559078,0.330428587559078,0.330428587559078,0.330428587559078,0.330428587559078,0.330428587559078,0.33852513779821264,0.33852513779821264,0.33852513779821264,0.33852513779821264,0.33852513779821264,0.33852513779821264,0.33852513779821264,0.33852513779821264,0.34642041376093513,0.34642041376093513,0.34642041376093513,0.34642041376093513,0.34642041376093513,0.34642041376093513,0.34642041376093513,0.34642041376093513,0.3541144154472452,0.3541144154472452,0.3541144154472452,0.3541144154472452,0.3541144154472452,0.3541144154472452,0.3541144154472452,0.3541144154472452,0.36160714285714285,0.36160714285714285,0.36160714285714285,0.36160714285714285,0.36160714285714285,0.36160714285714285,0.36160714285714285,0.36160714285714285]}],                        {\"showlegend\":false,\"template\":{\"data\":{\"bar\":[{\"error_x\":{\"color\":\"#2a3f5f\"},\"error_y\":{\"color\":\"#2a3f5f\"},\"marker\":{\"line\":{\"color\":\"#E5ECF6\",\"width\":0.5},\"pattern\":{\"fillmode\":\"overlay\",\"size\":10,\"solidity\":0.2}},\"type\":\"bar\"}],\"barpolar\":[{\"marker\":{\"line\":{\"color\":\"#E5ECF6\",\"width\":0.5},\"pattern\":{\"fillmode\":\"overlay\",\"size\":10,\"solidity\":0.2}},\"type\":\"barpolar\"}],\"carpet\":[{\"aaxis\":{\"endlinecolor\":\"#2a3f5f\",\"gridcolor\":\"white\",\"linecolor\":\"white\",\"minorgridcolor\":\"white\",\"startlinecolor\":\"#2a3f5f\"},\"baxis\":{\"endlinecolor\":\"#2a3f5f\",\"gridcolor\":\"white\",\"linecolor\":\"white\",\"minorgridcolor\":\"white\",\"startlinecolor\":\"#2a3f5f\"},\"type\":\"carpet\"}],\"choropleth\":[{\"colorbar\":{\"outlinewidth\":0,\"ticks\":\"\"},\"type\":\"choropleth\"}],\"contour\":[{\"colorbar\":{\"outlinewidth\":0,\"ticks\":\"\"},\"colorscale\":[[0.0,\"#0d0887\"],[0.1111111111111111,\"#46039f\"],[0.2222222222222222,\"#7201a8\"],[0.3333333333333333,\"#9c179e\"],[0.4444444444444444,\"#bd3786\"],[0.5555555555555556,\"#d8576b\"],[0.6666666666666666,\"#ed7953\"],[0.7777777777777778,\"#fb9f3a\"],[0.8888888888888888,\"#fdca26\"],[1.0,\"#f0f921\"]],\"type\":\"contour\"}],\"contourcarpet\":[{\"colorbar\":{\"outlinewidth\":0,\"ticks\":\"\"},\"type\":\"contourcarpet\"}],\"heatmap\":[{\"colorbar\":{\"outlinewidth\":0,\"ticks\":\"\"},\"colorscale\":[[0.0,\"#0d0887\"],[0.1111111111111111,\"#46039f\"],[0.2222222222222222,\"#7201a8\"],[0.3333333333333333,\"#9c179e\"],[0.4444444444444444,\"#bd3786\"],[0.5555555555555556,\"#d8576b\"],[0.6666666666666666,\"#ed7953\"],[0.7777777777777778,\"#fb9f3a\"],[0.8888888888888888,\"#fdca26\"],[1.0,\"#f0f921\"]],\"type\":\"heatmap\"}],\"heatmapgl\":[{\"colorbar\":{\"outlinewidth\":0,\"ticks\":\"\"},\"colorscale\":[[0.0,\"#0d0887\"],[0.1111111111111111,\"#46039f\"],[0.2222222222222222,\"#7201a8\"],[0.3333333333333333,\"#9c179e\"],[0.4444444444444444,\"#bd3786\"],[0.5555555555555556,\"#d8576b\"],[0.6666666666666666,\"#ed7953\"],[0.7777777777777778,\"#fb9f3a\"],[0.8888888888888888,\"#fdca26\"],[1.0,\"#f0f921\"]],\"type\":\"heatmapgl\"}],\"histogram\":[{\"marker\":{\"pattern\":{\"fillmode\":\"overlay\",\"size\":10,\"solidity\":0.2}},\"type\":\"histogram\"}],\"histogram2d\":[{\"colorbar\":{\"outlinewidth\":0,\"ticks\":\"\"},\"colorscale\":[[0.0,\"#0d0887\"],[0.1111111111111111,\"#46039f\"],[0.2222222222222222,\"#7201a8\"],[0.3333333333333333,\"#9c179e\"],[0.4444444444444444,\"#bd3786\"],[0.5555555555555556,\"#d8576b\"],[0.6666666666666666,\"#ed7953\"],[0.7777777777777778,\"#fb9f3a\"],[0.8888888888888888,\"#fdca26\"],[1.0,\"#f0f921\"]],\"type\":\"histogram2d\"}],\"histogram2dcontour\":[{\"colorbar\":{\"outlinewidth\":0,\"ticks\":\"\"},\"colorscale\":[[0.0,\"#0d0887\"],[0.1111111111111111,\"#46039f\"],[0.2222222222222222,\"#7201a8\"],[0.3333333333333333,\"#9c179e\"],[0.4444444444444444,\"#bd3786\"],[0.5555555555555556,\"#d8576b\"],[0.6666666666666666,\"#ed7953\"],[0.7777777777777778,\"#fb9f3a\"],[0.8888888888888888,\"#fdca26\"],[1.0,\"#f0f921\"]],\"type\":\"histogram2dcontour\"}],\"mesh3d\":[{\"colorbar\":{\"outlinewidth\":0,\"ticks\":\"\"},\"type\":\"mesh3d\"}],\"parcoords\":[{\"line\":{\"colorbar\":{\"outlinewidth\":0,\"ticks\":\"\"}},\"type\":\"parcoords\"}],\"pie\":[{\"automargin\":true,\"type\":\"pie\"}],\"scatter\":[{\"marker\":{\"colorbar\":{\"outlinewidth\":0,\"ticks\":\"\"}},\"type\":\"scatter\"}],\"scatter3d\":[{\"line\":{\"colorbar\":{\"outlinewidth\":0,\"ticks\":\"\"}},\"marker\":{\"colorbar\":{\"outlinewidth\":0,\"ticks\":\"\"}},\"type\":\"scatter3d\"}],\"scattercarpet\":[{\"marker\":{\"colorbar\":{\"outlinewidth\":0,\"ticks\":\"\"}},\"type\":\"scattercarpet\"}],\"scattergeo\":[{\"marker\":{\"colorbar\":{\"outlinewidth\":0,\"ticks\":\"\"}},\"type\":\"scattergeo\"}],\"scattergl\":[{\"marker\":{\"colorbar\":{\"outlinewidth\":0,\"ticks\":\"\"}},\"type\":\"scattergl\"}],\"scattermapbox\":[{\"marker\":{\"colorbar\":{\"outlinewidth\":0,\"ticks\":\"\"}},\"type\":\"scattermapbox\"}],\"scatterpolar\":[{\"marker\":{\"colorbar\":{\"outlinewidth\":0,\"ticks\":\"\"}},\"type\":\"scatterpolar\"}],\"scatterpolargl\":[{\"marker\":{\"colorbar\":{\"outlinewidth\":0,\"ticks\":\"\"}},\"type\":\"scatterpolargl\"}],\"scatterternary\":[{\"marker\":{\"colorbar\":{\"outlinewidth\":0,\"ticks\":\"\"}},\"type\":\"scatterternary\"}],\"surface\":[{\"colorbar\":{\"outlinewidth\":0,\"ticks\":\"\"},\"colorscale\":[[0.0,\"#0d0887\"],[0.1111111111111111,\"#46039f\"],[0.2222222222222222,\"#7201a8\"],[0.3333333333333333,\"#9c179e\"],[0.4444444444444444,\"#bd3786\"],[0.5555555555555556,\"#d8576b\"],[0.6666666666666666,\"#ed7953\"],[0.7777777777777778,\"#fb9f3a\"],[0.8888888888888888,\"#fdca26\"],[1.0,\"#f0f921\"]],\"type\":\"surface\"}],\"table\":[{\"cells\":{\"fill\":{\"color\":\"#EBF0F8\"},\"line\":{\"color\":\"white\"}},\"header\":{\"fill\":{\"color\":\"#C8D4E3\"},\"line\":{\"color\":\"white\"}},\"type\":\"table\"}]},\"layout\":{\"annotationdefaults\":{\"arrowcolor\":\"#2a3f5f\",\"arrowhead\":0,\"arrowwidth\":1},\"autotypenumbers\":\"strict\",\"coloraxis\":{\"colorbar\":{\"outlinewidth\":0,\"ticks\":\"\"}},\"colorscale\":{\"diverging\":[[0,\"#8e0152\"],[0.1,\"#c51b7d\"],[0.2,\"#de77ae\"],[0.3,\"#f1b6da\"],[0.4,\"#fde0ef\"],[0.5,\"#f7f7f7\"],[0.6,\"#e6f5d0\"],[0.7,\"#b8e186\"],[0.8,\"#7fbc41\"],[0.9,\"#4d9221\"],[1,\"#276419\"]],\"sequential\":[[0.0,\"#0d0887\"],[0.1111111111111111,\"#46039f\"],[0.2222222222222222,\"#7201a8\"],[0.3333333333333333,\"#9c179e\"],[0.4444444444444444,\"#bd3786\"],[0.5555555555555556,\"#d8576b\"],[0.6666666666666666,\"#ed7953\"],[0.7777777777777778,\"#fb9f3a\"],[0.8888888888888888,\"#fdca26\"],[1.0,\"#f0f921\"]],\"sequentialminus\":[[0.0,\"#0d0887\"],[0.1111111111111111,\"#46039f\"],[0.2222222222222222,\"#7201a8\"],[0.3333333333333333,\"#9c179e\"],[0.4444444444444444,\"#bd3786\"],[0.5555555555555556,\"#d8576b\"],[0.6666666666666666,\"#ed7953\"],[0.7777777777777778,\"#fb9f3a\"],[0.8888888888888888,\"#fdca26\"],[1.0,\"#f0f921\"]]},\"colorway\":[\"#636efa\",\"#EF553B\",\"#00cc96\",\"#ab63fa\",\"#FFA15A\",\"#19d3f3\",\"#FF6692\",\"#B6E880\",\"#FF97FF\",\"#FECB52\"],\"font\":{\"color\":\"#2a3f5f\"},\"geo\":{\"bgcolor\":\"white\",\"lakecolor\":\"white\",\"landcolor\":\"#E5ECF6\",\"showlakes\":true,\"showland\":true,\"subunitcolor\":\"white\"},\"hoverlabel\":{\"align\":\"left\"},\"hovermode\":\"closest\",\"mapbox\":{\"style\":\"light\"},\"paper_bgcolor\":\"white\",\"plot_bgcolor\":\"#E5ECF6\",\"polar\":{\"angularaxis\":{\"gridcolor\":\"white\",\"linecolor\":\"white\",\"ticks\":\"\"},\"bgcolor\":\"#E5ECF6\",\"radialaxis\":{\"gridcolor\":\"white\",\"linecolor\":\"white\",\"ticks\":\"\"}},\"scene\":{\"xaxis\":{\"backgroundcolor\":\"#E5ECF6\",\"gridcolor\":\"white\",\"gridwidth\":2,\"linecolor\":\"white\",\"showbackground\":true,\"ticks\":\"\",\"zerolinecolor\":\"white\"},\"yaxis\":{\"backgroundcolor\":\"#E5ECF6\",\"gridcolor\":\"white\",\"gridwidth\":2,\"linecolor\":\"white\",\"showbackground\":true,\"ticks\":\"\",\"zerolinecolor\":\"white\"},\"zaxis\":{\"backgroundcolor\":\"#E5ECF6\",\"gridcolor\":\"white\",\"gridwidth\":2,\"linecolor\":\"white\",\"showbackground\":true,\"ticks\":\"\",\"zerolinecolor\":\"white\"}},\"shapedefaults\":{\"line\":{\"color\":\"#2a3f5f\"}},\"ternary\":{\"aaxis\":{\"gridcolor\":\"white\",\"linecolor\":\"white\",\"ticks\":\"\"},\"baxis\":{\"gridcolor\":\"white\",\"linecolor\":\"white\",\"ticks\":\"\"},\"bgcolor\":\"#E5ECF6\",\"caxis\":{\"gridcolor\":\"white\",\"linecolor\":\"white\",\"ticks\":\"\"}},\"title\":{\"x\":0.05},\"xaxis\":{\"automargin\":true,\"gridcolor\":\"white\",\"linecolor\":\"white\",\"ticks\":\"\",\"title\":{\"standoff\":15},\"zerolinecolor\":\"white\",\"zerolinewidth\":2},\"yaxis\":{\"automargin\":true,\"gridcolor\":\"white\",\"linecolor\":\"white\",\"ticks\":\"\",\"title\":{\"standoff\":15},\"zerolinecolor\":\"white\",\"zerolinewidth\":2}}},\"xaxis\":{\"title\":{\"text\":\"$\\\\alpha$\"}},\"yaxis\":{\"title\":{\"text\":\"$Q_{EF}$\"}}},                        {\"responsive\": true}                    ).then(function(){\n",
       "                            \n",
       "var gd = document.getElementById('072e076d-be65-42c9-93d2-5006110745c6');\n",
       "var x = new MutationObserver(function (mutations, observer) {{\n",
       "        var display = window.getComputedStyle(gd).display;\n",
       "        if (!display || display === 'none') {{\n",
       "            console.log([gd, 'removed!']);\n",
       "            Plotly.purge(gd);\n",
       "            observer.disconnect();\n",
       "        }}\n",
       "}});\n",
       "\n",
       "// Listen for the removal of the full notebook cells\n",
       "var notebookContainer = gd.closest('#notebook-container');\n",
       "if (notebookContainer) {{\n",
       "    x.observe(notebookContainer, {childList: true});\n",
       "}}\n",
       "\n",
       "// Listen for the clearing of the current output cell\n",
       "var outputEl = gd.closest('.output');\n",
       "if (outputEl) {{\n",
       "    x.observe(outputEl, {childList: true});\n",
       "}}\n",
       "\n",
       "                        })                };                });            </script>        </div>"
      ]
     },
     "metadata": {},
     "output_type": "display_data"
    }
   ],
   "source": [
    "modularity_set_ef = {name: define_modularity_set('ef', brute_partitions[name], graph_layers, alpha_order, node_list) \n",
    "                     for name in ['sf', 'ef', 'lf']}\n",
    "plot_dots_2d(modularity_set_ef, '$Q_{EF}$', 'data/plots/toy1/toy1_ef.pdf')"
   ]
  },
  {
   "cell_type": "code",
   "execution_count": 13,
   "metadata": {
    "scrolled": false
   },
   "outputs": [
    {
     "data": {
      "application/vnd.jupyter.widget-view+json": {
       "model_id": "",
       "version_major": 2,
       "version_minor": 0
      },
      "text/plain": [
       "HBox(children=(IntProgress(value=0, max=21), HTML(value='')))"
      ]
     },
     "metadata": {},
     "output_type": "display_data"
    },
    {
     "name": "stdout",
     "output_type": "stream",
     "text": [
      "\r"
     ]
    },
    {
     "data": {
      "application/vnd.jupyter.widget-view+json": {
       "model_id": "",
       "version_major": 2,
       "version_minor": 0
      },
      "text/plain": [
       "HBox(children=(IntProgress(value=0, max=21), HTML(value='')))"
      ]
     },
     "metadata": {},
     "output_type": "display_data"
    },
    {
     "name": "stdout",
     "output_type": "stream",
     "text": [
      "\r"
     ]
    },
    {
     "data": {
      "application/vnd.jupyter.widget-view+json": {
       "model_id": "",
       "version_major": 2,
       "version_minor": 0
      },
      "text/plain": [
       "HBox(children=(IntProgress(value=0, max=21), HTML(value='')))"
      ]
     },
     "metadata": {},
     "output_type": "display_data"
    },
    {
     "name": "stdout",
     "output_type": "stream",
     "text": [
      "\r"
     ]
    },
    {
     "data": {
      "application/vnd.plotly.v1+json": {
       "config": {
        "plotlyServerURL": "https://plot.ly"
       },
       "data": [
        {
         "line": {
          "color": "olivedrab",
          "dash": "dash",
          "width": 2
         },
         "marker": {
          "size": 15
         },
         "mode": "markers",
         "name": "Early Fusion",
         "type": "scatter",
         "x": [
          0,
          0,
          0,
          0,
          0,
          0,
          0,
          0,
          0.05,
          0.05,
          0.05,
          0.05,
          0.05,
          0.05,
          0.05,
          0.05,
          0.1,
          0.1,
          0.1,
          0.1,
          0.1,
          0.1,
          0.1,
          0.1,
          0.15000000000000002,
          0.15000000000000002,
          0.15000000000000002,
          0.15000000000000002,
          0.15000000000000002,
          0.15000000000000002,
          0.15000000000000002,
          0.15000000000000002,
          0.2,
          0.2,
          0.2,
          0.2,
          0.2,
          0.2,
          0.2,
          0.2,
          0.25,
          0.25,
          0.25,
          0.25,
          0.25,
          0.25,
          0.25,
          0.25,
          0.30000000000000004,
          0.30000000000000004,
          0.30000000000000004,
          0.30000000000000004,
          0.30000000000000004,
          0.30000000000000004,
          0.30000000000000004,
          0.30000000000000004,
          0.35000000000000003,
          0.35000000000000003,
          0.35000000000000003,
          0.35000000000000003,
          0.35000000000000003,
          0.35000000000000003,
          0.35000000000000003,
          0.35000000000000003,
          0.4,
          0.4,
          0.4,
          0.4,
          0.4,
          0.4,
          0.4,
          0.4,
          0.45,
          0.45,
          0.45,
          0.45,
          0.45,
          0.45,
          0.45,
          0.45,
          0.5,
          0.5,
          0.5,
          0.5,
          0.5,
          0.5,
          0.5,
          0.5,
          0.55,
          0.55,
          0.55,
          0.55,
          0.55,
          0.55,
          0.55,
          0.55,
          0.6000000000000001,
          0.6000000000000001,
          0.6000000000000001,
          0.6000000000000001,
          0.6000000000000001,
          0.6000000000000001,
          0.6000000000000001,
          0.6000000000000001,
          0.65,
          0.65,
          0.65,
          0.65,
          0.65,
          0.65,
          0.65,
          0.65,
          0.7000000000000001,
          0.7000000000000001,
          0.7000000000000001,
          0.7000000000000001,
          0.7000000000000001,
          0.7000000000000001,
          0.7000000000000001,
          0.7000000000000001,
          0.75,
          0.75,
          0.75,
          0.75,
          0.75,
          0.75,
          0.75,
          0.75,
          0.8,
          0.8,
          0.8,
          0.8,
          0.8,
          0.8,
          0.8,
          0.8,
          0.8500000000000001,
          0.8500000000000001,
          0.8500000000000001,
          0.8500000000000001,
          0.8500000000000001,
          0.8500000000000001,
          0.8500000000000001,
          0.8500000000000001,
          0.9,
          0.9,
          0.9,
          0.9,
          0.9,
          0.9,
          0.9,
          0.9,
          0.9500000000000001,
          0.9500000000000001,
          0.9500000000000001,
          0.9500000000000001,
          0.9500000000000001,
          0.9500000000000001,
          0.9500000000000001,
          0.9500000000000001,
          1,
          1,
          1,
          1,
          1,
          1,
          1,
          1
         ],
         "y": [
          0.357559561895442,
          0.357559561895442,
          0.357559561895442,
          0.357559561895442,
          0.357559561895442,
          0.357559561895442,
          0.357559561895442,
          0.357559561895442,
          0.3650311894265874,
          0.3650311894265874,
          0.3650311894265874,
          0.3650311894265874,
          0.3650311894265874,
          0.3650311894265874,
          0.3650311894265874,
          0.3650311894265874,
          0.3723015426813203,
          0.3723015426813203,
          0.3723015426813203,
          0.3723015426813203,
          0.3723015426813203,
          0.3723015426813203,
          0.3723015426813203,
          0.3723015426813203,
          0.37937062165964086,
          0.37937062165964086,
          0.37937062165964086,
          0.37937062165964086,
          0.37937062165964086,
          0.37937062165964086,
          0.37937062165964086,
          0.37937062165964086,
          0.38623842636154926,
          0.38623842636154926,
          0.38623842636154926,
          0.38623842636154926,
          0.38623842636154926,
          0.38623842636154926,
          0.38623842636154926,
          0.38623842636154926,
          0.39290495678704507,
          0.39290495678704507,
          0.39290495678704507,
          0.39290495678704507,
          0.39290495678704507,
          0.39290495678704507,
          0.39290495678704507,
          0.39290495678704507,
          0.3993702129361285,
          0.3993702129361285,
          0.3993702129361285,
          0.3993702129361285,
          0.3993702129361285,
          0.3993702129361285,
          0.3993702129361285,
          0.3993702129361285,
          0.40563419480879986,
          0.40563419480879986,
          0.40563419480879986,
          0.40563419480879986,
          0.40563419480879986,
          0.40563419480879986,
          0.40563419480879986,
          0.40563419480879986,
          0.41169690240505846,
          0.41169690240505846,
          0.41169690240505846,
          0.41169690240505846,
          0.41169690240505846,
          0.41169690240505846,
          0.41169690240505846,
          0.41169690240505846,
          0.41755833572490486,
          0.41755833572490486,
          0.41755833572490486,
          0.41755833572490486,
          0.41755833572490486,
          0.41755833572490486,
          0.41755833572490486,
          0.41755833572490486,
          0.42321849476833906,
          0.42321849476833906,
          0.42321849476833906,
          0.42321849476833906,
          0.42321849476833906,
          0.42321849476833906,
          0.42321849476833906,
          0.42321849476833906,
          0.42867737953536067,
          0.42867737953536067,
          0.42867737953536067,
          0.42867737953536067,
          0.42867737953536067,
          0.42867737953536067,
          0.42867737953536067,
          0.42867737953536067,
          0.4339349900259702,
          0.4339349900259702,
          0.4339349900259702,
          0.4339349900259702,
          0.4339349900259702,
          0.4339349900259702,
          0.4339349900259702,
          0.4339349900259702,
          0.43899132624016723,
          0.43899132624016723,
          0.43899132624016723,
          0.43899132624016723,
          0.43899132624016723,
          0.43899132624016723,
          0.43899132624016723,
          0.43899132624016723,
          0.4438463881779518,
          0.4438463881779518,
          0.4438463881779518,
          0.4438463881779518,
          0.4438463881779518,
          0.4438463881779518,
          0.4438463881779518,
          0.4438463881779518,
          0.4485001758393239,
          0.4485001758393239,
          0.4485001758393239,
          0.4485001758393239,
          0.4485001758393239,
          0.4485001758393239,
          0.4485001758393239,
          0.4485001758393239,
          0.452952689224284,
          0.452952689224284,
          0.452952689224284,
          0.452952689224284,
          0.452952689224284,
          0.452952689224284,
          0.452952689224284,
          0.452952689224284,
          0.45720392833283163,
          0.45720392833283163,
          0.45720392833283163,
          0.45720392833283163,
          0.45720392833283163,
          0.45720392833283163,
          0.45720392833283163,
          0.45720392833283163,
          0.46125389316496684,
          0.46125389316496684,
          0.46125389316496684,
          0.46125389316496684,
          0.46125389316496684,
          0.46125389316496684,
          0.46125389316496684,
          0.46125389316496684,
          0.46510258372068947,
          0.46510258372068947,
          0.46510258372068947,
          0.46510258372068947,
          0.46510258372068947,
          0.46510258372068947,
          0.46510258372068947,
          0.46510258372068947,
          0.4687500000000001,
          0.4687500000000001,
          0.4687500000000001,
          0.4687500000000001,
          0.4687500000000001,
          0.4687500000000001,
          0.4687500000000001,
          0.4687500000000001
         ]
        },
        {
         "line": {
          "color": "deepskyblue",
          "dash": "dash",
          "width": 2
         },
         "marker": {
          "size": 10
         },
         "mode": "markers",
         "name": "Simultaneous Fusion",
         "type": "scatter",
         "x": [
          0,
          0,
          0,
          0,
          0,
          0,
          0,
          0,
          0.05,
          0.05,
          0.05,
          0.05,
          0.05,
          0.05,
          0.05,
          0.05,
          0.1,
          0.1,
          0.1,
          0.1,
          0.1,
          0.1,
          0.1,
          0.1,
          0.15000000000000002,
          0.15000000000000002,
          0.15000000000000002,
          0.15000000000000002,
          0.15000000000000002,
          0.15000000000000002,
          0.15000000000000002,
          0.15000000000000002,
          0.2,
          0.2,
          0.2,
          0.2,
          0.2,
          0.2,
          0.2,
          0.2,
          0.25,
          0.25,
          0.25,
          0.25,
          0.25,
          0.25,
          0.25,
          0.25,
          0.30000000000000004,
          0.30000000000000004,
          0.30000000000000004,
          0.30000000000000004,
          0.30000000000000004,
          0.30000000000000004,
          0.30000000000000004,
          0.30000000000000004,
          0.35000000000000003,
          0.35000000000000003,
          0.35000000000000003,
          0.35000000000000003,
          0.35000000000000003,
          0.35000000000000003,
          0.35000000000000003,
          0.35000000000000003,
          0.4,
          0.4,
          0.4,
          0.4,
          0.4,
          0.4,
          0.4,
          0.4,
          0.45,
          0.45,
          0.45,
          0.45,
          0.45,
          0.45,
          0.45,
          0.45,
          0.5,
          0.5,
          0.5,
          0.5,
          0.5,
          0.5,
          0.5,
          0.5,
          0.55,
          0.55,
          0.55,
          0.55,
          0.55,
          0.55,
          0.55,
          0.55,
          0.6000000000000001,
          0.6000000000000001,
          0.6000000000000001,
          0.6000000000000001,
          0.6000000000000001,
          0.6000000000000001,
          0.6000000000000001,
          0.6000000000000001,
          0.65,
          0.65,
          0.65,
          0.65,
          0.65,
          0.65,
          0.65,
          0.65,
          0.7000000000000001,
          0.7000000000000001,
          0.7000000000000001,
          0.7000000000000001,
          0.7000000000000001,
          0.7000000000000001,
          0.7000000000000001,
          0.7000000000000001,
          0.75,
          0.75,
          0.75,
          0.75,
          0.75,
          0.75,
          0.75,
          0.75,
          0.8,
          0.8,
          0.8,
          0.8,
          0.8,
          0.8,
          0.8,
          0.8,
          0.8500000000000001,
          0.8500000000000001,
          0.8500000000000001,
          0.8500000000000001,
          0.8500000000000001,
          0.8500000000000001,
          0.8500000000000001,
          0.8500000000000001,
          0.9,
          0.9,
          0.9,
          0.9,
          0.9,
          0.9,
          0.9,
          0.9,
          0.9500000000000001,
          0.9500000000000001,
          0.9500000000000001,
          0.9500000000000001,
          0.9500000000000001,
          0.9500000000000001,
          0.9500000000000001,
          0.9500000000000001,
          1,
          1,
          1,
          1,
          1,
          1,
          1,
          1
         ],
         "y": [
          0.357559561895442,
          0.357559561895442,
          0.357559561895442,
          0.357559561895442,
          0.357559561895442,
          0.357559561895442,
          0.357559561895442,
          0.357559561895442,
          0.3650311894265874,
          0.3650311894265874,
          0.3650311894265874,
          0.3650311894265874,
          0.3650311894265874,
          0.3650311894265874,
          0.3650311894265874,
          0.3650311894265874,
          0.3723015426813203,
          0.3723015426813203,
          0.3723015426813203,
          0.3723015426813203,
          0.3723015426813203,
          0.3723015426813203,
          0.3723015426813203,
          0.3723015426813203,
          0.37937062165964086,
          0.37937062165964086,
          0.37937062165964086,
          0.37937062165964086,
          0.37937062165964086,
          0.37937062165964086,
          0.37937062165964086,
          0.37937062165964086,
          0.38623842636154926,
          0.38623842636154926,
          0.38623842636154926,
          0.38623842636154926,
          0.38623842636154926,
          0.38623842636154926,
          0.38623842636154926,
          0.38623842636154926,
          0.39290495678704507,
          0.39290495678704507,
          0.39290495678704507,
          0.39290495678704507,
          0.39290495678704507,
          0.39290495678704507,
          0.39290495678704507,
          0.39290495678704507,
          0.3993702129361285,
          0.3993702129361285,
          0.3993702129361285,
          0.3993702129361285,
          0.3993702129361285,
          0.3993702129361285,
          0.3993702129361285,
          0.3993702129361285,
          0.40563419480879986,
          0.40563419480879986,
          0.40563419480879986,
          0.40563419480879986,
          0.40563419480879986,
          0.40563419480879986,
          0.40563419480879986,
          0.40563419480879986,
          0.41169690240505846,
          0.41169690240505846,
          0.41169690240505846,
          0.41169690240505846,
          0.41169690240505846,
          0.41169690240505846,
          0.41169690240505846,
          0.41169690240505846,
          0.41755833572490486,
          0.41755833572490486,
          0.41755833572490486,
          0.41755833572490486,
          0.41755833572490486,
          0.41755833572490486,
          0.41755833572490486,
          0.41755833572490486,
          0.42321849476833906,
          0.42321849476833906,
          0.42321849476833906,
          0.42321849476833906,
          0.42321849476833906,
          0.42321849476833906,
          0.42321849476833906,
          0.42321849476833906,
          0.42867737953536067,
          0.42867737953536067,
          0.42867737953536067,
          0.42867737953536067,
          0.42867737953536067,
          0.42867737953536067,
          0.42867737953536067,
          0.42867737953536067,
          0.4339349900259702,
          0.4339349900259702,
          0.4339349900259702,
          0.4339349900259702,
          0.4339349900259702,
          0.4339349900259702,
          0.4339349900259702,
          0.4339349900259702,
          0.43899132624016723,
          0.43899132624016723,
          0.43899132624016723,
          0.43899132624016723,
          0.43899132624016723,
          0.43899132624016723,
          0.43899132624016723,
          0.43899132624016723,
          0.4438463881779518,
          0.4438463881779518,
          0.4438463881779518,
          0.4438463881779518,
          0.4438463881779518,
          0.4438463881779518,
          0.4438463881779518,
          0.4438463881779518,
          0.4485001758393239,
          0.4485001758393239,
          0.4485001758393239,
          0.4485001758393239,
          0.4485001758393239,
          0.4485001758393239,
          0.4485001758393239,
          0.4485001758393239,
          0.452952689224284,
          0.452952689224284,
          0.452952689224284,
          0.452952689224284,
          0.452952689224284,
          0.452952689224284,
          0.452952689224284,
          0.452952689224284,
          0.45720392833283163,
          0.45720392833283163,
          0.45720392833283163,
          0.45720392833283163,
          0.45720392833283163,
          0.45720392833283163,
          0.45720392833283163,
          0.45720392833283163,
          0.46125389316496684,
          0.46125389316496684,
          0.46125389316496684,
          0.46125389316496684,
          0.46125389316496684,
          0.46125389316496684,
          0.46125389316496684,
          0.46125389316496684,
          0.46510258372068947,
          0.46510258372068947,
          0.46510258372068947,
          0.46510258372068947,
          0.46510258372068947,
          0.46510258372068947,
          0.46510258372068947,
          0.46510258372068947,
          0.4687500000000001,
          0.4687500000000001,
          0.4687500000000001,
          0.4687500000000001,
          0.4687500000000001,
          0.4687500000000001,
          0.4687500000000001,
          0.4687500000000001
         ]
        },
        {
         "line": {
          "color": "tomato",
          "dash": "dash",
          "width": 2
         },
         "marker": {
          "size": 7
         },
         "mode": "markers",
         "name": "Late Fusion",
         "type": "scatter",
         "x": [
          0,
          0,
          0,
          0,
          0,
          0,
          0,
          0,
          0,
          0,
          0,
          0,
          0,
          0,
          0,
          0,
          0,
          0,
          0,
          0,
          0,
          0,
          0,
          0,
          0,
          0,
          0,
          0,
          0,
          0,
          0,
          0,
          0.05,
          0.05,
          0.05,
          0.05,
          0.05,
          0.05,
          0.05,
          0.05,
          0.05,
          0.05,
          0.05,
          0.05,
          0.05,
          0.05,
          0.05,
          0.05,
          0.05,
          0.05,
          0.05,
          0.05,
          0.05,
          0.05,
          0.05,
          0.05,
          0.05,
          0.05,
          0.05,
          0.05,
          0.05,
          0.05,
          0.05,
          0.05,
          0.1,
          0.1,
          0.1,
          0.1,
          0.1,
          0.1,
          0.1,
          0.1,
          0.1,
          0.1,
          0.1,
          0.1,
          0.1,
          0.1,
          0.1,
          0.1,
          0.1,
          0.1,
          0.1,
          0.1,
          0.1,
          0.1,
          0.1,
          0.1,
          0.1,
          0.1,
          0.1,
          0.1,
          0.1,
          0.1,
          0.1,
          0.1,
          0.15000000000000002,
          0.15000000000000002,
          0.15000000000000002,
          0.15000000000000002,
          0.15000000000000002,
          0.15000000000000002,
          0.15000000000000002,
          0.15000000000000002,
          0.15000000000000002,
          0.15000000000000002,
          0.15000000000000002,
          0.15000000000000002,
          0.15000000000000002,
          0.15000000000000002,
          0.15000000000000002,
          0.15000000000000002,
          0.15000000000000002,
          0.15000000000000002,
          0.15000000000000002,
          0.15000000000000002,
          0.15000000000000002,
          0.15000000000000002,
          0.15000000000000002,
          0.15000000000000002,
          0.15000000000000002,
          0.15000000000000002,
          0.15000000000000002,
          0.15000000000000002,
          0.15000000000000002,
          0.15000000000000002,
          0.15000000000000002,
          0.15000000000000002,
          0.2,
          0.2,
          0.2,
          0.2,
          0.2,
          0.2,
          0.2,
          0.2,
          0.2,
          0.2,
          0.2,
          0.2,
          0.2,
          0.2,
          0.2,
          0.2,
          0.2,
          0.2,
          0.2,
          0.2,
          0.2,
          0.2,
          0.2,
          0.2,
          0.2,
          0.2,
          0.2,
          0.2,
          0.2,
          0.2,
          0.2,
          0.2,
          0.25,
          0.25,
          0.25,
          0.25,
          0.25,
          0.25,
          0.25,
          0.25,
          0.25,
          0.25,
          0.25,
          0.25,
          0.25,
          0.25,
          0.25,
          0.25,
          0.25,
          0.25,
          0.25,
          0.25,
          0.25,
          0.25,
          0.25,
          0.25,
          0.25,
          0.25,
          0.25,
          0.25,
          0.25,
          0.25,
          0.25,
          0.25,
          0.30000000000000004,
          0.30000000000000004,
          0.30000000000000004,
          0.30000000000000004,
          0.30000000000000004,
          0.30000000000000004,
          0.30000000000000004,
          0.30000000000000004,
          0.30000000000000004,
          0.30000000000000004,
          0.30000000000000004,
          0.30000000000000004,
          0.30000000000000004,
          0.30000000000000004,
          0.30000000000000004,
          0.30000000000000004,
          0.30000000000000004,
          0.30000000000000004,
          0.30000000000000004,
          0.30000000000000004,
          0.30000000000000004,
          0.30000000000000004,
          0.30000000000000004,
          0.30000000000000004,
          0.30000000000000004,
          0.30000000000000004,
          0.30000000000000004,
          0.30000000000000004,
          0.30000000000000004,
          0.30000000000000004,
          0.30000000000000004,
          0.30000000000000004,
          0.35000000000000003,
          0.35000000000000003,
          0.35000000000000003,
          0.35000000000000003,
          0.35000000000000003,
          0.35000000000000003,
          0.35000000000000003,
          0.35000000000000003,
          0.35000000000000003,
          0.35000000000000003,
          0.35000000000000003,
          0.35000000000000003,
          0.35000000000000003,
          0.35000000000000003,
          0.35000000000000003,
          0.35000000000000003,
          0.35000000000000003,
          0.35000000000000003,
          0.35000000000000003,
          0.35000000000000003,
          0.35000000000000003,
          0.35000000000000003,
          0.35000000000000003,
          0.35000000000000003,
          0.35000000000000003,
          0.35000000000000003,
          0.35000000000000003,
          0.35000000000000003,
          0.35000000000000003,
          0.35000000000000003,
          0.35000000000000003,
          0.35000000000000003,
          0.4,
          0.4,
          0.4,
          0.4,
          0.4,
          0.4,
          0.4,
          0.4,
          0.4,
          0.4,
          0.4,
          0.4,
          0.4,
          0.4,
          0.4,
          0.4,
          0.4,
          0.4,
          0.4,
          0.4,
          0.4,
          0.4,
          0.4,
          0.4,
          0.4,
          0.4,
          0.4,
          0.4,
          0.4,
          0.4,
          0.4,
          0.4,
          0.45,
          0.45,
          0.45,
          0.45,
          0.45,
          0.45,
          0.45,
          0.45,
          0.45,
          0.45,
          0.45,
          0.45,
          0.45,
          0.45,
          0.45,
          0.45,
          0.45,
          0.45,
          0.45,
          0.45,
          0.45,
          0.45,
          0.45,
          0.45,
          0.45,
          0.45,
          0.45,
          0.45,
          0.45,
          0.45,
          0.45,
          0.45,
          0.5,
          0.5,
          0.5,
          0.5,
          0.5,
          0.5,
          0.5,
          0.5,
          0.5,
          0.5,
          0.5,
          0.5,
          0.5,
          0.5,
          0.5,
          0.5,
          0.5,
          0.5,
          0.5,
          0.5,
          0.5,
          0.5,
          0.5,
          0.5,
          0.5,
          0.5,
          0.5,
          0.5,
          0.5,
          0.5,
          0.5,
          0.5,
          0.55,
          0.55,
          0.55,
          0.55,
          0.55,
          0.55,
          0.55,
          0.55,
          0.55,
          0.55,
          0.55,
          0.55,
          0.55,
          0.55,
          0.55,
          0.55,
          0.55,
          0.55,
          0.55,
          0.55,
          0.55,
          0.55,
          0.55,
          0.55,
          0.55,
          0.55,
          0.55,
          0.55,
          0.55,
          0.55,
          0.55,
          0.55,
          0.6000000000000001,
          0.6000000000000001,
          0.6000000000000001,
          0.6000000000000001,
          0.6000000000000001,
          0.6000000000000001,
          0.6000000000000001,
          0.6000000000000001,
          0.6000000000000001,
          0.6000000000000001,
          0.6000000000000001,
          0.6000000000000001,
          0.6000000000000001,
          0.6000000000000001,
          0.6000000000000001,
          0.6000000000000001,
          0.6000000000000001,
          0.6000000000000001,
          0.6000000000000001,
          0.6000000000000001,
          0.6000000000000001,
          0.6000000000000001,
          0.6000000000000001,
          0.6000000000000001,
          0.6000000000000001,
          0.6000000000000001,
          0.6000000000000001,
          0.6000000000000001,
          0.6000000000000001,
          0.6000000000000001,
          0.6000000000000001,
          0.6000000000000001,
          0.65,
          0.65,
          0.65,
          0.65,
          0.65,
          0.65,
          0.65,
          0.65,
          0.65,
          0.65,
          0.65,
          0.65,
          0.65,
          0.65,
          0.65,
          0.65,
          0.65,
          0.65,
          0.65,
          0.65,
          0.65,
          0.65,
          0.65,
          0.65,
          0.65,
          0.65,
          0.65,
          0.65,
          0.65,
          0.65,
          0.65,
          0.65,
          0.7000000000000001,
          0.7000000000000001,
          0.7000000000000001,
          0.7000000000000001,
          0.7000000000000001,
          0.7000000000000001,
          0.7000000000000001,
          0.7000000000000001,
          0.7000000000000001,
          0.7000000000000001,
          0.7000000000000001,
          0.7000000000000001,
          0.7000000000000001,
          0.7000000000000001,
          0.7000000000000001,
          0.7000000000000001,
          0.7000000000000001,
          0.7000000000000001,
          0.7000000000000001,
          0.7000000000000001,
          0.7000000000000001,
          0.7000000000000001,
          0.7000000000000001,
          0.7000000000000001,
          0.7000000000000001,
          0.7000000000000001,
          0.7000000000000001,
          0.7000000000000001,
          0.7000000000000001,
          0.7000000000000001,
          0.7000000000000001,
          0.7000000000000001,
          0.75,
          0.75,
          0.75,
          0.75,
          0.75,
          0.75,
          0.75,
          0.75,
          0.75,
          0.75,
          0.75,
          0.75,
          0.75,
          0.75,
          0.75,
          0.75,
          0.75,
          0.75,
          0.75,
          0.75,
          0.75,
          0.75,
          0.75,
          0.75,
          0.75,
          0.75,
          0.75,
          0.75,
          0.75,
          0.75,
          0.75,
          0.75,
          0.8,
          0.8,
          0.8,
          0.8,
          0.8,
          0.8,
          0.8,
          0.8,
          0.8,
          0.8,
          0.8,
          0.8,
          0.8,
          0.8,
          0.8,
          0.8,
          0.8,
          0.8,
          0.8,
          0.8,
          0.8,
          0.8,
          0.8,
          0.8,
          0.8,
          0.8,
          0.8,
          0.8,
          0.8,
          0.8,
          0.8,
          0.8,
          0.8500000000000001,
          0.8500000000000001,
          0.8500000000000001,
          0.8500000000000001,
          0.8500000000000001,
          0.8500000000000001,
          0.8500000000000001,
          0.8500000000000001,
          0.8500000000000001,
          0.8500000000000001,
          0.8500000000000001,
          0.8500000000000001,
          0.8500000000000001,
          0.8500000000000001,
          0.8500000000000001,
          0.8500000000000001,
          0.8500000000000001,
          0.8500000000000001,
          0.8500000000000001,
          0.8500000000000001,
          0.8500000000000001,
          0.8500000000000001,
          0.8500000000000001,
          0.8500000000000001,
          0.8500000000000001,
          0.8500000000000001,
          0.8500000000000001,
          0.8500000000000001,
          0.8500000000000001,
          0.8500000000000001,
          0.8500000000000001,
          0.8500000000000001,
          0.9,
          0.9,
          0.9,
          0.9,
          0.9,
          0.9,
          0.9,
          0.9,
          0.9,
          0.9,
          0.9,
          0.9,
          0.9,
          0.9,
          0.9,
          0.9,
          0.9,
          0.9,
          0.9,
          0.9,
          0.9,
          0.9,
          0.9,
          0.9,
          0.9,
          0.9,
          0.9,
          0.9,
          0.9,
          0.9,
          0.9,
          0.9,
          0.9500000000000001,
          0.9500000000000001,
          0.9500000000000001,
          0.9500000000000001,
          0.9500000000000001,
          0.9500000000000001,
          0.9500000000000001,
          0.9500000000000001,
          0.9500000000000001,
          0.9500000000000001,
          0.9500000000000001,
          0.9500000000000001,
          0.9500000000000001,
          0.9500000000000001,
          0.9500000000000001,
          0.9500000000000001,
          0.9500000000000001,
          0.9500000000000001,
          0.9500000000000001,
          0.9500000000000001,
          0.9500000000000001,
          0.9500000000000001,
          0.9500000000000001,
          0.9500000000000001,
          0.9500000000000001,
          0.9500000000000001,
          0.9500000000000001,
          0.9500000000000001,
          0.9500000000000001,
          0.9500000000000001,
          0.9500000000000001,
          0.9500000000000001,
          1,
          1,
          1,
          1,
          1,
          1,
          1,
          1,
          1,
          1,
          1,
          1,
          1,
          1,
          1,
          1,
          1,
          1,
          1,
          1,
          1,
          1,
          1,
          1,
          1,
          1,
          1,
          1,
          1,
          1,
          1,
          1
         ],
         "y": [
          0.357559561895442,
          0.357559561895442,
          0.357559561895442,
          0.357559561895442,
          0.357559561895442,
          0.357559561895442,
          0.357559561895442,
          0.357559561895442,
          0.357559561895442,
          0.357559561895442,
          0.357559561895442,
          0.357559561895442,
          0.357559561895442,
          0.357559561895442,
          0.357559561895442,
          0.357559561895442,
          0.357559561895442,
          0.357559561895442,
          0.357559561895442,
          0.357559561895442,
          0.357559561895442,
          0.357559561895442,
          0.357559561895442,
          0.357559561895442,
          0.357559561895442,
          0.357559561895442,
          0.357559561895442,
          0.357559561895442,
          0.357559561895442,
          0.357559561895442,
          0.357559561895442,
          0.357559561895442,
          0.3650311894265874,
          0.3650311894265874,
          0.3650311894265874,
          0.3650311894265874,
          0.3650311894265874,
          0.3650311894265874,
          0.3650311894265874,
          0.3650311894265874,
          0.3650311894265874,
          0.3650311894265874,
          0.3650311894265874,
          0.3650311894265874,
          0.3650311894265874,
          0.3650311894265874,
          0.3650311894265874,
          0.3650311894265874,
          0.3650311894265874,
          0.3650311894265874,
          0.3650311894265874,
          0.3650311894265874,
          0.3650311894265874,
          0.3650311894265874,
          0.3650311894265874,
          0.3650311894265874,
          0.3650311894265874,
          0.3650311894265874,
          0.3650311894265874,
          0.3650311894265874,
          0.3650311894265874,
          0.3650311894265874,
          0.3650311894265874,
          0.3650311894265874,
          0.3723015426813203,
          0.3723015426813203,
          0.3723015426813203,
          0.3723015426813203,
          0.3723015426813203,
          0.3723015426813203,
          0.3723015426813203,
          0.3723015426813203,
          0.3723015426813203,
          0.3723015426813203,
          0.3723015426813203,
          0.3723015426813203,
          0.3723015426813203,
          0.3723015426813203,
          0.3723015426813203,
          0.3723015426813203,
          0.3723015426813203,
          0.3723015426813203,
          0.3723015426813203,
          0.3723015426813203,
          0.3723015426813203,
          0.3723015426813203,
          0.3723015426813203,
          0.3723015426813203,
          0.3723015426813203,
          0.3723015426813203,
          0.3723015426813203,
          0.3723015426813203,
          0.3723015426813203,
          0.3723015426813203,
          0.3723015426813203,
          0.3723015426813203,
          0.37937062165964086,
          0.37937062165964086,
          0.37937062165964086,
          0.37937062165964086,
          0.37937062165964086,
          0.37937062165964086,
          0.37937062165964086,
          0.37937062165964086,
          0.37937062165964086,
          0.37937062165964086,
          0.37937062165964086,
          0.37937062165964086,
          0.37937062165964086,
          0.37937062165964086,
          0.37937062165964086,
          0.37937062165964086,
          0.37937062165964086,
          0.37937062165964086,
          0.37937062165964086,
          0.37937062165964086,
          0.37937062165964086,
          0.37937062165964086,
          0.37937062165964086,
          0.37937062165964086,
          0.37937062165964086,
          0.37937062165964086,
          0.37937062165964086,
          0.37937062165964086,
          0.37937062165964086,
          0.37937062165964086,
          0.37937062165964086,
          0.37937062165964086,
          0.38623842636154926,
          0.38623842636154926,
          0.38623842636154926,
          0.38623842636154926,
          0.38623842636154926,
          0.38623842636154926,
          0.38623842636154926,
          0.38623842636154926,
          0.38623842636154926,
          0.38623842636154926,
          0.38623842636154926,
          0.38623842636154926,
          0.38623842636154926,
          0.38623842636154926,
          0.38623842636154926,
          0.38623842636154926,
          0.38623842636154926,
          0.38623842636154926,
          0.38623842636154926,
          0.38623842636154926,
          0.38623842636154926,
          0.38623842636154926,
          0.38623842636154926,
          0.38623842636154926,
          0.38623842636154926,
          0.38623842636154926,
          0.38623842636154926,
          0.38623842636154926,
          0.38623842636154926,
          0.38623842636154926,
          0.38623842636154926,
          0.38623842636154926,
          0.39290495678704507,
          0.39290495678704507,
          0.39290495678704507,
          0.39290495678704507,
          0.39290495678704507,
          0.39290495678704507,
          0.39290495678704507,
          0.39290495678704507,
          0.39290495678704507,
          0.39290495678704507,
          0.39290495678704507,
          0.39290495678704507,
          0.39290495678704507,
          0.39290495678704507,
          0.39290495678704507,
          0.39290495678704507,
          0.39290495678704507,
          0.39290495678704507,
          0.39290495678704507,
          0.39290495678704507,
          0.39290495678704507,
          0.39290495678704507,
          0.39290495678704507,
          0.39290495678704507,
          0.39290495678704507,
          0.39290495678704507,
          0.39290495678704507,
          0.39290495678704507,
          0.39290495678704507,
          0.39290495678704507,
          0.39290495678704507,
          0.39290495678704507,
          0.3993702129361285,
          0.3993702129361285,
          0.3993702129361285,
          0.3993702129361285,
          0.3993702129361285,
          0.3993702129361285,
          0.3993702129361285,
          0.3993702129361285,
          0.3993702129361285,
          0.3993702129361285,
          0.3993702129361285,
          0.3993702129361285,
          0.3993702129361285,
          0.3993702129361285,
          0.3993702129361285,
          0.3993702129361285,
          0.3993702129361285,
          0.3993702129361285,
          0.3993702129361285,
          0.3993702129361285,
          0.3993702129361285,
          0.3993702129361285,
          0.3993702129361285,
          0.3993702129361285,
          0.3993702129361285,
          0.3993702129361285,
          0.3993702129361285,
          0.3993702129361285,
          0.3993702129361285,
          0.3993702129361285,
          0.3993702129361285,
          0.3993702129361285,
          0.40563419480879986,
          0.40563419480879986,
          0.40563419480879986,
          0.40563419480879986,
          0.40563419480879986,
          0.40563419480879986,
          0.40563419480879986,
          0.40563419480879986,
          0.40563419480879986,
          0.40563419480879986,
          0.40563419480879986,
          0.40563419480879986,
          0.40563419480879986,
          0.40563419480879986,
          0.40563419480879986,
          0.40563419480879986,
          0.40563419480879986,
          0.40563419480879986,
          0.40563419480879986,
          0.40563419480879986,
          0.40563419480879986,
          0.40563419480879986,
          0.40563419480879986,
          0.40563419480879986,
          0.40563419480879986,
          0.40563419480879986,
          0.40563419480879986,
          0.40563419480879986,
          0.40563419480879986,
          0.40563419480879986,
          0.40563419480879986,
          0.40563419480879986,
          0.41169690240505846,
          0.41169690240505846,
          0.41169690240505846,
          0.41169690240505846,
          0.41169690240505846,
          0.41169690240505846,
          0.41169690240505846,
          0.41169690240505846,
          0.41169690240505846,
          0.41169690240505846,
          0.41169690240505846,
          0.41169690240505846,
          0.41169690240505846,
          0.41169690240505846,
          0.41169690240505846,
          0.41169690240505846,
          0.41169690240505846,
          0.41169690240505846,
          0.41169690240505846,
          0.41169690240505846,
          0.41169690240505846,
          0.41169690240505846,
          0.41169690240505846,
          0.41169690240505846,
          0.41169690240505846,
          0.41169690240505846,
          0.41169690240505846,
          0.41169690240505846,
          0.41169690240505846,
          0.41169690240505846,
          0.41169690240505846,
          0.41169690240505846,
          0.41755833572490486,
          0.41755833572490486,
          0.41755833572490486,
          0.41755833572490486,
          0.41755833572490486,
          0.41755833572490486,
          0.41755833572490486,
          0.41755833572490486,
          0.41755833572490486,
          0.41755833572490486,
          0.41755833572490486,
          0.41755833572490486,
          0.41755833572490486,
          0.41755833572490486,
          0.41755833572490486,
          0.41755833572490486,
          0.41755833572490486,
          0.41755833572490486,
          0.41755833572490486,
          0.41755833572490486,
          0.41755833572490486,
          0.41755833572490486,
          0.41755833572490486,
          0.41755833572490486,
          0.41755833572490486,
          0.41755833572490486,
          0.41755833572490486,
          0.41755833572490486,
          0.41755833572490486,
          0.41755833572490486,
          0.41755833572490486,
          0.41755833572490486,
          0.42321849476833906,
          0.42321849476833906,
          0.42321849476833906,
          0.42321849476833906,
          0.42321849476833906,
          0.42321849476833906,
          0.42321849476833906,
          0.42321849476833906,
          0.42321849476833906,
          0.42321849476833906,
          0.42321849476833906,
          0.42321849476833906,
          0.42321849476833906,
          0.42321849476833906,
          0.42321849476833906,
          0.42321849476833906,
          0.42321849476833906,
          0.42321849476833906,
          0.42321849476833906,
          0.42321849476833906,
          0.42321849476833906,
          0.42321849476833906,
          0.42321849476833906,
          0.42321849476833906,
          0.42321849476833906,
          0.42321849476833906,
          0.42321849476833906,
          0.42321849476833906,
          0.42321849476833906,
          0.42321849476833906,
          0.42321849476833906,
          0.42321849476833906,
          0.42867737953536067,
          0.42867737953536067,
          0.42867737953536067,
          0.42867737953536067,
          0.42867737953536067,
          0.42867737953536067,
          0.42867737953536067,
          0.42867737953536067,
          0.42867737953536067,
          0.42867737953536067,
          0.42867737953536067,
          0.42867737953536067,
          0.42867737953536067,
          0.42867737953536067,
          0.42867737953536067,
          0.42867737953536067,
          0.42867737953536067,
          0.42867737953536067,
          0.42867737953536067,
          0.42867737953536067,
          0.42867737953536067,
          0.42867737953536067,
          0.42867737953536067,
          0.42867737953536067,
          0.42867737953536067,
          0.42867737953536067,
          0.42867737953536067,
          0.42867737953536067,
          0.42867737953536067,
          0.42867737953536067,
          0.42867737953536067,
          0.42867737953536067,
          0.4339349900259702,
          0.4339349900259702,
          0.4339349900259702,
          0.4339349900259702,
          0.4339349900259702,
          0.4339349900259702,
          0.4339349900259702,
          0.4339349900259702,
          0.4339349900259702,
          0.4339349900259702,
          0.4339349900259702,
          0.4339349900259702,
          0.4339349900259702,
          0.4339349900259702,
          0.4339349900259702,
          0.4339349900259702,
          0.4339349900259702,
          0.4339349900259702,
          0.4339349900259702,
          0.4339349900259702,
          0.4339349900259702,
          0.4339349900259702,
          0.4339349900259702,
          0.4339349900259702,
          0.4339349900259702,
          0.4339349900259702,
          0.4339349900259702,
          0.4339349900259702,
          0.4339349900259702,
          0.4339349900259702,
          0.4339349900259702,
          0.4339349900259702,
          0.43899132624016723,
          0.43899132624016723,
          0.43899132624016723,
          0.43899132624016723,
          0.43899132624016723,
          0.43899132624016723,
          0.43899132624016723,
          0.43899132624016723,
          0.43899132624016723,
          0.43899132624016723,
          0.43899132624016723,
          0.43899132624016723,
          0.43899132624016723,
          0.43899132624016723,
          0.43899132624016723,
          0.43899132624016723,
          0.43899132624016723,
          0.43899132624016723,
          0.43899132624016723,
          0.43899132624016723,
          0.43899132624016723,
          0.43899132624016723,
          0.43899132624016723,
          0.43899132624016723,
          0.43899132624016723,
          0.43899132624016723,
          0.43899132624016723,
          0.43899132624016723,
          0.43899132624016723,
          0.43899132624016723,
          0.43899132624016723,
          0.43899132624016723,
          0.4438463881779518,
          0.4438463881779518,
          0.4438463881779518,
          0.4438463881779518,
          0.4438463881779518,
          0.4438463881779518,
          0.4438463881779518,
          0.4438463881779518,
          0.4438463881779518,
          0.4438463881779518,
          0.4438463881779518,
          0.4438463881779518,
          0.4438463881779518,
          0.4438463881779518,
          0.4438463881779518,
          0.4438463881779518,
          0.4438463881779518,
          0.4438463881779518,
          0.4438463881779518,
          0.4438463881779518,
          0.4438463881779518,
          0.4438463881779518,
          0.4438463881779518,
          0.4438463881779518,
          0.4438463881779518,
          0.4438463881779518,
          0.4438463881779518,
          0.4438463881779518,
          0.4438463881779518,
          0.4438463881779518,
          0.4438463881779518,
          0.4438463881779518,
          0.4485001758393239,
          0.4485001758393239,
          0.4485001758393239,
          0.4485001758393239,
          0.4485001758393239,
          0.4485001758393239,
          0.4485001758393239,
          0.4485001758393239,
          0.4485001758393239,
          0.4485001758393239,
          0.4485001758393239,
          0.4485001758393239,
          0.4485001758393239,
          0.4485001758393239,
          0.4485001758393239,
          0.4485001758393239,
          0.4485001758393239,
          0.4485001758393239,
          0.4485001758393239,
          0.4485001758393239,
          0.4485001758393239,
          0.4485001758393239,
          0.4485001758393239,
          0.4485001758393239,
          0.4485001758393239,
          0.4485001758393239,
          0.4485001758393239,
          0.4485001758393239,
          0.4485001758393239,
          0.4485001758393239,
          0.4485001758393239,
          0.4485001758393239,
          0.452952689224284,
          0.452952689224284,
          0.452952689224284,
          0.452952689224284,
          0.452952689224284,
          0.452952689224284,
          0.452952689224284,
          0.452952689224284,
          0.452952689224284,
          0.452952689224284,
          0.452952689224284,
          0.452952689224284,
          0.452952689224284,
          0.452952689224284,
          0.452952689224284,
          0.452952689224284,
          0.452952689224284,
          0.452952689224284,
          0.452952689224284,
          0.452952689224284,
          0.452952689224284,
          0.452952689224284,
          0.452952689224284,
          0.452952689224284,
          0.452952689224284,
          0.452952689224284,
          0.452952689224284,
          0.452952689224284,
          0.452952689224284,
          0.452952689224284,
          0.452952689224284,
          0.452952689224284,
          0.45720392833283163,
          0.45720392833283163,
          0.45720392833283163,
          0.45720392833283163,
          0.45720392833283163,
          0.45720392833283163,
          0.45720392833283163,
          0.45720392833283163,
          0.45720392833283163,
          0.45720392833283163,
          0.45720392833283163,
          0.45720392833283163,
          0.45720392833283163,
          0.45720392833283163,
          0.45720392833283163,
          0.45720392833283163,
          0.45720392833283163,
          0.45720392833283163,
          0.45720392833283163,
          0.45720392833283163,
          0.45720392833283163,
          0.45720392833283163,
          0.45720392833283163,
          0.45720392833283163,
          0.45720392833283163,
          0.45720392833283163,
          0.45720392833283163,
          0.45720392833283163,
          0.45720392833283163,
          0.45720392833283163,
          0.45720392833283163,
          0.45720392833283163,
          0.46125389316496684,
          0.46125389316496684,
          0.46125389316496684,
          0.46125389316496684,
          0.46125389316496684,
          0.46125389316496684,
          0.46125389316496684,
          0.46125389316496684,
          0.46125389316496684,
          0.46125389316496684,
          0.46125389316496684,
          0.46125389316496684,
          0.46125389316496684,
          0.46125389316496684,
          0.46125389316496684,
          0.46125389316496684,
          0.46125389316496684,
          0.46125389316496684,
          0.46125389316496684,
          0.46125389316496684,
          0.46125389316496684,
          0.46125389316496684,
          0.46125389316496684,
          0.46125389316496684,
          0.46125389316496684,
          0.46125389316496684,
          0.46125389316496684,
          0.46125389316496684,
          0.46125389316496684,
          0.46125389316496684,
          0.46125389316496684,
          0.46125389316496684,
          0.46510258372068947,
          0.46510258372068947,
          0.46510258372068947,
          0.46510258372068947,
          0.46510258372068947,
          0.46510258372068947,
          0.46510258372068947,
          0.46510258372068947,
          0.46510258372068947,
          0.46510258372068947,
          0.46510258372068947,
          0.46510258372068947,
          0.46510258372068947,
          0.46510258372068947,
          0.46510258372068947,
          0.46510258372068947,
          0.46510258372068947,
          0.46510258372068947,
          0.46510258372068947,
          0.46510258372068947,
          0.46510258372068947,
          0.46510258372068947,
          0.46510258372068947,
          0.46510258372068947,
          0.46510258372068947,
          0.46510258372068947,
          0.46510258372068947,
          0.46510258372068947,
          0.46510258372068947,
          0.46510258372068947,
          0.46510258372068947,
          0.46510258372068947,
          0.4687500000000001,
          0.4687500000000001,
          0.4687500000000001,
          0.4687500000000001,
          0.4687500000000001,
          0.4687500000000001,
          0.4687500000000001,
          0.4687500000000001,
          0.4687500000000001,
          0.4687500000000001,
          0.4687500000000001,
          0.4687500000000001,
          0.4687500000000001,
          0.4687500000000001,
          0.4687500000000001,
          0.4687500000000001,
          0.4687500000000001,
          0.4687500000000001,
          0.4687500000000001,
          0.4687500000000001,
          0.4687500000000001,
          0.4687500000000001,
          0.4687500000000001,
          0.4687500000000001,
          0.4687500000000001,
          0.4687500000000001,
          0.4687500000000001,
          0.4687500000000001,
          0.4687500000000001,
          0.4687500000000001,
          0.4687500000000001,
          0.4687500000000001
         ]
        }
       ],
       "layout": {
        "showlegend": false,
        "template": {
         "data": {
          "bar": [
           {
            "error_x": {
             "color": "#2a3f5f"
            },
            "error_y": {
             "color": "#2a3f5f"
            },
            "marker": {
             "line": {
              "color": "#E5ECF6",
              "width": 0.5
             },
             "pattern": {
              "fillmode": "overlay",
              "size": 10,
              "solidity": 0.2
             }
            },
            "type": "bar"
           }
          ],
          "barpolar": [
           {
            "marker": {
             "line": {
              "color": "#E5ECF6",
              "width": 0.5
             },
             "pattern": {
              "fillmode": "overlay",
              "size": 10,
              "solidity": 0.2
             }
            },
            "type": "barpolar"
           }
          ],
          "carpet": [
           {
            "aaxis": {
             "endlinecolor": "#2a3f5f",
             "gridcolor": "white",
             "linecolor": "white",
             "minorgridcolor": "white",
             "startlinecolor": "#2a3f5f"
            },
            "baxis": {
             "endlinecolor": "#2a3f5f",
             "gridcolor": "white",
             "linecolor": "white",
             "minorgridcolor": "white",
             "startlinecolor": "#2a3f5f"
            },
            "type": "carpet"
           }
          ],
          "choropleth": [
           {
            "colorbar": {
             "outlinewidth": 0,
             "ticks": ""
            },
            "type": "choropleth"
           }
          ],
          "contour": [
           {
            "colorbar": {
             "outlinewidth": 0,
             "ticks": ""
            },
            "colorscale": [
             [
              0,
              "#0d0887"
             ],
             [
              0.1111111111111111,
              "#46039f"
             ],
             [
              0.2222222222222222,
              "#7201a8"
             ],
             [
              0.3333333333333333,
              "#9c179e"
             ],
             [
              0.4444444444444444,
              "#bd3786"
             ],
             [
              0.5555555555555556,
              "#d8576b"
             ],
             [
              0.6666666666666666,
              "#ed7953"
             ],
             [
              0.7777777777777778,
              "#fb9f3a"
             ],
             [
              0.8888888888888888,
              "#fdca26"
             ],
             [
              1,
              "#f0f921"
             ]
            ],
            "type": "contour"
           }
          ],
          "contourcarpet": [
           {
            "colorbar": {
             "outlinewidth": 0,
             "ticks": ""
            },
            "type": "contourcarpet"
           }
          ],
          "heatmap": [
           {
            "colorbar": {
             "outlinewidth": 0,
             "ticks": ""
            },
            "colorscale": [
             [
              0,
              "#0d0887"
             ],
             [
              0.1111111111111111,
              "#46039f"
             ],
             [
              0.2222222222222222,
              "#7201a8"
             ],
             [
              0.3333333333333333,
              "#9c179e"
             ],
             [
              0.4444444444444444,
              "#bd3786"
             ],
             [
              0.5555555555555556,
              "#d8576b"
             ],
             [
              0.6666666666666666,
              "#ed7953"
             ],
             [
              0.7777777777777778,
              "#fb9f3a"
             ],
             [
              0.8888888888888888,
              "#fdca26"
             ],
             [
              1,
              "#f0f921"
             ]
            ],
            "type": "heatmap"
           }
          ],
          "heatmapgl": [
           {
            "colorbar": {
             "outlinewidth": 0,
             "ticks": ""
            },
            "colorscale": [
             [
              0,
              "#0d0887"
             ],
             [
              0.1111111111111111,
              "#46039f"
             ],
             [
              0.2222222222222222,
              "#7201a8"
             ],
             [
              0.3333333333333333,
              "#9c179e"
             ],
             [
              0.4444444444444444,
              "#bd3786"
             ],
             [
              0.5555555555555556,
              "#d8576b"
             ],
             [
              0.6666666666666666,
              "#ed7953"
             ],
             [
              0.7777777777777778,
              "#fb9f3a"
             ],
             [
              0.8888888888888888,
              "#fdca26"
             ],
             [
              1,
              "#f0f921"
             ]
            ],
            "type": "heatmapgl"
           }
          ],
          "histogram": [
           {
            "marker": {
             "pattern": {
              "fillmode": "overlay",
              "size": 10,
              "solidity": 0.2
             }
            },
            "type": "histogram"
           }
          ],
          "histogram2d": [
           {
            "colorbar": {
             "outlinewidth": 0,
             "ticks": ""
            },
            "colorscale": [
             [
              0,
              "#0d0887"
             ],
             [
              0.1111111111111111,
              "#46039f"
             ],
             [
              0.2222222222222222,
              "#7201a8"
             ],
             [
              0.3333333333333333,
              "#9c179e"
             ],
             [
              0.4444444444444444,
              "#bd3786"
             ],
             [
              0.5555555555555556,
              "#d8576b"
             ],
             [
              0.6666666666666666,
              "#ed7953"
             ],
             [
              0.7777777777777778,
              "#fb9f3a"
             ],
             [
              0.8888888888888888,
              "#fdca26"
             ],
             [
              1,
              "#f0f921"
             ]
            ],
            "type": "histogram2d"
           }
          ],
          "histogram2dcontour": [
           {
            "colorbar": {
             "outlinewidth": 0,
             "ticks": ""
            },
            "colorscale": [
             [
              0,
              "#0d0887"
             ],
             [
              0.1111111111111111,
              "#46039f"
             ],
             [
              0.2222222222222222,
              "#7201a8"
             ],
             [
              0.3333333333333333,
              "#9c179e"
             ],
             [
              0.4444444444444444,
              "#bd3786"
             ],
             [
              0.5555555555555556,
              "#d8576b"
             ],
             [
              0.6666666666666666,
              "#ed7953"
             ],
             [
              0.7777777777777778,
              "#fb9f3a"
             ],
             [
              0.8888888888888888,
              "#fdca26"
             ],
             [
              1,
              "#f0f921"
             ]
            ],
            "type": "histogram2dcontour"
           }
          ],
          "mesh3d": [
           {
            "colorbar": {
             "outlinewidth": 0,
             "ticks": ""
            },
            "type": "mesh3d"
           }
          ],
          "parcoords": [
           {
            "line": {
             "colorbar": {
              "outlinewidth": 0,
              "ticks": ""
             }
            },
            "type": "parcoords"
           }
          ],
          "pie": [
           {
            "automargin": true,
            "type": "pie"
           }
          ],
          "scatter": [
           {
            "marker": {
             "colorbar": {
              "outlinewidth": 0,
              "ticks": ""
             }
            },
            "type": "scatter"
           }
          ],
          "scatter3d": [
           {
            "line": {
             "colorbar": {
              "outlinewidth": 0,
              "ticks": ""
             }
            },
            "marker": {
             "colorbar": {
              "outlinewidth": 0,
              "ticks": ""
             }
            },
            "type": "scatter3d"
           }
          ],
          "scattercarpet": [
           {
            "marker": {
             "colorbar": {
              "outlinewidth": 0,
              "ticks": ""
             }
            },
            "type": "scattercarpet"
           }
          ],
          "scattergeo": [
           {
            "marker": {
             "colorbar": {
              "outlinewidth": 0,
              "ticks": ""
             }
            },
            "type": "scattergeo"
           }
          ],
          "scattergl": [
           {
            "marker": {
             "colorbar": {
              "outlinewidth": 0,
              "ticks": ""
             }
            },
            "type": "scattergl"
           }
          ],
          "scattermapbox": [
           {
            "marker": {
             "colorbar": {
              "outlinewidth": 0,
              "ticks": ""
             }
            },
            "type": "scattermapbox"
           }
          ],
          "scatterpolar": [
           {
            "marker": {
             "colorbar": {
              "outlinewidth": 0,
              "ticks": ""
             }
            },
            "type": "scatterpolar"
           }
          ],
          "scatterpolargl": [
           {
            "marker": {
             "colorbar": {
              "outlinewidth": 0,
              "ticks": ""
             }
            },
            "type": "scatterpolargl"
           }
          ],
          "scatterternary": [
           {
            "marker": {
             "colorbar": {
              "outlinewidth": 0,
              "ticks": ""
             }
            },
            "type": "scatterternary"
           }
          ],
          "surface": [
           {
            "colorbar": {
             "outlinewidth": 0,
             "ticks": ""
            },
            "colorscale": [
             [
              0,
              "#0d0887"
             ],
             [
              0.1111111111111111,
              "#46039f"
             ],
             [
              0.2222222222222222,
              "#7201a8"
             ],
             [
              0.3333333333333333,
              "#9c179e"
             ],
             [
              0.4444444444444444,
              "#bd3786"
             ],
             [
              0.5555555555555556,
              "#d8576b"
             ],
             [
              0.6666666666666666,
              "#ed7953"
             ],
             [
              0.7777777777777778,
              "#fb9f3a"
             ],
             [
              0.8888888888888888,
              "#fdca26"
             ],
             [
              1,
              "#f0f921"
             ]
            ],
            "type": "surface"
           }
          ],
          "table": [
           {
            "cells": {
             "fill": {
              "color": "#EBF0F8"
             },
             "line": {
              "color": "white"
             }
            },
            "header": {
             "fill": {
              "color": "#C8D4E3"
             },
             "line": {
              "color": "white"
             }
            },
            "type": "table"
           }
          ]
         },
         "layout": {
          "annotationdefaults": {
           "arrowcolor": "#2a3f5f",
           "arrowhead": 0,
           "arrowwidth": 1
          },
          "autotypenumbers": "strict",
          "coloraxis": {
           "colorbar": {
            "outlinewidth": 0,
            "ticks": ""
           }
          },
          "colorscale": {
           "diverging": [
            [
             0,
             "#8e0152"
            ],
            [
             0.1,
             "#c51b7d"
            ],
            [
             0.2,
             "#de77ae"
            ],
            [
             0.3,
             "#f1b6da"
            ],
            [
             0.4,
             "#fde0ef"
            ],
            [
             0.5,
             "#f7f7f7"
            ],
            [
             0.6,
             "#e6f5d0"
            ],
            [
             0.7,
             "#b8e186"
            ],
            [
             0.8,
             "#7fbc41"
            ],
            [
             0.9,
             "#4d9221"
            ],
            [
             1,
             "#276419"
            ]
           ],
           "sequential": [
            [
             0,
             "#0d0887"
            ],
            [
             0.1111111111111111,
             "#46039f"
            ],
            [
             0.2222222222222222,
             "#7201a8"
            ],
            [
             0.3333333333333333,
             "#9c179e"
            ],
            [
             0.4444444444444444,
             "#bd3786"
            ],
            [
             0.5555555555555556,
             "#d8576b"
            ],
            [
             0.6666666666666666,
             "#ed7953"
            ],
            [
             0.7777777777777778,
             "#fb9f3a"
            ],
            [
             0.8888888888888888,
             "#fdca26"
            ],
            [
             1,
             "#f0f921"
            ]
           ],
           "sequentialminus": [
            [
             0,
             "#0d0887"
            ],
            [
             0.1111111111111111,
             "#46039f"
            ],
            [
             0.2222222222222222,
             "#7201a8"
            ],
            [
             0.3333333333333333,
             "#9c179e"
            ],
            [
             0.4444444444444444,
             "#bd3786"
            ],
            [
             0.5555555555555556,
             "#d8576b"
            ],
            [
             0.6666666666666666,
             "#ed7953"
            ],
            [
             0.7777777777777778,
             "#fb9f3a"
            ],
            [
             0.8888888888888888,
             "#fdca26"
            ],
            [
             1,
             "#f0f921"
            ]
           ]
          },
          "colorway": [
           "#636efa",
           "#EF553B",
           "#00cc96",
           "#ab63fa",
           "#FFA15A",
           "#19d3f3",
           "#FF6692",
           "#B6E880",
           "#FF97FF",
           "#FECB52"
          ],
          "font": {
           "color": "#2a3f5f"
          },
          "geo": {
           "bgcolor": "white",
           "lakecolor": "white",
           "landcolor": "#E5ECF6",
           "showlakes": true,
           "showland": true,
           "subunitcolor": "white"
          },
          "hoverlabel": {
           "align": "left"
          },
          "hovermode": "closest",
          "mapbox": {
           "style": "light"
          },
          "paper_bgcolor": "white",
          "plot_bgcolor": "#E5ECF6",
          "polar": {
           "angularaxis": {
            "gridcolor": "white",
            "linecolor": "white",
            "ticks": ""
           },
           "bgcolor": "#E5ECF6",
           "radialaxis": {
            "gridcolor": "white",
            "linecolor": "white",
            "ticks": ""
           }
          },
          "scene": {
           "xaxis": {
            "backgroundcolor": "#E5ECF6",
            "gridcolor": "white",
            "gridwidth": 2,
            "linecolor": "white",
            "showbackground": true,
            "ticks": "",
            "zerolinecolor": "white"
           },
           "yaxis": {
            "backgroundcolor": "#E5ECF6",
            "gridcolor": "white",
            "gridwidth": 2,
            "linecolor": "white",
            "showbackground": true,
            "ticks": "",
            "zerolinecolor": "white"
           },
           "zaxis": {
            "backgroundcolor": "#E5ECF6",
            "gridcolor": "white",
            "gridwidth": 2,
            "linecolor": "white",
            "showbackground": true,
            "ticks": "",
            "zerolinecolor": "white"
           }
          },
          "shapedefaults": {
           "line": {
            "color": "#2a3f5f"
           }
          },
          "ternary": {
           "aaxis": {
            "gridcolor": "white",
            "linecolor": "white",
            "ticks": ""
           },
           "baxis": {
            "gridcolor": "white",
            "linecolor": "white",
            "ticks": ""
           },
           "bgcolor": "#E5ECF6",
           "caxis": {
            "gridcolor": "white",
            "linecolor": "white",
            "ticks": ""
           }
          },
          "title": {
           "x": 0.05
          },
          "xaxis": {
           "automargin": true,
           "gridcolor": "white",
           "linecolor": "white",
           "ticks": "",
           "title": {
            "standoff": 15
           },
           "zerolinecolor": "white",
           "zerolinewidth": 2
          },
          "yaxis": {
           "automargin": true,
           "gridcolor": "white",
           "linecolor": "white",
           "ticks": "",
           "title": {
            "standoff": 15
           },
           "zerolinecolor": "white",
           "zerolinewidth": 2
          }
         }
        },
        "xaxis": {
         "title": {
          "text": "$\\alpha$"
         }
        },
        "yaxis": {
         "title": {
          "text": "$Q_{LF}$"
         }
        }
       }
      },
      "text/html": [
       "<div>                            <div id=\"b6c79cca-ee96-43a2-8e87-8cada19df8c5\" class=\"plotly-graph-div\" style=\"height:525px; width:100%;\"></div>            <script type=\"text/javascript\">                require([\"plotly\"], function(Plotly) {                    window.PLOTLYENV=window.PLOTLYENV || {};                                    if (document.getElementById(\"b6c79cca-ee96-43a2-8e87-8cada19df8c5\")) {                    Plotly.newPlot(                        \"b6c79cca-ee96-43a2-8e87-8cada19df8c5\",                        [{\"line\":{\"color\":\"olivedrab\",\"dash\":\"dash\",\"width\":2},\"marker\":{\"size\":15},\"mode\":\"markers\",\"name\":\"Early Fusion\",\"type\":\"scatter\",\"x\":[0.0,0.0,0.0,0.0,0.0,0.0,0.0,0.0,0.05,0.05,0.05,0.05,0.05,0.05,0.05,0.05,0.1,0.1,0.1,0.1,0.1,0.1,0.1,0.1,0.15000000000000002,0.15000000000000002,0.15000000000000002,0.15000000000000002,0.15000000000000002,0.15000000000000002,0.15000000000000002,0.15000000000000002,0.2,0.2,0.2,0.2,0.2,0.2,0.2,0.2,0.25,0.25,0.25,0.25,0.25,0.25,0.25,0.25,0.30000000000000004,0.30000000000000004,0.30000000000000004,0.30000000000000004,0.30000000000000004,0.30000000000000004,0.30000000000000004,0.30000000000000004,0.35000000000000003,0.35000000000000003,0.35000000000000003,0.35000000000000003,0.35000000000000003,0.35000000000000003,0.35000000000000003,0.35000000000000003,0.4,0.4,0.4,0.4,0.4,0.4,0.4,0.4,0.45,0.45,0.45,0.45,0.45,0.45,0.45,0.45,0.5,0.5,0.5,0.5,0.5,0.5,0.5,0.5,0.55,0.55,0.55,0.55,0.55,0.55,0.55,0.55,0.6000000000000001,0.6000000000000001,0.6000000000000001,0.6000000000000001,0.6000000000000001,0.6000000000000001,0.6000000000000001,0.6000000000000001,0.65,0.65,0.65,0.65,0.65,0.65,0.65,0.65,0.7000000000000001,0.7000000000000001,0.7000000000000001,0.7000000000000001,0.7000000000000001,0.7000000000000001,0.7000000000000001,0.7000000000000001,0.75,0.75,0.75,0.75,0.75,0.75,0.75,0.75,0.8,0.8,0.8,0.8,0.8,0.8,0.8,0.8,0.8500000000000001,0.8500000000000001,0.8500000000000001,0.8500000000000001,0.8500000000000001,0.8500000000000001,0.8500000000000001,0.8500000000000001,0.9,0.9,0.9,0.9,0.9,0.9,0.9,0.9,0.9500000000000001,0.9500000000000001,0.9500000000000001,0.9500000000000001,0.9500000000000001,0.9500000000000001,0.9500000000000001,0.9500000000000001,1.0,1.0,1.0,1.0,1.0,1.0,1.0,1.0],\"y\":[0.357559561895442,0.357559561895442,0.357559561895442,0.357559561895442,0.357559561895442,0.357559561895442,0.357559561895442,0.357559561895442,0.3650311894265874,0.3650311894265874,0.3650311894265874,0.3650311894265874,0.3650311894265874,0.3650311894265874,0.3650311894265874,0.3650311894265874,0.3723015426813203,0.3723015426813203,0.3723015426813203,0.3723015426813203,0.3723015426813203,0.3723015426813203,0.3723015426813203,0.3723015426813203,0.37937062165964086,0.37937062165964086,0.37937062165964086,0.37937062165964086,0.37937062165964086,0.37937062165964086,0.37937062165964086,0.37937062165964086,0.38623842636154926,0.38623842636154926,0.38623842636154926,0.38623842636154926,0.38623842636154926,0.38623842636154926,0.38623842636154926,0.38623842636154926,0.39290495678704507,0.39290495678704507,0.39290495678704507,0.39290495678704507,0.39290495678704507,0.39290495678704507,0.39290495678704507,0.39290495678704507,0.3993702129361285,0.3993702129361285,0.3993702129361285,0.3993702129361285,0.3993702129361285,0.3993702129361285,0.3993702129361285,0.3993702129361285,0.40563419480879986,0.40563419480879986,0.40563419480879986,0.40563419480879986,0.40563419480879986,0.40563419480879986,0.40563419480879986,0.40563419480879986,0.41169690240505846,0.41169690240505846,0.41169690240505846,0.41169690240505846,0.41169690240505846,0.41169690240505846,0.41169690240505846,0.41169690240505846,0.41755833572490486,0.41755833572490486,0.41755833572490486,0.41755833572490486,0.41755833572490486,0.41755833572490486,0.41755833572490486,0.41755833572490486,0.42321849476833906,0.42321849476833906,0.42321849476833906,0.42321849476833906,0.42321849476833906,0.42321849476833906,0.42321849476833906,0.42321849476833906,0.42867737953536067,0.42867737953536067,0.42867737953536067,0.42867737953536067,0.42867737953536067,0.42867737953536067,0.42867737953536067,0.42867737953536067,0.4339349900259702,0.4339349900259702,0.4339349900259702,0.4339349900259702,0.4339349900259702,0.4339349900259702,0.4339349900259702,0.4339349900259702,0.43899132624016723,0.43899132624016723,0.43899132624016723,0.43899132624016723,0.43899132624016723,0.43899132624016723,0.43899132624016723,0.43899132624016723,0.4438463881779518,0.4438463881779518,0.4438463881779518,0.4438463881779518,0.4438463881779518,0.4438463881779518,0.4438463881779518,0.4438463881779518,0.4485001758393239,0.4485001758393239,0.4485001758393239,0.4485001758393239,0.4485001758393239,0.4485001758393239,0.4485001758393239,0.4485001758393239,0.452952689224284,0.452952689224284,0.452952689224284,0.452952689224284,0.452952689224284,0.452952689224284,0.452952689224284,0.452952689224284,0.45720392833283163,0.45720392833283163,0.45720392833283163,0.45720392833283163,0.45720392833283163,0.45720392833283163,0.45720392833283163,0.45720392833283163,0.46125389316496684,0.46125389316496684,0.46125389316496684,0.46125389316496684,0.46125389316496684,0.46125389316496684,0.46125389316496684,0.46125389316496684,0.46510258372068947,0.46510258372068947,0.46510258372068947,0.46510258372068947,0.46510258372068947,0.46510258372068947,0.46510258372068947,0.46510258372068947,0.4687500000000001,0.4687500000000001,0.4687500000000001,0.4687500000000001,0.4687500000000001,0.4687500000000001,0.4687500000000001,0.4687500000000001]},{\"line\":{\"color\":\"deepskyblue\",\"dash\":\"dash\",\"width\":2},\"marker\":{\"size\":10},\"mode\":\"markers\",\"name\":\"Simultaneous Fusion\",\"type\":\"scatter\",\"x\":[0.0,0.0,0.0,0.0,0.0,0.0,0.0,0.0,0.05,0.05,0.05,0.05,0.05,0.05,0.05,0.05,0.1,0.1,0.1,0.1,0.1,0.1,0.1,0.1,0.15000000000000002,0.15000000000000002,0.15000000000000002,0.15000000000000002,0.15000000000000002,0.15000000000000002,0.15000000000000002,0.15000000000000002,0.2,0.2,0.2,0.2,0.2,0.2,0.2,0.2,0.25,0.25,0.25,0.25,0.25,0.25,0.25,0.25,0.30000000000000004,0.30000000000000004,0.30000000000000004,0.30000000000000004,0.30000000000000004,0.30000000000000004,0.30000000000000004,0.30000000000000004,0.35000000000000003,0.35000000000000003,0.35000000000000003,0.35000000000000003,0.35000000000000003,0.35000000000000003,0.35000000000000003,0.35000000000000003,0.4,0.4,0.4,0.4,0.4,0.4,0.4,0.4,0.45,0.45,0.45,0.45,0.45,0.45,0.45,0.45,0.5,0.5,0.5,0.5,0.5,0.5,0.5,0.5,0.55,0.55,0.55,0.55,0.55,0.55,0.55,0.55,0.6000000000000001,0.6000000000000001,0.6000000000000001,0.6000000000000001,0.6000000000000001,0.6000000000000001,0.6000000000000001,0.6000000000000001,0.65,0.65,0.65,0.65,0.65,0.65,0.65,0.65,0.7000000000000001,0.7000000000000001,0.7000000000000001,0.7000000000000001,0.7000000000000001,0.7000000000000001,0.7000000000000001,0.7000000000000001,0.75,0.75,0.75,0.75,0.75,0.75,0.75,0.75,0.8,0.8,0.8,0.8,0.8,0.8,0.8,0.8,0.8500000000000001,0.8500000000000001,0.8500000000000001,0.8500000000000001,0.8500000000000001,0.8500000000000001,0.8500000000000001,0.8500000000000001,0.9,0.9,0.9,0.9,0.9,0.9,0.9,0.9,0.9500000000000001,0.9500000000000001,0.9500000000000001,0.9500000000000001,0.9500000000000001,0.9500000000000001,0.9500000000000001,0.9500000000000001,1.0,1.0,1.0,1.0,1.0,1.0,1.0,1.0],\"y\":[0.357559561895442,0.357559561895442,0.357559561895442,0.357559561895442,0.357559561895442,0.357559561895442,0.357559561895442,0.357559561895442,0.3650311894265874,0.3650311894265874,0.3650311894265874,0.3650311894265874,0.3650311894265874,0.3650311894265874,0.3650311894265874,0.3650311894265874,0.3723015426813203,0.3723015426813203,0.3723015426813203,0.3723015426813203,0.3723015426813203,0.3723015426813203,0.3723015426813203,0.3723015426813203,0.37937062165964086,0.37937062165964086,0.37937062165964086,0.37937062165964086,0.37937062165964086,0.37937062165964086,0.37937062165964086,0.37937062165964086,0.38623842636154926,0.38623842636154926,0.38623842636154926,0.38623842636154926,0.38623842636154926,0.38623842636154926,0.38623842636154926,0.38623842636154926,0.39290495678704507,0.39290495678704507,0.39290495678704507,0.39290495678704507,0.39290495678704507,0.39290495678704507,0.39290495678704507,0.39290495678704507,0.3993702129361285,0.3993702129361285,0.3993702129361285,0.3993702129361285,0.3993702129361285,0.3993702129361285,0.3993702129361285,0.3993702129361285,0.40563419480879986,0.40563419480879986,0.40563419480879986,0.40563419480879986,0.40563419480879986,0.40563419480879986,0.40563419480879986,0.40563419480879986,0.41169690240505846,0.41169690240505846,0.41169690240505846,0.41169690240505846,0.41169690240505846,0.41169690240505846,0.41169690240505846,0.41169690240505846,0.41755833572490486,0.41755833572490486,0.41755833572490486,0.41755833572490486,0.41755833572490486,0.41755833572490486,0.41755833572490486,0.41755833572490486,0.42321849476833906,0.42321849476833906,0.42321849476833906,0.42321849476833906,0.42321849476833906,0.42321849476833906,0.42321849476833906,0.42321849476833906,0.42867737953536067,0.42867737953536067,0.42867737953536067,0.42867737953536067,0.42867737953536067,0.42867737953536067,0.42867737953536067,0.42867737953536067,0.4339349900259702,0.4339349900259702,0.4339349900259702,0.4339349900259702,0.4339349900259702,0.4339349900259702,0.4339349900259702,0.4339349900259702,0.43899132624016723,0.43899132624016723,0.43899132624016723,0.43899132624016723,0.43899132624016723,0.43899132624016723,0.43899132624016723,0.43899132624016723,0.4438463881779518,0.4438463881779518,0.4438463881779518,0.4438463881779518,0.4438463881779518,0.4438463881779518,0.4438463881779518,0.4438463881779518,0.4485001758393239,0.4485001758393239,0.4485001758393239,0.4485001758393239,0.4485001758393239,0.4485001758393239,0.4485001758393239,0.4485001758393239,0.452952689224284,0.452952689224284,0.452952689224284,0.452952689224284,0.452952689224284,0.452952689224284,0.452952689224284,0.452952689224284,0.45720392833283163,0.45720392833283163,0.45720392833283163,0.45720392833283163,0.45720392833283163,0.45720392833283163,0.45720392833283163,0.45720392833283163,0.46125389316496684,0.46125389316496684,0.46125389316496684,0.46125389316496684,0.46125389316496684,0.46125389316496684,0.46125389316496684,0.46125389316496684,0.46510258372068947,0.46510258372068947,0.46510258372068947,0.46510258372068947,0.46510258372068947,0.46510258372068947,0.46510258372068947,0.46510258372068947,0.4687500000000001,0.4687500000000001,0.4687500000000001,0.4687500000000001,0.4687500000000001,0.4687500000000001,0.4687500000000001,0.4687500000000001]},{\"line\":{\"color\":\"tomato\",\"dash\":\"dash\",\"width\":2},\"marker\":{\"size\":7},\"mode\":\"markers\",\"name\":\"Late Fusion\",\"type\":\"scatter\",\"x\":[0.0,0.0,0.0,0.0,0.0,0.0,0.0,0.0,0.0,0.0,0.0,0.0,0.0,0.0,0.0,0.0,0.0,0.0,0.0,0.0,0.0,0.0,0.0,0.0,0.0,0.0,0.0,0.0,0.0,0.0,0.0,0.0,0.05,0.05,0.05,0.05,0.05,0.05,0.05,0.05,0.05,0.05,0.05,0.05,0.05,0.05,0.05,0.05,0.05,0.05,0.05,0.05,0.05,0.05,0.05,0.05,0.05,0.05,0.05,0.05,0.05,0.05,0.05,0.05,0.1,0.1,0.1,0.1,0.1,0.1,0.1,0.1,0.1,0.1,0.1,0.1,0.1,0.1,0.1,0.1,0.1,0.1,0.1,0.1,0.1,0.1,0.1,0.1,0.1,0.1,0.1,0.1,0.1,0.1,0.1,0.1,0.15000000000000002,0.15000000000000002,0.15000000000000002,0.15000000000000002,0.15000000000000002,0.15000000000000002,0.15000000000000002,0.15000000000000002,0.15000000000000002,0.15000000000000002,0.15000000000000002,0.15000000000000002,0.15000000000000002,0.15000000000000002,0.15000000000000002,0.15000000000000002,0.15000000000000002,0.15000000000000002,0.15000000000000002,0.15000000000000002,0.15000000000000002,0.15000000000000002,0.15000000000000002,0.15000000000000002,0.15000000000000002,0.15000000000000002,0.15000000000000002,0.15000000000000002,0.15000000000000002,0.15000000000000002,0.15000000000000002,0.15000000000000002,0.2,0.2,0.2,0.2,0.2,0.2,0.2,0.2,0.2,0.2,0.2,0.2,0.2,0.2,0.2,0.2,0.2,0.2,0.2,0.2,0.2,0.2,0.2,0.2,0.2,0.2,0.2,0.2,0.2,0.2,0.2,0.2,0.25,0.25,0.25,0.25,0.25,0.25,0.25,0.25,0.25,0.25,0.25,0.25,0.25,0.25,0.25,0.25,0.25,0.25,0.25,0.25,0.25,0.25,0.25,0.25,0.25,0.25,0.25,0.25,0.25,0.25,0.25,0.25,0.30000000000000004,0.30000000000000004,0.30000000000000004,0.30000000000000004,0.30000000000000004,0.30000000000000004,0.30000000000000004,0.30000000000000004,0.30000000000000004,0.30000000000000004,0.30000000000000004,0.30000000000000004,0.30000000000000004,0.30000000000000004,0.30000000000000004,0.30000000000000004,0.30000000000000004,0.30000000000000004,0.30000000000000004,0.30000000000000004,0.30000000000000004,0.30000000000000004,0.30000000000000004,0.30000000000000004,0.30000000000000004,0.30000000000000004,0.30000000000000004,0.30000000000000004,0.30000000000000004,0.30000000000000004,0.30000000000000004,0.30000000000000004,0.35000000000000003,0.35000000000000003,0.35000000000000003,0.35000000000000003,0.35000000000000003,0.35000000000000003,0.35000000000000003,0.35000000000000003,0.35000000000000003,0.35000000000000003,0.35000000000000003,0.35000000000000003,0.35000000000000003,0.35000000000000003,0.35000000000000003,0.35000000000000003,0.35000000000000003,0.35000000000000003,0.35000000000000003,0.35000000000000003,0.35000000000000003,0.35000000000000003,0.35000000000000003,0.35000000000000003,0.35000000000000003,0.35000000000000003,0.35000000000000003,0.35000000000000003,0.35000000000000003,0.35000000000000003,0.35000000000000003,0.35000000000000003,0.4,0.4,0.4,0.4,0.4,0.4,0.4,0.4,0.4,0.4,0.4,0.4,0.4,0.4,0.4,0.4,0.4,0.4,0.4,0.4,0.4,0.4,0.4,0.4,0.4,0.4,0.4,0.4,0.4,0.4,0.4,0.4,0.45,0.45,0.45,0.45,0.45,0.45,0.45,0.45,0.45,0.45,0.45,0.45,0.45,0.45,0.45,0.45,0.45,0.45,0.45,0.45,0.45,0.45,0.45,0.45,0.45,0.45,0.45,0.45,0.45,0.45,0.45,0.45,0.5,0.5,0.5,0.5,0.5,0.5,0.5,0.5,0.5,0.5,0.5,0.5,0.5,0.5,0.5,0.5,0.5,0.5,0.5,0.5,0.5,0.5,0.5,0.5,0.5,0.5,0.5,0.5,0.5,0.5,0.5,0.5,0.55,0.55,0.55,0.55,0.55,0.55,0.55,0.55,0.55,0.55,0.55,0.55,0.55,0.55,0.55,0.55,0.55,0.55,0.55,0.55,0.55,0.55,0.55,0.55,0.55,0.55,0.55,0.55,0.55,0.55,0.55,0.55,0.6000000000000001,0.6000000000000001,0.6000000000000001,0.6000000000000001,0.6000000000000001,0.6000000000000001,0.6000000000000001,0.6000000000000001,0.6000000000000001,0.6000000000000001,0.6000000000000001,0.6000000000000001,0.6000000000000001,0.6000000000000001,0.6000000000000001,0.6000000000000001,0.6000000000000001,0.6000000000000001,0.6000000000000001,0.6000000000000001,0.6000000000000001,0.6000000000000001,0.6000000000000001,0.6000000000000001,0.6000000000000001,0.6000000000000001,0.6000000000000001,0.6000000000000001,0.6000000000000001,0.6000000000000001,0.6000000000000001,0.6000000000000001,0.65,0.65,0.65,0.65,0.65,0.65,0.65,0.65,0.65,0.65,0.65,0.65,0.65,0.65,0.65,0.65,0.65,0.65,0.65,0.65,0.65,0.65,0.65,0.65,0.65,0.65,0.65,0.65,0.65,0.65,0.65,0.65,0.7000000000000001,0.7000000000000001,0.7000000000000001,0.7000000000000001,0.7000000000000001,0.7000000000000001,0.7000000000000001,0.7000000000000001,0.7000000000000001,0.7000000000000001,0.7000000000000001,0.7000000000000001,0.7000000000000001,0.7000000000000001,0.7000000000000001,0.7000000000000001,0.7000000000000001,0.7000000000000001,0.7000000000000001,0.7000000000000001,0.7000000000000001,0.7000000000000001,0.7000000000000001,0.7000000000000001,0.7000000000000001,0.7000000000000001,0.7000000000000001,0.7000000000000001,0.7000000000000001,0.7000000000000001,0.7000000000000001,0.7000000000000001,0.75,0.75,0.75,0.75,0.75,0.75,0.75,0.75,0.75,0.75,0.75,0.75,0.75,0.75,0.75,0.75,0.75,0.75,0.75,0.75,0.75,0.75,0.75,0.75,0.75,0.75,0.75,0.75,0.75,0.75,0.75,0.75,0.8,0.8,0.8,0.8,0.8,0.8,0.8,0.8,0.8,0.8,0.8,0.8,0.8,0.8,0.8,0.8,0.8,0.8,0.8,0.8,0.8,0.8,0.8,0.8,0.8,0.8,0.8,0.8,0.8,0.8,0.8,0.8,0.8500000000000001,0.8500000000000001,0.8500000000000001,0.8500000000000001,0.8500000000000001,0.8500000000000001,0.8500000000000001,0.8500000000000001,0.8500000000000001,0.8500000000000001,0.8500000000000001,0.8500000000000001,0.8500000000000001,0.8500000000000001,0.8500000000000001,0.8500000000000001,0.8500000000000001,0.8500000000000001,0.8500000000000001,0.8500000000000001,0.8500000000000001,0.8500000000000001,0.8500000000000001,0.8500000000000001,0.8500000000000001,0.8500000000000001,0.8500000000000001,0.8500000000000001,0.8500000000000001,0.8500000000000001,0.8500000000000001,0.8500000000000001,0.9,0.9,0.9,0.9,0.9,0.9,0.9,0.9,0.9,0.9,0.9,0.9,0.9,0.9,0.9,0.9,0.9,0.9,0.9,0.9,0.9,0.9,0.9,0.9,0.9,0.9,0.9,0.9,0.9,0.9,0.9,0.9,0.9500000000000001,0.9500000000000001,0.9500000000000001,0.9500000000000001,0.9500000000000001,0.9500000000000001,0.9500000000000001,0.9500000000000001,0.9500000000000001,0.9500000000000001,0.9500000000000001,0.9500000000000001,0.9500000000000001,0.9500000000000001,0.9500000000000001,0.9500000000000001,0.9500000000000001,0.9500000000000001,0.9500000000000001,0.9500000000000001,0.9500000000000001,0.9500000000000001,0.9500000000000001,0.9500000000000001,0.9500000000000001,0.9500000000000001,0.9500000000000001,0.9500000000000001,0.9500000000000001,0.9500000000000001,0.9500000000000001,0.9500000000000001,1.0,1.0,1.0,1.0,1.0,1.0,1.0,1.0,1.0,1.0,1.0,1.0,1.0,1.0,1.0,1.0,1.0,1.0,1.0,1.0,1.0,1.0,1.0,1.0,1.0,1.0,1.0,1.0,1.0,1.0,1.0,1.0],\"y\":[0.357559561895442,0.357559561895442,0.357559561895442,0.357559561895442,0.357559561895442,0.357559561895442,0.357559561895442,0.357559561895442,0.357559561895442,0.357559561895442,0.357559561895442,0.357559561895442,0.357559561895442,0.357559561895442,0.357559561895442,0.357559561895442,0.357559561895442,0.357559561895442,0.357559561895442,0.357559561895442,0.357559561895442,0.357559561895442,0.357559561895442,0.357559561895442,0.357559561895442,0.357559561895442,0.357559561895442,0.357559561895442,0.357559561895442,0.357559561895442,0.357559561895442,0.357559561895442,0.3650311894265874,0.3650311894265874,0.3650311894265874,0.3650311894265874,0.3650311894265874,0.3650311894265874,0.3650311894265874,0.3650311894265874,0.3650311894265874,0.3650311894265874,0.3650311894265874,0.3650311894265874,0.3650311894265874,0.3650311894265874,0.3650311894265874,0.3650311894265874,0.3650311894265874,0.3650311894265874,0.3650311894265874,0.3650311894265874,0.3650311894265874,0.3650311894265874,0.3650311894265874,0.3650311894265874,0.3650311894265874,0.3650311894265874,0.3650311894265874,0.3650311894265874,0.3650311894265874,0.3650311894265874,0.3650311894265874,0.3650311894265874,0.3723015426813203,0.3723015426813203,0.3723015426813203,0.3723015426813203,0.3723015426813203,0.3723015426813203,0.3723015426813203,0.3723015426813203,0.3723015426813203,0.3723015426813203,0.3723015426813203,0.3723015426813203,0.3723015426813203,0.3723015426813203,0.3723015426813203,0.3723015426813203,0.3723015426813203,0.3723015426813203,0.3723015426813203,0.3723015426813203,0.3723015426813203,0.3723015426813203,0.3723015426813203,0.3723015426813203,0.3723015426813203,0.3723015426813203,0.3723015426813203,0.3723015426813203,0.3723015426813203,0.3723015426813203,0.3723015426813203,0.3723015426813203,0.37937062165964086,0.37937062165964086,0.37937062165964086,0.37937062165964086,0.37937062165964086,0.37937062165964086,0.37937062165964086,0.37937062165964086,0.37937062165964086,0.37937062165964086,0.37937062165964086,0.37937062165964086,0.37937062165964086,0.37937062165964086,0.37937062165964086,0.37937062165964086,0.37937062165964086,0.37937062165964086,0.37937062165964086,0.37937062165964086,0.37937062165964086,0.37937062165964086,0.37937062165964086,0.37937062165964086,0.37937062165964086,0.37937062165964086,0.37937062165964086,0.37937062165964086,0.37937062165964086,0.37937062165964086,0.37937062165964086,0.37937062165964086,0.38623842636154926,0.38623842636154926,0.38623842636154926,0.38623842636154926,0.38623842636154926,0.38623842636154926,0.38623842636154926,0.38623842636154926,0.38623842636154926,0.38623842636154926,0.38623842636154926,0.38623842636154926,0.38623842636154926,0.38623842636154926,0.38623842636154926,0.38623842636154926,0.38623842636154926,0.38623842636154926,0.38623842636154926,0.38623842636154926,0.38623842636154926,0.38623842636154926,0.38623842636154926,0.38623842636154926,0.38623842636154926,0.38623842636154926,0.38623842636154926,0.38623842636154926,0.38623842636154926,0.38623842636154926,0.38623842636154926,0.38623842636154926,0.39290495678704507,0.39290495678704507,0.39290495678704507,0.39290495678704507,0.39290495678704507,0.39290495678704507,0.39290495678704507,0.39290495678704507,0.39290495678704507,0.39290495678704507,0.39290495678704507,0.39290495678704507,0.39290495678704507,0.39290495678704507,0.39290495678704507,0.39290495678704507,0.39290495678704507,0.39290495678704507,0.39290495678704507,0.39290495678704507,0.39290495678704507,0.39290495678704507,0.39290495678704507,0.39290495678704507,0.39290495678704507,0.39290495678704507,0.39290495678704507,0.39290495678704507,0.39290495678704507,0.39290495678704507,0.39290495678704507,0.39290495678704507,0.3993702129361285,0.3993702129361285,0.3993702129361285,0.3993702129361285,0.3993702129361285,0.3993702129361285,0.3993702129361285,0.3993702129361285,0.3993702129361285,0.3993702129361285,0.3993702129361285,0.3993702129361285,0.3993702129361285,0.3993702129361285,0.3993702129361285,0.3993702129361285,0.3993702129361285,0.3993702129361285,0.3993702129361285,0.3993702129361285,0.3993702129361285,0.3993702129361285,0.3993702129361285,0.3993702129361285,0.3993702129361285,0.3993702129361285,0.3993702129361285,0.3993702129361285,0.3993702129361285,0.3993702129361285,0.3993702129361285,0.3993702129361285,0.40563419480879986,0.40563419480879986,0.40563419480879986,0.40563419480879986,0.40563419480879986,0.40563419480879986,0.40563419480879986,0.40563419480879986,0.40563419480879986,0.40563419480879986,0.40563419480879986,0.40563419480879986,0.40563419480879986,0.40563419480879986,0.40563419480879986,0.40563419480879986,0.40563419480879986,0.40563419480879986,0.40563419480879986,0.40563419480879986,0.40563419480879986,0.40563419480879986,0.40563419480879986,0.40563419480879986,0.40563419480879986,0.40563419480879986,0.40563419480879986,0.40563419480879986,0.40563419480879986,0.40563419480879986,0.40563419480879986,0.40563419480879986,0.41169690240505846,0.41169690240505846,0.41169690240505846,0.41169690240505846,0.41169690240505846,0.41169690240505846,0.41169690240505846,0.41169690240505846,0.41169690240505846,0.41169690240505846,0.41169690240505846,0.41169690240505846,0.41169690240505846,0.41169690240505846,0.41169690240505846,0.41169690240505846,0.41169690240505846,0.41169690240505846,0.41169690240505846,0.41169690240505846,0.41169690240505846,0.41169690240505846,0.41169690240505846,0.41169690240505846,0.41169690240505846,0.41169690240505846,0.41169690240505846,0.41169690240505846,0.41169690240505846,0.41169690240505846,0.41169690240505846,0.41169690240505846,0.41755833572490486,0.41755833572490486,0.41755833572490486,0.41755833572490486,0.41755833572490486,0.41755833572490486,0.41755833572490486,0.41755833572490486,0.41755833572490486,0.41755833572490486,0.41755833572490486,0.41755833572490486,0.41755833572490486,0.41755833572490486,0.41755833572490486,0.41755833572490486,0.41755833572490486,0.41755833572490486,0.41755833572490486,0.41755833572490486,0.41755833572490486,0.41755833572490486,0.41755833572490486,0.41755833572490486,0.41755833572490486,0.41755833572490486,0.41755833572490486,0.41755833572490486,0.41755833572490486,0.41755833572490486,0.41755833572490486,0.41755833572490486,0.42321849476833906,0.42321849476833906,0.42321849476833906,0.42321849476833906,0.42321849476833906,0.42321849476833906,0.42321849476833906,0.42321849476833906,0.42321849476833906,0.42321849476833906,0.42321849476833906,0.42321849476833906,0.42321849476833906,0.42321849476833906,0.42321849476833906,0.42321849476833906,0.42321849476833906,0.42321849476833906,0.42321849476833906,0.42321849476833906,0.42321849476833906,0.42321849476833906,0.42321849476833906,0.42321849476833906,0.42321849476833906,0.42321849476833906,0.42321849476833906,0.42321849476833906,0.42321849476833906,0.42321849476833906,0.42321849476833906,0.42321849476833906,0.42867737953536067,0.42867737953536067,0.42867737953536067,0.42867737953536067,0.42867737953536067,0.42867737953536067,0.42867737953536067,0.42867737953536067,0.42867737953536067,0.42867737953536067,0.42867737953536067,0.42867737953536067,0.42867737953536067,0.42867737953536067,0.42867737953536067,0.42867737953536067,0.42867737953536067,0.42867737953536067,0.42867737953536067,0.42867737953536067,0.42867737953536067,0.42867737953536067,0.42867737953536067,0.42867737953536067,0.42867737953536067,0.42867737953536067,0.42867737953536067,0.42867737953536067,0.42867737953536067,0.42867737953536067,0.42867737953536067,0.42867737953536067,0.4339349900259702,0.4339349900259702,0.4339349900259702,0.4339349900259702,0.4339349900259702,0.4339349900259702,0.4339349900259702,0.4339349900259702,0.4339349900259702,0.4339349900259702,0.4339349900259702,0.4339349900259702,0.4339349900259702,0.4339349900259702,0.4339349900259702,0.4339349900259702,0.4339349900259702,0.4339349900259702,0.4339349900259702,0.4339349900259702,0.4339349900259702,0.4339349900259702,0.4339349900259702,0.4339349900259702,0.4339349900259702,0.4339349900259702,0.4339349900259702,0.4339349900259702,0.4339349900259702,0.4339349900259702,0.4339349900259702,0.4339349900259702,0.43899132624016723,0.43899132624016723,0.43899132624016723,0.43899132624016723,0.43899132624016723,0.43899132624016723,0.43899132624016723,0.43899132624016723,0.43899132624016723,0.43899132624016723,0.43899132624016723,0.43899132624016723,0.43899132624016723,0.43899132624016723,0.43899132624016723,0.43899132624016723,0.43899132624016723,0.43899132624016723,0.43899132624016723,0.43899132624016723,0.43899132624016723,0.43899132624016723,0.43899132624016723,0.43899132624016723,0.43899132624016723,0.43899132624016723,0.43899132624016723,0.43899132624016723,0.43899132624016723,0.43899132624016723,0.43899132624016723,0.43899132624016723,0.4438463881779518,0.4438463881779518,0.4438463881779518,0.4438463881779518,0.4438463881779518,0.4438463881779518,0.4438463881779518,0.4438463881779518,0.4438463881779518,0.4438463881779518,0.4438463881779518,0.4438463881779518,0.4438463881779518,0.4438463881779518,0.4438463881779518,0.4438463881779518,0.4438463881779518,0.4438463881779518,0.4438463881779518,0.4438463881779518,0.4438463881779518,0.4438463881779518,0.4438463881779518,0.4438463881779518,0.4438463881779518,0.4438463881779518,0.4438463881779518,0.4438463881779518,0.4438463881779518,0.4438463881779518,0.4438463881779518,0.4438463881779518,0.4485001758393239,0.4485001758393239,0.4485001758393239,0.4485001758393239,0.4485001758393239,0.4485001758393239,0.4485001758393239,0.4485001758393239,0.4485001758393239,0.4485001758393239,0.4485001758393239,0.4485001758393239,0.4485001758393239,0.4485001758393239,0.4485001758393239,0.4485001758393239,0.4485001758393239,0.4485001758393239,0.4485001758393239,0.4485001758393239,0.4485001758393239,0.4485001758393239,0.4485001758393239,0.4485001758393239,0.4485001758393239,0.4485001758393239,0.4485001758393239,0.4485001758393239,0.4485001758393239,0.4485001758393239,0.4485001758393239,0.4485001758393239,0.452952689224284,0.452952689224284,0.452952689224284,0.452952689224284,0.452952689224284,0.452952689224284,0.452952689224284,0.452952689224284,0.452952689224284,0.452952689224284,0.452952689224284,0.452952689224284,0.452952689224284,0.452952689224284,0.452952689224284,0.452952689224284,0.452952689224284,0.452952689224284,0.452952689224284,0.452952689224284,0.452952689224284,0.452952689224284,0.452952689224284,0.452952689224284,0.452952689224284,0.452952689224284,0.452952689224284,0.452952689224284,0.452952689224284,0.452952689224284,0.452952689224284,0.452952689224284,0.45720392833283163,0.45720392833283163,0.45720392833283163,0.45720392833283163,0.45720392833283163,0.45720392833283163,0.45720392833283163,0.45720392833283163,0.45720392833283163,0.45720392833283163,0.45720392833283163,0.45720392833283163,0.45720392833283163,0.45720392833283163,0.45720392833283163,0.45720392833283163,0.45720392833283163,0.45720392833283163,0.45720392833283163,0.45720392833283163,0.45720392833283163,0.45720392833283163,0.45720392833283163,0.45720392833283163,0.45720392833283163,0.45720392833283163,0.45720392833283163,0.45720392833283163,0.45720392833283163,0.45720392833283163,0.45720392833283163,0.45720392833283163,0.46125389316496684,0.46125389316496684,0.46125389316496684,0.46125389316496684,0.46125389316496684,0.46125389316496684,0.46125389316496684,0.46125389316496684,0.46125389316496684,0.46125389316496684,0.46125389316496684,0.46125389316496684,0.46125389316496684,0.46125389316496684,0.46125389316496684,0.46125389316496684,0.46125389316496684,0.46125389316496684,0.46125389316496684,0.46125389316496684,0.46125389316496684,0.46125389316496684,0.46125389316496684,0.46125389316496684,0.46125389316496684,0.46125389316496684,0.46125389316496684,0.46125389316496684,0.46125389316496684,0.46125389316496684,0.46125389316496684,0.46125389316496684,0.46510258372068947,0.46510258372068947,0.46510258372068947,0.46510258372068947,0.46510258372068947,0.46510258372068947,0.46510258372068947,0.46510258372068947,0.46510258372068947,0.46510258372068947,0.46510258372068947,0.46510258372068947,0.46510258372068947,0.46510258372068947,0.46510258372068947,0.46510258372068947,0.46510258372068947,0.46510258372068947,0.46510258372068947,0.46510258372068947,0.46510258372068947,0.46510258372068947,0.46510258372068947,0.46510258372068947,0.46510258372068947,0.46510258372068947,0.46510258372068947,0.46510258372068947,0.46510258372068947,0.46510258372068947,0.46510258372068947,0.46510258372068947,0.4687500000000001,0.4687500000000001,0.4687500000000001,0.4687500000000001,0.4687500000000001,0.4687500000000001,0.4687500000000001,0.4687500000000001,0.4687500000000001,0.4687500000000001,0.4687500000000001,0.4687500000000001,0.4687500000000001,0.4687500000000001,0.4687500000000001,0.4687500000000001,0.4687500000000001,0.4687500000000001,0.4687500000000001,0.4687500000000001,0.4687500000000001,0.4687500000000001,0.4687500000000001,0.4687500000000001,0.4687500000000001,0.4687500000000001,0.4687500000000001,0.4687500000000001,0.4687500000000001,0.4687500000000001,0.4687500000000001,0.4687500000000001]}],                        {\"showlegend\":false,\"template\":{\"data\":{\"bar\":[{\"error_x\":{\"color\":\"#2a3f5f\"},\"error_y\":{\"color\":\"#2a3f5f\"},\"marker\":{\"line\":{\"color\":\"#E5ECF6\",\"width\":0.5},\"pattern\":{\"fillmode\":\"overlay\",\"size\":10,\"solidity\":0.2}},\"type\":\"bar\"}],\"barpolar\":[{\"marker\":{\"line\":{\"color\":\"#E5ECF6\",\"width\":0.5},\"pattern\":{\"fillmode\":\"overlay\",\"size\":10,\"solidity\":0.2}},\"type\":\"barpolar\"}],\"carpet\":[{\"aaxis\":{\"endlinecolor\":\"#2a3f5f\",\"gridcolor\":\"white\",\"linecolor\":\"white\",\"minorgridcolor\":\"white\",\"startlinecolor\":\"#2a3f5f\"},\"baxis\":{\"endlinecolor\":\"#2a3f5f\",\"gridcolor\":\"white\",\"linecolor\":\"white\",\"minorgridcolor\":\"white\",\"startlinecolor\":\"#2a3f5f\"},\"type\":\"carpet\"}],\"choropleth\":[{\"colorbar\":{\"outlinewidth\":0,\"ticks\":\"\"},\"type\":\"choropleth\"}],\"contour\":[{\"colorbar\":{\"outlinewidth\":0,\"ticks\":\"\"},\"colorscale\":[[0.0,\"#0d0887\"],[0.1111111111111111,\"#46039f\"],[0.2222222222222222,\"#7201a8\"],[0.3333333333333333,\"#9c179e\"],[0.4444444444444444,\"#bd3786\"],[0.5555555555555556,\"#d8576b\"],[0.6666666666666666,\"#ed7953\"],[0.7777777777777778,\"#fb9f3a\"],[0.8888888888888888,\"#fdca26\"],[1.0,\"#f0f921\"]],\"type\":\"contour\"}],\"contourcarpet\":[{\"colorbar\":{\"outlinewidth\":0,\"ticks\":\"\"},\"type\":\"contourcarpet\"}],\"heatmap\":[{\"colorbar\":{\"outlinewidth\":0,\"ticks\":\"\"},\"colorscale\":[[0.0,\"#0d0887\"],[0.1111111111111111,\"#46039f\"],[0.2222222222222222,\"#7201a8\"],[0.3333333333333333,\"#9c179e\"],[0.4444444444444444,\"#bd3786\"],[0.5555555555555556,\"#d8576b\"],[0.6666666666666666,\"#ed7953\"],[0.7777777777777778,\"#fb9f3a\"],[0.8888888888888888,\"#fdca26\"],[1.0,\"#f0f921\"]],\"type\":\"heatmap\"}],\"heatmapgl\":[{\"colorbar\":{\"outlinewidth\":0,\"ticks\":\"\"},\"colorscale\":[[0.0,\"#0d0887\"],[0.1111111111111111,\"#46039f\"],[0.2222222222222222,\"#7201a8\"],[0.3333333333333333,\"#9c179e\"],[0.4444444444444444,\"#bd3786\"],[0.5555555555555556,\"#d8576b\"],[0.6666666666666666,\"#ed7953\"],[0.7777777777777778,\"#fb9f3a\"],[0.8888888888888888,\"#fdca26\"],[1.0,\"#f0f921\"]],\"type\":\"heatmapgl\"}],\"histogram\":[{\"marker\":{\"pattern\":{\"fillmode\":\"overlay\",\"size\":10,\"solidity\":0.2}},\"type\":\"histogram\"}],\"histogram2d\":[{\"colorbar\":{\"outlinewidth\":0,\"ticks\":\"\"},\"colorscale\":[[0.0,\"#0d0887\"],[0.1111111111111111,\"#46039f\"],[0.2222222222222222,\"#7201a8\"],[0.3333333333333333,\"#9c179e\"],[0.4444444444444444,\"#bd3786\"],[0.5555555555555556,\"#d8576b\"],[0.6666666666666666,\"#ed7953\"],[0.7777777777777778,\"#fb9f3a\"],[0.8888888888888888,\"#fdca26\"],[1.0,\"#f0f921\"]],\"type\":\"histogram2d\"}],\"histogram2dcontour\":[{\"colorbar\":{\"outlinewidth\":0,\"ticks\":\"\"},\"colorscale\":[[0.0,\"#0d0887\"],[0.1111111111111111,\"#46039f\"],[0.2222222222222222,\"#7201a8\"],[0.3333333333333333,\"#9c179e\"],[0.4444444444444444,\"#bd3786\"],[0.5555555555555556,\"#d8576b\"],[0.6666666666666666,\"#ed7953\"],[0.7777777777777778,\"#fb9f3a\"],[0.8888888888888888,\"#fdca26\"],[1.0,\"#f0f921\"]],\"type\":\"histogram2dcontour\"}],\"mesh3d\":[{\"colorbar\":{\"outlinewidth\":0,\"ticks\":\"\"},\"type\":\"mesh3d\"}],\"parcoords\":[{\"line\":{\"colorbar\":{\"outlinewidth\":0,\"ticks\":\"\"}},\"type\":\"parcoords\"}],\"pie\":[{\"automargin\":true,\"type\":\"pie\"}],\"scatter\":[{\"marker\":{\"colorbar\":{\"outlinewidth\":0,\"ticks\":\"\"}},\"type\":\"scatter\"}],\"scatter3d\":[{\"line\":{\"colorbar\":{\"outlinewidth\":0,\"ticks\":\"\"}},\"marker\":{\"colorbar\":{\"outlinewidth\":0,\"ticks\":\"\"}},\"type\":\"scatter3d\"}],\"scattercarpet\":[{\"marker\":{\"colorbar\":{\"outlinewidth\":0,\"ticks\":\"\"}},\"type\":\"scattercarpet\"}],\"scattergeo\":[{\"marker\":{\"colorbar\":{\"outlinewidth\":0,\"ticks\":\"\"}},\"type\":\"scattergeo\"}],\"scattergl\":[{\"marker\":{\"colorbar\":{\"outlinewidth\":0,\"ticks\":\"\"}},\"type\":\"scattergl\"}],\"scattermapbox\":[{\"marker\":{\"colorbar\":{\"outlinewidth\":0,\"ticks\":\"\"}},\"type\":\"scattermapbox\"}],\"scatterpolar\":[{\"marker\":{\"colorbar\":{\"outlinewidth\":0,\"ticks\":\"\"}},\"type\":\"scatterpolar\"}],\"scatterpolargl\":[{\"marker\":{\"colorbar\":{\"outlinewidth\":0,\"ticks\":\"\"}},\"type\":\"scatterpolargl\"}],\"scatterternary\":[{\"marker\":{\"colorbar\":{\"outlinewidth\":0,\"ticks\":\"\"}},\"type\":\"scatterternary\"}],\"surface\":[{\"colorbar\":{\"outlinewidth\":0,\"ticks\":\"\"},\"colorscale\":[[0.0,\"#0d0887\"],[0.1111111111111111,\"#46039f\"],[0.2222222222222222,\"#7201a8\"],[0.3333333333333333,\"#9c179e\"],[0.4444444444444444,\"#bd3786\"],[0.5555555555555556,\"#d8576b\"],[0.6666666666666666,\"#ed7953\"],[0.7777777777777778,\"#fb9f3a\"],[0.8888888888888888,\"#fdca26\"],[1.0,\"#f0f921\"]],\"type\":\"surface\"}],\"table\":[{\"cells\":{\"fill\":{\"color\":\"#EBF0F8\"},\"line\":{\"color\":\"white\"}},\"header\":{\"fill\":{\"color\":\"#C8D4E3\"},\"line\":{\"color\":\"white\"}},\"type\":\"table\"}]},\"layout\":{\"annotationdefaults\":{\"arrowcolor\":\"#2a3f5f\",\"arrowhead\":0,\"arrowwidth\":1},\"autotypenumbers\":\"strict\",\"coloraxis\":{\"colorbar\":{\"outlinewidth\":0,\"ticks\":\"\"}},\"colorscale\":{\"diverging\":[[0,\"#8e0152\"],[0.1,\"#c51b7d\"],[0.2,\"#de77ae\"],[0.3,\"#f1b6da\"],[0.4,\"#fde0ef\"],[0.5,\"#f7f7f7\"],[0.6,\"#e6f5d0\"],[0.7,\"#b8e186\"],[0.8,\"#7fbc41\"],[0.9,\"#4d9221\"],[1,\"#276419\"]],\"sequential\":[[0.0,\"#0d0887\"],[0.1111111111111111,\"#46039f\"],[0.2222222222222222,\"#7201a8\"],[0.3333333333333333,\"#9c179e\"],[0.4444444444444444,\"#bd3786\"],[0.5555555555555556,\"#d8576b\"],[0.6666666666666666,\"#ed7953\"],[0.7777777777777778,\"#fb9f3a\"],[0.8888888888888888,\"#fdca26\"],[1.0,\"#f0f921\"]],\"sequentialminus\":[[0.0,\"#0d0887\"],[0.1111111111111111,\"#46039f\"],[0.2222222222222222,\"#7201a8\"],[0.3333333333333333,\"#9c179e\"],[0.4444444444444444,\"#bd3786\"],[0.5555555555555556,\"#d8576b\"],[0.6666666666666666,\"#ed7953\"],[0.7777777777777778,\"#fb9f3a\"],[0.8888888888888888,\"#fdca26\"],[1.0,\"#f0f921\"]]},\"colorway\":[\"#636efa\",\"#EF553B\",\"#00cc96\",\"#ab63fa\",\"#FFA15A\",\"#19d3f3\",\"#FF6692\",\"#B6E880\",\"#FF97FF\",\"#FECB52\"],\"font\":{\"color\":\"#2a3f5f\"},\"geo\":{\"bgcolor\":\"white\",\"lakecolor\":\"white\",\"landcolor\":\"#E5ECF6\",\"showlakes\":true,\"showland\":true,\"subunitcolor\":\"white\"},\"hoverlabel\":{\"align\":\"left\"},\"hovermode\":\"closest\",\"mapbox\":{\"style\":\"light\"},\"paper_bgcolor\":\"white\",\"plot_bgcolor\":\"#E5ECF6\",\"polar\":{\"angularaxis\":{\"gridcolor\":\"white\",\"linecolor\":\"white\",\"ticks\":\"\"},\"bgcolor\":\"#E5ECF6\",\"radialaxis\":{\"gridcolor\":\"white\",\"linecolor\":\"white\",\"ticks\":\"\"}},\"scene\":{\"xaxis\":{\"backgroundcolor\":\"#E5ECF6\",\"gridcolor\":\"white\",\"gridwidth\":2,\"linecolor\":\"white\",\"showbackground\":true,\"ticks\":\"\",\"zerolinecolor\":\"white\"},\"yaxis\":{\"backgroundcolor\":\"#E5ECF6\",\"gridcolor\":\"white\",\"gridwidth\":2,\"linecolor\":\"white\",\"showbackground\":true,\"ticks\":\"\",\"zerolinecolor\":\"white\"},\"zaxis\":{\"backgroundcolor\":\"#E5ECF6\",\"gridcolor\":\"white\",\"gridwidth\":2,\"linecolor\":\"white\",\"showbackground\":true,\"ticks\":\"\",\"zerolinecolor\":\"white\"}},\"shapedefaults\":{\"line\":{\"color\":\"#2a3f5f\"}},\"ternary\":{\"aaxis\":{\"gridcolor\":\"white\",\"linecolor\":\"white\",\"ticks\":\"\"},\"baxis\":{\"gridcolor\":\"white\",\"linecolor\":\"white\",\"ticks\":\"\"},\"bgcolor\":\"#E5ECF6\",\"caxis\":{\"gridcolor\":\"white\",\"linecolor\":\"white\",\"ticks\":\"\"}},\"title\":{\"x\":0.05},\"xaxis\":{\"automargin\":true,\"gridcolor\":\"white\",\"linecolor\":\"white\",\"ticks\":\"\",\"title\":{\"standoff\":15},\"zerolinecolor\":\"white\",\"zerolinewidth\":2},\"yaxis\":{\"automargin\":true,\"gridcolor\":\"white\",\"linecolor\":\"white\",\"ticks\":\"\",\"title\":{\"standoff\":15},\"zerolinecolor\":\"white\",\"zerolinewidth\":2}}},\"xaxis\":{\"title\":{\"text\":\"$\\\\alpha$\"}},\"yaxis\":{\"title\":{\"text\":\"$Q_{LF}$\"}}},                        {\"responsive\": true}                    ).then(function(){\n",
       "                            \n",
       "var gd = document.getElementById('b6c79cca-ee96-43a2-8e87-8cada19df8c5');\n",
       "var x = new MutationObserver(function (mutations, observer) {{\n",
       "        var display = window.getComputedStyle(gd).display;\n",
       "        if (!display || display === 'none') {{\n",
       "            console.log([gd, 'removed!']);\n",
       "            Plotly.purge(gd);\n",
       "            observer.disconnect();\n",
       "        }}\n",
       "}});\n",
       "\n",
       "// Listen for the removal of the full notebook cells\n",
       "var notebookContainer = gd.closest('#notebook-container');\n",
       "if (notebookContainer) {{\n",
       "    x.observe(notebookContainer, {childList: true});\n",
       "}}\n",
       "\n",
       "// Listen for the clearing of the current output cell\n",
       "var outputEl = gd.closest('.output');\n",
       "if (outputEl) {{\n",
       "    x.observe(outputEl, {childList: true});\n",
       "}}\n",
       "\n",
       "                        })                };                });            </script>        </div>"
      ]
     },
     "metadata": {},
     "output_type": "display_data"
    }
   ],
   "source": [
    "modularity_set_lf = {name: define_modularity_set('lf', brute_partitions[name], graph_layers, alpha_order, node_list) \n",
    "                     for name in ['sf', 'ef', 'lf']}\n",
    "plot_dots_2d(modularity_set_lf, '$Q_{LF}$', 'data/plots/toy1/toy1_lf.pdf')"
   ]
  },
  {
   "cell_type": "markdown",
   "metadata": {},
   "source": [
    "## Delta"
   ]
  },
  {
   "cell_type": "code",
   "execution_count": 14,
   "metadata": {},
   "outputs": [
    {
     "data": {
      "application/vnd.jupyter.widget-view+json": {
       "model_id": "",
       "version_major": 2,
       "version_minor": 0
      },
      "text/plain": [
       "HBox(children=(IntProgress(value=0, max=21), HTML(value='')))"
      ]
     },
     "metadata": {},
     "output_type": "display_data"
    },
    {
     "data": {
      "application/vnd.jupyter.widget-view+json": {
       "model_id": "",
       "version_major": 2,
       "version_minor": 0
      },
      "text/plain": [
       "HBox(children=(IntProgress(value=0, max=2), HTML(value='')))"
      ]
     },
     "metadata": {},
     "output_type": "display_data"
    },
    {
     "data": {
      "application/vnd.jupyter.widget-view+json": {
       "model_id": "",
       "version_major": 2,
       "version_minor": 0
      },
      "text/plain": [
       "HBox(children=(IntProgress(value=0, max=2), HTML(value='')))"
      ]
     },
     "metadata": {},
     "output_type": "display_data"
    },
    {
     "data": {
      "application/vnd.jupyter.widget-view+json": {
       "model_id": "",
       "version_major": 2,
       "version_minor": 0
      },
      "text/plain": [
       "HBox(children=(IntProgress(value=0, max=2), HTML(value='')))"
      ]
     },
     "metadata": {},
     "output_type": "display_data"
    },
    {
     "data": {
      "application/vnd.jupyter.widget-view+json": {
       "model_id": "",
       "version_major": 2,
       "version_minor": 0
      },
      "text/plain": [
       "HBox(children=(IntProgress(value=0, max=2), HTML(value='')))"
      ]
     },
     "metadata": {},
     "output_type": "display_data"
    },
    {
     "data": {
      "application/vnd.jupyter.widget-view+json": {
       "model_id": "",
       "version_major": 2,
       "version_minor": 0
      },
      "text/plain": [
       "HBox(children=(IntProgress(value=0, max=2), HTML(value='')))"
      ]
     },
     "metadata": {},
     "output_type": "display_data"
    },
    {
     "data": {
      "application/vnd.jupyter.widget-view+json": {
       "model_id": "",
       "version_major": 2,
       "version_minor": 0
      },
      "text/plain": [
       "HBox(children=(IntProgress(value=0, max=2), HTML(value='')))"
      ]
     },
     "metadata": {},
     "output_type": "display_data"
    },
    {
     "data": {
      "application/vnd.jupyter.widget-view+json": {
       "model_id": "",
       "version_major": 2,
       "version_minor": 0
      },
      "text/plain": [
       "HBox(children=(IntProgress(value=0, max=2), HTML(value='')))"
      ]
     },
     "metadata": {},
     "output_type": "display_data"
    },
    {
     "data": {
      "application/vnd.jupyter.widget-view+json": {
       "model_id": "",
       "version_major": 2,
       "version_minor": 0
      },
      "text/plain": [
       "HBox(children=(IntProgress(value=0, max=2), HTML(value='')))"
      ]
     },
     "metadata": {},
     "output_type": "display_data"
    },
    {
     "data": {
      "application/vnd.jupyter.widget-view+json": {
       "model_id": "",
       "version_major": 2,
       "version_minor": 0
      },
      "text/plain": [
       "HBox(children=(IntProgress(value=0, max=2), HTML(value='')))"
      ]
     },
     "metadata": {},
     "output_type": "display_data"
    },
    {
     "data": {
      "application/vnd.jupyter.widget-view+json": {
       "model_id": "",
       "version_major": 2,
       "version_minor": 0
      },
      "text/plain": [
       "HBox(children=(IntProgress(value=0, max=2), HTML(value='')))"
      ]
     },
     "metadata": {},
     "output_type": "display_data"
    },
    {
     "data": {
      "application/vnd.jupyter.widget-view+json": {
       "model_id": "",
       "version_major": 2,
       "version_minor": 0
      },
      "text/plain": [
       "HBox(children=(IntProgress(value=0, max=2), HTML(value='')))"
      ]
     },
     "metadata": {},
     "output_type": "display_data"
    },
    {
     "data": {
      "application/vnd.jupyter.widget-view+json": {
       "model_id": "",
       "version_major": 2,
       "version_minor": 0
      },
      "text/plain": [
       "HBox(children=(IntProgress(value=0, max=2), HTML(value='')))"
      ]
     },
     "metadata": {},
     "output_type": "display_data"
    },
    {
     "data": {
      "application/vnd.jupyter.widget-view+json": {
       "model_id": "",
       "version_major": 2,
       "version_minor": 0
      },
      "text/plain": [
       "HBox(children=(IntProgress(value=0, max=2), HTML(value='')))"
      ]
     },
     "metadata": {},
     "output_type": "display_data"
    },
    {
     "data": {
      "application/vnd.jupyter.widget-view+json": {
       "model_id": "",
       "version_major": 2,
       "version_minor": 0
      },
      "text/plain": [
       "HBox(children=(IntProgress(value=0, max=2), HTML(value='')))"
      ]
     },
     "metadata": {},
     "output_type": "display_data"
    },
    {
     "data": {
      "application/vnd.jupyter.widget-view+json": {
       "model_id": "",
       "version_major": 2,
       "version_minor": 0
      },
      "text/plain": [
       "HBox(children=(IntProgress(value=0, max=2), HTML(value='')))"
      ]
     },
     "metadata": {},
     "output_type": "display_data"
    },
    {
     "data": {
      "application/vnd.jupyter.widget-view+json": {
       "model_id": "",
       "version_major": 2,
       "version_minor": 0
      },
      "text/plain": [
       "HBox(children=(IntProgress(value=0, max=2), HTML(value='')))"
      ]
     },
     "metadata": {},
     "output_type": "display_data"
    },
    {
     "data": {
      "application/vnd.jupyter.widget-view+json": {
       "model_id": "",
       "version_major": 2,
       "version_minor": 0
      },
      "text/plain": [
       "HBox(children=(IntProgress(value=0, max=2), HTML(value='')))"
      ]
     },
     "metadata": {},
     "output_type": "display_data"
    },
    {
     "data": {
      "application/vnd.jupyter.widget-view+json": {
       "model_id": "",
       "version_major": 2,
       "version_minor": 0
      },
      "text/plain": [
       "HBox(children=(IntProgress(value=0, max=2), HTML(value='')))"
      ]
     },
     "metadata": {},
     "output_type": "display_data"
    },
    {
     "data": {
      "application/vnd.jupyter.widget-view+json": {
       "model_id": "",
       "version_major": 2,
       "version_minor": 0
      },
      "text/plain": [
       "HBox(children=(IntProgress(value=0, max=2), HTML(value='')))"
      ]
     },
     "metadata": {},
     "output_type": "display_data"
    },
    {
     "data": {
      "application/vnd.jupyter.widget-view+json": {
       "model_id": "",
       "version_major": 2,
       "version_minor": 0
      },
      "text/plain": [
       "HBox(children=(IntProgress(value=0, max=2), HTML(value='')))"
      ]
     },
     "metadata": {},
     "output_type": "display_data"
    },
    {
     "data": {
      "application/vnd.jupyter.widget-view+json": {
       "model_id": "",
       "version_major": 2,
       "version_minor": 0
      },
      "text/plain": [
       "HBox(children=(IntProgress(value=0, max=2), HTML(value='')))"
      ]
     },
     "metadata": {},
     "output_type": "display_data"
    },
    {
     "name": "stdout",
     "output_type": "stream",
     "text": [
      "\r"
     ]
    },
    {
     "data": {
      "application/vnd.jupyter.widget-view+json": {
       "model_id": "",
       "version_major": 2,
       "version_minor": 0
      },
      "text/plain": [
       "HBox(children=(IntProgress(value=0, max=21), HTML(value='')))"
      ]
     },
     "metadata": {},
     "output_type": "display_data"
    },
    {
     "data": {
      "application/vnd.jupyter.widget-view+json": {
       "model_id": "",
       "version_major": 2,
       "version_minor": 0
      },
      "text/plain": [
       "HBox(children=(IntProgress(value=0, max=2), HTML(value='')))"
      ]
     },
     "metadata": {},
     "output_type": "display_data"
    },
    {
     "data": {
      "application/vnd.jupyter.widget-view+json": {
       "model_id": "",
       "version_major": 2,
       "version_minor": 0
      },
      "text/plain": [
       "HBox(children=(IntProgress(value=0, max=2), HTML(value='')))"
      ]
     },
     "metadata": {},
     "output_type": "display_data"
    },
    {
     "data": {
      "application/vnd.jupyter.widget-view+json": {
       "model_id": "",
       "version_major": 2,
       "version_minor": 0
      },
      "text/plain": [
       "HBox(children=(IntProgress(value=0, max=2), HTML(value='')))"
      ]
     },
     "metadata": {},
     "output_type": "display_data"
    },
    {
     "data": {
      "application/vnd.jupyter.widget-view+json": {
       "model_id": "",
       "version_major": 2,
       "version_minor": 0
      },
      "text/plain": [
       "HBox(children=(IntProgress(value=0, max=2), HTML(value='')))"
      ]
     },
     "metadata": {},
     "output_type": "display_data"
    },
    {
     "data": {
      "application/vnd.jupyter.widget-view+json": {
       "model_id": "",
       "version_major": 2,
       "version_minor": 0
      },
      "text/plain": [
       "HBox(children=(IntProgress(value=0, max=2), HTML(value='')))"
      ]
     },
     "metadata": {},
     "output_type": "display_data"
    },
    {
     "data": {
      "application/vnd.jupyter.widget-view+json": {
       "model_id": "",
       "version_major": 2,
       "version_minor": 0
      },
      "text/plain": [
       "HBox(children=(IntProgress(value=0, max=2), HTML(value='')))"
      ]
     },
     "metadata": {},
     "output_type": "display_data"
    },
    {
     "data": {
      "application/vnd.jupyter.widget-view+json": {
       "model_id": "",
       "version_major": 2,
       "version_minor": 0
      },
      "text/plain": [
       "HBox(children=(IntProgress(value=0, max=2), HTML(value='')))"
      ]
     },
     "metadata": {},
     "output_type": "display_data"
    },
    {
     "data": {
      "application/vnd.jupyter.widget-view+json": {
       "model_id": "",
       "version_major": 2,
       "version_minor": 0
      },
      "text/plain": [
       "HBox(children=(IntProgress(value=0, max=2), HTML(value='')))"
      ]
     },
     "metadata": {},
     "output_type": "display_data"
    },
    {
     "data": {
      "application/vnd.jupyter.widget-view+json": {
       "model_id": "",
       "version_major": 2,
       "version_minor": 0
      },
      "text/plain": [
       "HBox(children=(IntProgress(value=0, max=2), HTML(value='')))"
      ]
     },
     "metadata": {},
     "output_type": "display_data"
    },
    {
     "data": {
      "application/vnd.jupyter.widget-view+json": {
       "model_id": "",
       "version_major": 2,
       "version_minor": 0
      },
      "text/plain": [
       "HBox(children=(IntProgress(value=0, max=2), HTML(value='')))"
      ]
     },
     "metadata": {},
     "output_type": "display_data"
    },
    {
     "data": {
      "application/vnd.jupyter.widget-view+json": {
       "model_id": "",
       "version_major": 2,
       "version_minor": 0
      },
      "text/plain": [
       "HBox(children=(IntProgress(value=0, max=2), HTML(value='')))"
      ]
     },
     "metadata": {},
     "output_type": "display_data"
    },
    {
     "data": {
      "application/vnd.jupyter.widget-view+json": {
       "model_id": "",
       "version_major": 2,
       "version_minor": 0
      },
      "text/plain": [
       "HBox(children=(IntProgress(value=0, max=2), HTML(value='')))"
      ]
     },
     "metadata": {},
     "output_type": "display_data"
    },
    {
     "data": {
      "application/vnd.jupyter.widget-view+json": {
       "model_id": "",
       "version_major": 2,
       "version_minor": 0
      },
      "text/plain": [
       "HBox(children=(IntProgress(value=0, max=2), HTML(value='')))"
      ]
     },
     "metadata": {},
     "output_type": "display_data"
    },
    {
     "data": {
      "application/vnd.jupyter.widget-view+json": {
       "model_id": "",
       "version_major": 2,
       "version_minor": 0
      },
      "text/plain": [
       "HBox(children=(IntProgress(value=0, max=2), HTML(value='')))"
      ]
     },
     "metadata": {},
     "output_type": "display_data"
    },
    {
     "data": {
      "application/vnd.jupyter.widget-view+json": {
       "model_id": "",
       "version_major": 2,
       "version_minor": 0
      },
      "text/plain": [
       "HBox(children=(IntProgress(value=0, max=2), HTML(value='')))"
      ]
     },
     "metadata": {},
     "output_type": "display_data"
    },
    {
     "data": {
      "application/vnd.jupyter.widget-view+json": {
       "model_id": "",
       "version_major": 2,
       "version_minor": 0
      },
      "text/plain": [
       "HBox(children=(IntProgress(value=0, max=2), HTML(value='')))"
      ]
     },
     "metadata": {},
     "output_type": "display_data"
    },
    {
     "data": {
      "application/vnd.jupyter.widget-view+json": {
       "model_id": "",
       "version_major": 2,
       "version_minor": 0
      },
      "text/plain": [
       "HBox(children=(IntProgress(value=0, max=2), HTML(value='')))"
      ]
     },
     "metadata": {},
     "output_type": "display_data"
    },
    {
     "data": {
      "application/vnd.jupyter.widget-view+json": {
       "model_id": "",
       "version_major": 2,
       "version_minor": 0
      },
      "text/plain": [
       "HBox(children=(IntProgress(value=0, max=2), HTML(value='')))"
      ]
     },
     "metadata": {},
     "output_type": "display_data"
    },
    {
     "data": {
      "application/vnd.jupyter.widget-view+json": {
       "model_id": "",
       "version_major": 2,
       "version_minor": 0
      },
      "text/plain": [
       "HBox(children=(IntProgress(value=0, max=2), HTML(value='')))"
      ]
     },
     "metadata": {},
     "output_type": "display_data"
    },
    {
     "data": {
      "application/vnd.jupyter.widget-view+json": {
       "model_id": "",
       "version_major": 2,
       "version_minor": 0
      },
      "text/plain": [
       "HBox(children=(IntProgress(value=0, max=2), HTML(value='')))"
      ]
     },
     "metadata": {},
     "output_type": "display_data"
    },
    {
     "data": {
      "application/vnd.jupyter.widget-view+json": {
       "model_id": "",
       "version_major": 2,
       "version_minor": 0
      },
      "text/plain": [
       "HBox(children=(IntProgress(value=0, max=2), HTML(value='')))"
      ]
     },
     "metadata": {},
     "output_type": "display_data"
    },
    {
     "name": "stdout",
     "output_type": "stream",
     "text": [
      "\r"
     ]
    },
    {
     "data": {
      "application/vnd.jupyter.widget-view+json": {
       "model_id": "",
       "version_major": 2,
       "version_minor": 0
      },
      "text/plain": [
       "HBox(children=(IntProgress(value=0, max=21), HTML(value='')))"
      ]
     },
     "metadata": {},
     "output_type": "display_data"
    },
    {
     "data": {
      "application/vnd.jupyter.widget-view+json": {
       "model_id": "",
       "version_major": 2,
       "version_minor": 0
      },
      "text/plain": [
       "HBox(children=(IntProgress(value=0, max=8), HTML(value='')))"
      ]
     },
     "metadata": {},
     "output_type": "display_data"
    },
    {
     "data": {
      "application/vnd.jupyter.widget-view+json": {
       "model_id": "",
       "version_major": 2,
       "version_minor": 0
      },
      "text/plain": [
       "HBox(children=(IntProgress(value=0, max=8), HTML(value='')))"
      ]
     },
     "metadata": {},
     "output_type": "display_data"
    },
    {
     "data": {
      "application/vnd.jupyter.widget-view+json": {
       "model_id": "",
       "version_major": 2,
       "version_minor": 0
      },
      "text/plain": [
       "HBox(children=(IntProgress(value=0, max=8), HTML(value='')))"
      ]
     },
     "metadata": {},
     "output_type": "display_data"
    },
    {
     "data": {
      "application/vnd.jupyter.widget-view+json": {
       "model_id": "",
       "version_major": 2,
       "version_minor": 0
      },
      "text/plain": [
       "HBox(children=(IntProgress(value=0, max=8), HTML(value='')))"
      ]
     },
     "metadata": {},
     "output_type": "display_data"
    },
    {
     "data": {
      "application/vnd.jupyter.widget-view+json": {
       "model_id": "",
       "version_major": 2,
       "version_minor": 0
      },
      "text/plain": [
       "HBox(children=(IntProgress(value=0, max=8), HTML(value='')))"
      ]
     },
     "metadata": {},
     "output_type": "display_data"
    },
    {
     "data": {
      "application/vnd.jupyter.widget-view+json": {
       "model_id": "",
       "version_major": 2,
       "version_minor": 0
      },
      "text/plain": [
       "HBox(children=(IntProgress(value=0, max=8), HTML(value='')))"
      ]
     },
     "metadata": {},
     "output_type": "display_data"
    },
    {
     "data": {
      "application/vnd.jupyter.widget-view+json": {
       "model_id": "",
       "version_major": 2,
       "version_minor": 0
      },
      "text/plain": [
       "HBox(children=(IntProgress(value=0, max=8), HTML(value='')))"
      ]
     },
     "metadata": {},
     "output_type": "display_data"
    },
    {
     "data": {
      "application/vnd.jupyter.widget-view+json": {
       "model_id": "",
       "version_major": 2,
       "version_minor": 0
      },
      "text/plain": [
       "HBox(children=(IntProgress(value=0, max=8), HTML(value='')))"
      ]
     },
     "metadata": {},
     "output_type": "display_data"
    },
    {
     "data": {
      "application/vnd.jupyter.widget-view+json": {
       "model_id": "",
       "version_major": 2,
       "version_minor": 0
      },
      "text/plain": [
       "HBox(children=(IntProgress(value=0, max=8), HTML(value='')))"
      ]
     },
     "metadata": {},
     "output_type": "display_data"
    },
    {
     "data": {
      "application/vnd.jupyter.widget-view+json": {
       "model_id": "",
       "version_major": 2,
       "version_minor": 0
      },
      "text/plain": [
       "HBox(children=(IntProgress(value=0, max=8), HTML(value='')))"
      ]
     },
     "metadata": {},
     "output_type": "display_data"
    },
    {
     "data": {
      "application/vnd.jupyter.widget-view+json": {
       "model_id": "",
       "version_major": 2,
       "version_minor": 0
      },
      "text/plain": [
       "HBox(children=(IntProgress(value=0, max=8), HTML(value='')))"
      ]
     },
     "metadata": {},
     "output_type": "display_data"
    },
    {
     "data": {
      "application/vnd.jupyter.widget-view+json": {
       "model_id": "",
       "version_major": 2,
       "version_minor": 0
      },
      "text/plain": [
       "HBox(children=(IntProgress(value=0, max=8), HTML(value='')))"
      ]
     },
     "metadata": {},
     "output_type": "display_data"
    },
    {
     "data": {
      "application/vnd.jupyter.widget-view+json": {
       "model_id": "",
       "version_major": 2,
       "version_minor": 0
      },
      "text/plain": [
       "HBox(children=(IntProgress(value=0, max=8), HTML(value='')))"
      ]
     },
     "metadata": {},
     "output_type": "display_data"
    },
    {
     "data": {
      "application/vnd.jupyter.widget-view+json": {
       "model_id": "",
       "version_major": 2,
       "version_minor": 0
      },
      "text/plain": [
       "HBox(children=(IntProgress(value=0, max=8), HTML(value='')))"
      ]
     },
     "metadata": {},
     "output_type": "display_data"
    },
    {
     "data": {
      "application/vnd.jupyter.widget-view+json": {
       "model_id": "",
       "version_major": 2,
       "version_minor": 0
      },
      "text/plain": [
       "HBox(children=(IntProgress(value=0, max=8), HTML(value='')))"
      ]
     },
     "metadata": {},
     "output_type": "display_data"
    },
    {
     "data": {
      "application/vnd.jupyter.widget-view+json": {
       "model_id": "",
       "version_major": 2,
       "version_minor": 0
      },
      "text/plain": [
       "HBox(children=(IntProgress(value=0, max=8), HTML(value='')))"
      ]
     },
     "metadata": {},
     "output_type": "display_data"
    },
    {
     "data": {
      "application/vnd.jupyter.widget-view+json": {
       "model_id": "",
       "version_major": 2,
       "version_minor": 0
      },
      "text/plain": [
       "HBox(children=(IntProgress(value=0, max=8), HTML(value='')))"
      ]
     },
     "metadata": {},
     "output_type": "display_data"
    },
    {
     "data": {
      "application/vnd.jupyter.widget-view+json": {
       "model_id": "",
       "version_major": 2,
       "version_minor": 0
      },
      "text/plain": [
       "HBox(children=(IntProgress(value=0, max=8), HTML(value='')))"
      ]
     },
     "metadata": {},
     "output_type": "display_data"
    },
    {
     "data": {
      "application/vnd.jupyter.widget-view+json": {
       "model_id": "",
       "version_major": 2,
       "version_minor": 0
      },
      "text/plain": [
       "HBox(children=(IntProgress(value=0, max=8), HTML(value='')))"
      ]
     },
     "metadata": {},
     "output_type": "display_data"
    },
    {
     "data": {
      "application/vnd.jupyter.widget-view+json": {
       "model_id": "",
       "version_major": 2,
       "version_minor": 0
      },
      "text/plain": [
       "HBox(children=(IntProgress(value=0, max=8), HTML(value='')))"
      ]
     },
     "metadata": {},
     "output_type": "display_data"
    },
    {
     "data": {
      "application/vnd.jupyter.widget-view+json": {
       "model_id": "",
       "version_major": 2,
       "version_minor": 0
      },
      "text/plain": [
       "HBox(children=(IntProgress(value=0, max=8), HTML(value='')))"
      ]
     },
     "metadata": {},
     "output_type": "display_data"
    },
    {
     "name": "stdout",
     "output_type": "stream",
     "text": [
      "\r"
     ]
    },
    {
     "data": {
      "application/vnd.plotly.v1+json": {
       "config": {
        "plotlyServerURL": "https://plot.ly"
       },
       "data": [
        {
         "line": {
          "color": "olivedrab",
          "dash": "dash",
          "width": 2
         },
         "marker": {
          "size": 15
         },
         "mode": "markers",
         "name": "Early Fusion",
         "type": "scatter",
         "x": [
          0,
          0,
          0.05,
          0.05,
          0.1,
          0.1,
          0.15000000000000002,
          0.15000000000000002,
          0.2,
          0.2,
          0.25,
          0.25,
          0.30000000000000004,
          0.30000000000000004,
          0.35000000000000003,
          0.35000000000000003,
          0.4,
          0.4,
          0.45,
          0.45,
          0.5,
          0.5,
          0.55,
          0.55,
          0.6000000000000001,
          0.6000000000000001,
          0.65,
          0.65,
          0.7000000000000001,
          0.7000000000000001,
          0.75,
          0.75,
          0.8,
          0.8,
          0.8500000000000001,
          0.8500000000000001,
          0.9,
          0.9,
          0.9500000000000001,
          0.9500000000000001,
          1,
          1
         ],
         "y": [
          0,
          0,
          0.0019121056259173569,
          0.0019121056259173569,
          0.0036229369754225416,
          0.0036229369754225416,
          0.005132494048515249,
          0.005132494048515249,
          0.006440776845195409,
          0.006440776845195409,
          0.007547785365463494,
          0.007547785365463494,
          0.008453519609319254,
          0.008453519609319254,
          0.009157979576762426,
          0.009157979576762426,
          0.00966116526779319,
          0.00966116526779319,
          0.009963076682411753,
          0.009963076682411753,
          0.01006371382061795,
          0.01006371382061795,
          0.00996307668241199,
          0.00996307668241199,
          0.009661165267793217,
          0.009661165267793217,
          0.009157979576762523,
          0.009157979576762523,
          0.008453519609319032,
          0.008453519609319032,
          0.00754778536546348,
          0.00754778536546348,
          0.006440776845195437,
          0.006440776845195437,
          0.005132494048515263,
          0.005132494048515263,
          0.0036229369754224583,
          0.0036229369754224583,
          0.0019121056259175095,
          0.0019121056259175095,
          0,
          0
         ]
        },
        {
         "line": {
          "color": "deepskyblue",
          "dash": "dash",
          "width": 2
         },
         "marker": {
          "size": 10
         },
         "mode": "markers",
         "name": "Simultaneous Fusion",
         "type": "scatter",
         "x": [
          0,
          0,
          0.05,
          0.05,
          0.1,
          0.1,
          0.15000000000000002,
          0.15000000000000002,
          0.2,
          0.2,
          0.25,
          0.25,
          0.30000000000000004,
          0.30000000000000004,
          0.35000000000000003,
          0.35000000000000003,
          0.4,
          0.4,
          0.45,
          0.45,
          0.5,
          0.5,
          0.55,
          0.55,
          0.6000000000000001,
          0.6000000000000001,
          0.65,
          0.65,
          0.7000000000000001,
          0.7000000000000001,
          0.75,
          0.75,
          0.8,
          0.8,
          0.8500000000000001,
          0.8500000000000001,
          0.9,
          0.9,
          0.9500000000000001,
          0.9500000000000001,
          1,
          1
         ],
         "y": [
          0,
          0,
          0.0019121056259173569,
          0.0019121056259173569,
          0.0036229369754225416,
          0.0036229369754225416,
          0.005132494048515249,
          0.005132494048515249,
          0.006440776845195409,
          0.006440776845195409,
          0.007547785365463494,
          0.007547785365463494,
          0.008453519609319254,
          0.008453519609319254,
          0.009157979576762426,
          0.009157979576762426,
          0.00966116526779319,
          0.00966116526779319,
          0.009963076682411753,
          0.009963076682411753,
          0.01006371382061795,
          0.01006371382061795,
          0.00996307668241199,
          0.00996307668241199,
          0.009661165267793217,
          0.009661165267793217,
          0.009157979576762523,
          0.009157979576762523,
          0.008453519609319032,
          0.008453519609319032,
          0.00754778536546348,
          0.00754778536546348,
          0.006440776845195437,
          0.006440776845195437,
          0.005132494048515263,
          0.005132494048515263,
          0.0036229369754224583,
          0.0036229369754224583,
          0.0019121056259175095,
          0.0019121056259175095,
          0,
          0
         ]
        },
        {
         "line": {
          "color": "tomato",
          "dash": "dash",
          "width": 2
         },
         "marker": {
          "size": 7
         },
         "mode": "markers",
         "name": "Late Fusion",
         "type": "scatter",
         "x": [
          0,
          0,
          0,
          0,
          0,
          0,
          0,
          0,
          0.05,
          0.05,
          0.05,
          0.05,
          0.05,
          0.05,
          0.05,
          0.05,
          0.1,
          0.1,
          0.1,
          0.1,
          0.1,
          0.1,
          0.1,
          0.1,
          0.15000000000000002,
          0.15000000000000002,
          0.15000000000000002,
          0.15000000000000002,
          0.15000000000000002,
          0.15000000000000002,
          0.15000000000000002,
          0.15000000000000002,
          0.2,
          0.2,
          0.2,
          0.2,
          0.2,
          0.2,
          0.2,
          0.2,
          0.25,
          0.25,
          0.25,
          0.25,
          0.25,
          0.25,
          0.25,
          0.25,
          0.30000000000000004,
          0.30000000000000004,
          0.30000000000000004,
          0.30000000000000004,
          0.30000000000000004,
          0.30000000000000004,
          0.30000000000000004,
          0.30000000000000004,
          0.35000000000000003,
          0.35000000000000003,
          0.35000000000000003,
          0.35000000000000003,
          0.35000000000000003,
          0.35000000000000003,
          0.35000000000000003,
          0.35000000000000003,
          0.4,
          0.4,
          0.4,
          0.4,
          0.4,
          0.4,
          0.4,
          0.4,
          0.45,
          0.45,
          0.45,
          0.45,
          0.45,
          0.45,
          0.45,
          0.45,
          0.5,
          0.5,
          0.5,
          0.5,
          0.5,
          0.5,
          0.5,
          0.5,
          0.55,
          0.55,
          0.55,
          0.55,
          0.55,
          0.55,
          0.55,
          0.55,
          0.6000000000000001,
          0.6000000000000001,
          0.6000000000000001,
          0.6000000000000001,
          0.6000000000000001,
          0.6000000000000001,
          0.6000000000000001,
          0.6000000000000001,
          0.65,
          0.65,
          0.65,
          0.65,
          0.65,
          0.65,
          0.65,
          0.65,
          0.7000000000000001,
          0.7000000000000001,
          0.7000000000000001,
          0.7000000000000001,
          0.7000000000000001,
          0.7000000000000001,
          0.7000000000000001,
          0.7000000000000001,
          0.75,
          0.75,
          0.75,
          0.75,
          0.75,
          0.75,
          0.75,
          0.75,
          0.8,
          0.8,
          0.8,
          0.8,
          0.8,
          0.8,
          0.8,
          0.8,
          0.8500000000000001,
          0.8500000000000001,
          0.8500000000000001,
          0.8500000000000001,
          0.8500000000000001,
          0.8500000000000001,
          0.8500000000000001,
          0.8500000000000001,
          0.9,
          0.9,
          0.9,
          0.9,
          0.9,
          0.9,
          0.9,
          0.9,
          0.9500000000000001,
          0.9500000000000001,
          0.9500000000000001,
          0.9500000000000001,
          0.9500000000000001,
          0.9500000000000001,
          0.9500000000000001,
          0.9500000000000001,
          1,
          1,
          1,
          1,
          1,
          1,
          1,
          1
         ],
         "y": [
          0,
          0,
          0,
          0,
          0,
          0,
          0,
          0,
          0.0019121056259173569,
          0.0019121056259173569,
          0.0019121056259173569,
          0.0019121056259173569,
          0.0019121056259173569,
          0.0019121056259173569,
          0.0019121056259173569,
          0.0019121056259173569,
          0.0036229369754225416,
          0.0036229369754225416,
          0.0036229369754225416,
          0.0036229369754225416,
          0.0036229369754225416,
          0.0036229369754225416,
          0.0036229369754225416,
          0.0036229369754225416,
          0.005132494048515249,
          0.005132494048515249,
          0.005132494048515249,
          0.005132494048515249,
          0.005132494048515249,
          0.005132494048515249,
          0.005132494048515249,
          0.005132494048515249,
          0.006440776845195409,
          0.006440776845195409,
          0.006440776845195409,
          0.006440776845195409,
          0.006440776845195409,
          0.006440776845195409,
          0.006440776845195409,
          0.006440776845195409,
          0.007547785365463494,
          0.007547785365463494,
          0.007547785365463494,
          0.007547785365463494,
          0.007547785365463494,
          0.007547785365463494,
          0.007547785365463494,
          0.007547785365463494,
          0.008453519609319254,
          0.008453519609319254,
          0.008453519609319254,
          0.008453519609319254,
          0.008453519609319254,
          0.008453519609319254,
          0.008453519609319254,
          0.008453519609319254,
          0.009157979576762426,
          0.009157979576762426,
          0.009157979576762426,
          0.009157979576762426,
          0.009157979576762426,
          0.009157979576762426,
          0.009157979576762426,
          0.009157979576762426,
          0.00966116526779319,
          0.00966116526779319,
          0.00966116526779319,
          0.00966116526779319,
          0.00966116526779319,
          0.00966116526779319,
          0.00966116526779319,
          0.00966116526779319,
          0.009963076682411753,
          0.009963076682411753,
          0.009963076682411753,
          0.009963076682411753,
          0.009963076682411753,
          0.009963076682411753,
          0.009963076682411753,
          0.009963076682411753,
          0.01006371382061795,
          0.01006371382061795,
          0.01006371382061795,
          0.01006371382061795,
          0.01006371382061795,
          0.01006371382061795,
          0.01006371382061795,
          0.01006371382061795,
          0.00996307668241199,
          0.00996307668241199,
          0.00996307668241199,
          0.00996307668241199,
          0.00996307668241199,
          0.00996307668241199,
          0.00996307668241199,
          0.00996307668241199,
          0.009661165267793217,
          0.009661165267793217,
          0.009661165267793217,
          0.009661165267793217,
          0.009661165267793217,
          0.009661165267793217,
          0.009661165267793217,
          0.009661165267793217,
          0.009157979576762523,
          0.009157979576762523,
          0.009157979576762523,
          0.009157979576762523,
          0.009157979576762523,
          0.009157979576762523,
          0.009157979576762523,
          0.009157979576762523,
          0.008453519609319032,
          0.008453519609319032,
          0.008453519609319032,
          0.008453519609319032,
          0.008453519609319032,
          0.008453519609319032,
          0.008453519609319032,
          0.008453519609319032,
          0.00754778536546348,
          0.00754778536546348,
          0.00754778536546348,
          0.00754778536546348,
          0.00754778536546348,
          0.00754778536546348,
          0.00754778536546348,
          0.00754778536546348,
          0.006440776845195437,
          0.006440776845195437,
          0.006440776845195437,
          0.006440776845195437,
          0.006440776845195437,
          0.006440776845195437,
          0.006440776845195437,
          0.006440776845195437,
          0.005132494048515263,
          0.005132494048515263,
          0.005132494048515263,
          0.005132494048515263,
          0.005132494048515263,
          0.005132494048515263,
          0.005132494048515263,
          0.005132494048515263,
          0.0036229369754224583,
          0.0036229369754224583,
          0.0036229369754224583,
          0.0036229369754224583,
          0.0036229369754224583,
          0.0036229369754224583,
          0.0036229369754224583,
          0.0036229369754224583,
          0.0019121056259175095,
          0.0019121056259175095,
          0.0019121056259175095,
          0.0019121056259175095,
          0.0019121056259175095,
          0.0019121056259175095,
          0.0019121056259175095,
          0.0019121056259175095,
          0,
          0,
          0,
          0,
          0,
          0,
          0,
          0
         ]
        }
       ],
       "layout": {
        "showlegend": false,
        "template": {
         "data": {
          "bar": [
           {
            "error_x": {
             "color": "#2a3f5f"
            },
            "error_y": {
             "color": "#2a3f5f"
            },
            "marker": {
             "line": {
              "color": "#E5ECF6",
              "width": 0.5
             },
             "pattern": {
              "fillmode": "overlay",
              "size": 10,
              "solidity": 0.2
             }
            },
            "type": "bar"
           }
          ],
          "barpolar": [
           {
            "marker": {
             "line": {
              "color": "#E5ECF6",
              "width": 0.5
             },
             "pattern": {
              "fillmode": "overlay",
              "size": 10,
              "solidity": 0.2
             }
            },
            "type": "barpolar"
           }
          ],
          "carpet": [
           {
            "aaxis": {
             "endlinecolor": "#2a3f5f",
             "gridcolor": "white",
             "linecolor": "white",
             "minorgridcolor": "white",
             "startlinecolor": "#2a3f5f"
            },
            "baxis": {
             "endlinecolor": "#2a3f5f",
             "gridcolor": "white",
             "linecolor": "white",
             "minorgridcolor": "white",
             "startlinecolor": "#2a3f5f"
            },
            "type": "carpet"
           }
          ],
          "choropleth": [
           {
            "colorbar": {
             "outlinewidth": 0,
             "ticks": ""
            },
            "type": "choropleth"
           }
          ],
          "contour": [
           {
            "colorbar": {
             "outlinewidth": 0,
             "ticks": ""
            },
            "colorscale": [
             [
              0,
              "#0d0887"
             ],
             [
              0.1111111111111111,
              "#46039f"
             ],
             [
              0.2222222222222222,
              "#7201a8"
             ],
             [
              0.3333333333333333,
              "#9c179e"
             ],
             [
              0.4444444444444444,
              "#bd3786"
             ],
             [
              0.5555555555555556,
              "#d8576b"
             ],
             [
              0.6666666666666666,
              "#ed7953"
             ],
             [
              0.7777777777777778,
              "#fb9f3a"
             ],
             [
              0.8888888888888888,
              "#fdca26"
             ],
             [
              1,
              "#f0f921"
             ]
            ],
            "type": "contour"
           }
          ],
          "contourcarpet": [
           {
            "colorbar": {
             "outlinewidth": 0,
             "ticks": ""
            },
            "type": "contourcarpet"
           }
          ],
          "heatmap": [
           {
            "colorbar": {
             "outlinewidth": 0,
             "ticks": ""
            },
            "colorscale": [
             [
              0,
              "#0d0887"
             ],
             [
              0.1111111111111111,
              "#46039f"
             ],
             [
              0.2222222222222222,
              "#7201a8"
             ],
             [
              0.3333333333333333,
              "#9c179e"
             ],
             [
              0.4444444444444444,
              "#bd3786"
             ],
             [
              0.5555555555555556,
              "#d8576b"
             ],
             [
              0.6666666666666666,
              "#ed7953"
             ],
             [
              0.7777777777777778,
              "#fb9f3a"
             ],
             [
              0.8888888888888888,
              "#fdca26"
             ],
             [
              1,
              "#f0f921"
             ]
            ],
            "type": "heatmap"
           }
          ],
          "heatmapgl": [
           {
            "colorbar": {
             "outlinewidth": 0,
             "ticks": ""
            },
            "colorscale": [
             [
              0,
              "#0d0887"
             ],
             [
              0.1111111111111111,
              "#46039f"
             ],
             [
              0.2222222222222222,
              "#7201a8"
             ],
             [
              0.3333333333333333,
              "#9c179e"
             ],
             [
              0.4444444444444444,
              "#bd3786"
             ],
             [
              0.5555555555555556,
              "#d8576b"
             ],
             [
              0.6666666666666666,
              "#ed7953"
             ],
             [
              0.7777777777777778,
              "#fb9f3a"
             ],
             [
              0.8888888888888888,
              "#fdca26"
             ],
             [
              1,
              "#f0f921"
             ]
            ],
            "type": "heatmapgl"
           }
          ],
          "histogram": [
           {
            "marker": {
             "pattern": {
              "fillmode": "overlay",
              "size": 10,
              "solidity": 0.2
             }
            },
            "type": "histogram"
           }
          ],
          "histogram2d": [
           {
            "colorbar": {
             "outlinewidth": 0,
             "ticks": ""
            },
            "colorscale": [
             [
              0,
              "#0d0887"
             ],
             [
              0.1111111111111111,
              "#46039f"
             ],
             [
              0.2222222222222222,
              "#7201a8"
             ],
             [
              0.3333333333333333,
              "#9c179e"
             ],
             [
              0.4444444444444444,
              "#bd3786"
             ],
             [
              0.5555555555555556,
              "#d8576b"
             ],
             [
              0.6666666666666666,
              "#ed7953"
             ],
             [
              0.7777777777777778,
              "#fb9f3a"
             ],
             [
              0.8888888888888888,
              "#fdca26"
             ],
             [
              1,
              "#f0f921"
             ]
            ],
            "type": "histogram2d"
           }
          ],
          "histogram2dcontour": [
           {
            "colorbar": {
             "outlinewidth": 0,
             "ticks": ""
            },
            "colorscale": [
             [
              0,
              "#0d0887"
             ],
             [
              0.1111111111111111,
              "#46039f"
             ],
             [
              0.2222222222222222,
              "#7201a8"
             ],
             [
              0.3333333333333333,
              "#9c179e"
             ],
             [
              0.4444444444444444,
              "#bd3786"
             ],
             [
              0.5555555555555556,
              "#d8576b"
             ],
             [
              0.6666666666666666,
              "#ed7953"
             ],
             [
              0.7777777777777778,
              "#fb9f3a"
             ],
             [
              0.8888888888888888,
              "#fdca26"
             ],
             [
              1,
              "#f0f921"
             ]
            ],
            "type": "histogram2dcontour"
           }
          ],
          "mesh3d": [
           {
            "colorbar": {
             "outlinewidth": 0,
             "ticks": ""
            },
            "type": "mesh3d"
           }
          ],
          "parcoords": [
           {
            "line": {
             "colorbar": {
              "outlinewidth": 0,
              "ticks": ""
             }
            },
            "type": "parcoords"
           }
          ],
          "pie": [
           {
            "automargin": true,
            "type": "pie"
           }
          ],
          "scatter": [
           {
            "marker": {
             "colorbar": {
              "outlinewidth": 0,
              "ticks": ""
             }
            },
            "type": "scatter"
           }
          ],
          "scatter3d": [
           {
            "line": {
             "colorbar": {
              "outlinewidth": 0,
              "ticks": ""
             }
            },
            "marker": {
             "colorbar": {
              "outlinewidth": 0,
              "ticks": ""
             }
            },
            "type": "scatter3d"
           }
          ],
          "scattercarpet": [
           {
            "marker": {
             "colorbar": {
              "outlinewidth": 0,
              "ticks": ""
             }
            },
            "type": "scattercarpet"
           }
          ],
          "scattergeo": [
           {
            "marker": {
             "colorbar": {
              "outlinewidth": 0,
              "ticks": ""
             }
            },
            "type": "scattergeo"
           }
          ],
          "scattergl": [
           {
            "marker": {
             "colorbar": {
              "outlinewidth": 0,
              "ticks": ""
             }
            },
            "type": "scattergl"
           }
          ],
          "scattermapbox": [
           {
            "marker": {
             "colorbar": {
              "outlinewidth": 0,
              "ticks": ""
             }
            },
            "type": "scattermapbox"
           }
          ],
          "scatterpolar": [
           {
            "marker": {
             "colorbar": {
              "outlinewidth": 0,
              "ticks": ""
             }
            },
            "type": "scatterpolar"
           }
          ],
          "scatterpolargl": [
           {
            "marker": {
             "colorbar": {
              "outlinewidth": 0,
              "ticks": ""
             }
            },
            "type": "scatterpolargl"
           }
          ],
          "scatterternary": [
           {
            "marker": {
             "colorbar": {
              "outlinewidth": 0,
              "ticks": ""
             }
            },
            "type": "scatterternary"
           }
          ],
          "surface": [
           {
            "colorbar": {
             "outlinewidth": 0,
             "ticks": ""
            },
            "colorscale": [
             [
              0,
              "#0d0887"
             ],
             [
              0.1111111111111111,
              "#46039f"
             ],
             [
              0.2222222222222222,
              "#7201a8"
             ],
             [
              0.3333333333333333,
              "#9c179e"
             ],
             [
              0.4444444444444444,
              "#bd3786"
             ],
             [
              0.5555555555555556,
              "#d8576b"
             ],
             [
              0.6666666666666666,
              "#ed7953"
             ],
             [
              0.7777777777777778,
              "#fb9f3a"
             ],
             [
              0.8888888888888888,
              "#fdca26"
             ],
             [
              1,
              "#f0f921"
             ]
            ],
            "type": "surface"
           }
          ],
          "table": [
           {
            "cells": {
             "fill": {
              "color": "#EBF0F8"
             },
             "line": {
              "color": "white"
             }
            },
            "header": {
             "fill": {
              "color": "#C8D4E3"
             },
             "line": {
              "color": "white"
             }
            },
            "type": "table"
           }
          ]
         },
         "layout": {
          "annotationdefaults": {
           "arrowcolor": "#2a3f5f",
           "arrowhead": 0,
           "arrowwidth": 1
          },
          "autotypenumbers": "strict",
          "coloraxis": {
           "colorbar": {
            "outlinewidth": 0,
            "ticks": ""
           }
          },
          "colorscale": {
           "diverging": [
            [
             0,
             "#8e0152"
            ],
            [
             0.1,
             "#c51b7d"
            ],
            [
             0.2,
             "#de77ae"
            ],
            [
             0.3,
             "#f1b6da"
            ],
            [
             0.4,
             "#fde0ef"
            ],
            [
             0.5,
             "#f7f7f7"
            ],
            [
             0.6,
             "#e6f5d0"
            ],
            [
             0.7,
             "#b8e186"
            ],
            [
             0.8,
             "#7fbc41"
            ],
            [
             0.9,
             "#4d9221"
            ],
            [
             1,
             "#276419"
            ]
           ],
           "sequential": [
            [
             0,
             "#0d0887"
            ],
            [
             0.1111111111111111,
             "#46039f"
            ],
            [
             0.2222222222222222,
             "#7201a8"
            ],
            [
             0.3333333333333333,
             "#9c179e"
            ],
            [
             0.4444444444444444,
             "#bd3786"
            ],
            [
             0.5555555555555556,
             "#d8576b"
            ],
            [
             0.6666666666666666,
             "#ed7953"
            ],
            [
             0.7777777777777778,
             "#fb9f3a"
            ],
            [
             0.8888888888888888,
             "#fdca26"
            ],
            [
             1,
             "#f0f921"
            ]
           ],
           "sequentialminus": [
            [
             0,
             "#0d0887"
            ],
            [
             0.1111111111111111,
             "#46039f"
            ],
            [
             0.2222222222222222,
             "#7201a8"
            ],
            [
             0.3333333333333333,
             "#9c179e"
            ],
            [
             0.4444444444444444,
             "#bd3786"
            ],
            [
             0.5555555555555556,
             "#d8576b"
            ],
            [
             0.6666666666666666,
             "#ed7953"
            ],
            [
             0.7777777777777778,
             "#fb9f3a"
            ],
            [
             0.8888888888888888,
             "#fdca26"
            ],
            [
             1,
             "#f0f921"
            ]
           ]
          },
          "colorway": [
           "#636efa",
           "#EF553B",
           "#00cc96",
           "#ab63fa",
           "#FFA15A",
           "#19d3f3",
           "#FF6692",
           "#B6E880",
           "#FF97FF",
           "#FECB52"
          ],
          "font": {
           "color": "#2a3f5f"
          },
          "geo": {
           "bgcolor": "white",
           "lakecolor": "white",
           "landcolor": "#E5ECF6",
           "showlakes": true,
           "showland": true,
           "subunitcolor": "white"
          },
          "hoverlabel": {
           "align": "left"
          },
          "hovermode": "closest",
          "mapbox": {
           "style": "light"
          },
          "paper_bgcolor": "white",
          "plot_bgcolor": "#E5ECF6",
          "polar": {
           "angularaxis": {
            "gridcolor": "white",
            "linecolor": "white",
            "ticks": ""
           },
           "bgcolor": "#E5ECF6",
           "radialaxis": {
            "gridcolor": "white",
            "linecolor": "white",
            "ticks": ""
           }
          },
          "scene": {
           "xaxis": {
            "backgroundcolor": "#E5ECF6",
            "gridcolor": "white",
            "gridwidth": 2,
            "linecolor": "white",
            "showbackground": true,
            "ticks": "",
            "zerolinecolor": "white"
           },
           "yaxis": {
            "backgroundcolor": "#E5ECF6",
            "gridcolor": "white",
            "gridwidth": 2,
            "linecolor": "white",
            "showbackground": true,
            "ticks": "",
            "zerolinecolor": "white"
           },
           "zaxis": {
            "backgroundcolor": "#E5ECF6",
            "gridcolor": "white",
            "gridwidth": 2,
            "linecolor": "white",
            "showbackground": true,
            "ticks": "",
            "zerolinecolor": "white"
           }
          },
          "shapedefaults": {
           "line": {
            "color": "#2a3f5f"
           }
          },
          "ternary": {
           "aaxis": {
            "gridcolor": "white",
            "linecolor": "white",
            "ticks": ""
           },
           "baxis": {
            "gridcolor": "white",
            "linecolor": "white",
            "ticks": ""
           },
           "bgcolor": "#E5ECF6",
           "caxis": {
            "gridcolor": "white",
            "linecolor": "white",
            "ticks": ""
           }
          },
          "title": {
           "x": 0.05
          },
          "xaxis": {
           "automargin": true,
           "gridcolor": "white",
           "linecolor": "white",
           "ticks": "",
           "title": {
            "standoff": 15
           },
           "zerolinecolor": "white",
           "zerolinewidth": 2
          },
          "yaxis": {
           "automargin": true,
           "gridcolor": "white",
           "linecolor": "white",
           "ticks": "",
           "title": {
            "standoff": 15
           },
           "zerolinecolor": "white",
           "zerolinewidth": 2
          }
         }
        },
        "xaxis": {
         "title": {
          "text": "$\\alpha$"
         }
        },
        "yaxis": {
         "title": {
          "text": "$\\Delta$"
         }
        }
       }
      },
      "text/html": [
       "<div>                            <div id=\"3bd89957-9307-43c8-a23f-990bc9f57d7f\" class=\"plotly-graph-div\" style=\"height:525px; width:100%;\"></div>            <script type=\"text/javascript\">                require([\"plotly\"], function(Plotly) {                    window.PLOTLYENV=window.PLOTLYENV || {};                                    if (document.getElementById(\"3bd89957-9307-43c8-a23f-990bc9f57d7f\")) {                    Plotly.newPlot(                        \"3bd89957-9307-43c8-a23f-990bc9f57d7f\",                        [{\"line\":{\"color\":\"olivedrab\",\"dash\":\"dash\",\"width\":2},\"marker\":{\"size\":15},\"mode\":\"markers\",\"name\":\"Early Fusion\",\"type\":\"scatter\",\"x\":[0.0,0.0,0.05,0.05,0.1,0.1,0.15000000000000002,0.15000000000000002,0.2,0.2,0.25,0.25,0.30000000000000004,0.30000000000000004,0.35000000000000003,0.35000000000000003,0.4,0.4,0.45,0.45,0.5,0.5,0.55,0.55,0.6000000000000001,0.6000000000000001,0.65,0.65,0.7000000000000001,0.7000000000000001,0.75,0.75,0.8,0.8,0.8500000000000001,0.8500000000000001,0.9,0.9,0.9500000000000001,0.9500000000000001,1.0,1.0],\"y\":[0.0,0.0,0.0019121056259173569,0.0019121056259173569,0.0036229369754225416,0.0036229369754225416,0.005132494048515249,0.005132494048515249,0.006440776845195409,0.006440776845195409,0.007547785365463494,0.007547785365463494,0.008453519609319254,0.008453519609319254,0.009157979576762426,0.009157979576762426,0.00966116526779319,0.00966116526779319,0.009963076682411753,0.009963076682411753,0.01006371382061795,0.01006371382061795,0.00996307668241199,0.00996307668241199,0.009661165267793217,0.009661165267793217,0.009157979576762523,0.009157979576762523,0.008453519609319032,0.008453519609319032,0.00754778536546348,0.00754778536546348,0.006440776845195437,0.006440776845195437,0.005132494048515263,0.005132494048515263,0.0036229369754224583,0.0036229369754224583,0.0019121056259175095,0.0019121056259175095,0.0,0.0]},{\"line\":{\"color\":\"deepskyblue\",\"dash\":\"dash\",\"width\":2},\"marker\":{\"size\":10},\"mode\":\"markers\",\"name\":\"Simultaneous Fusion\",\"type\":\"scatter\",\"x\":[0.0,0.0,0.05,0.05,0.1,0.1,0.15000000000000002,0.15000000000000002,0.2,0.2,0.25,0.25,0.30000000000000004,0.30000000000000004,0.35000000000000003,0.35000000000000003,0.4,0.4,0.45,0.45,0.5,0.5,0.55,0.55,0.6000000000000001,0.6000000000000001,0.65,0.65,0.7000000000000001,0.7000000000000001,0.75,0.75,0.8,0.8,0.8500000000000001,0.8500000000000001,0.9,0.9,0.9500000000000001,0.9500000000000001,1.0,1.0],\"y\":[0.0,0.0,0.0019121056259173569,0.0019121056259173569,0.0036229369754225416,0.0036229369754225416,0.005132494048515249,0.005132494048515249,0.006440776845195409,0.006440776845195409,0.007547785365463494,0.007547785365463494,0.008453519609319254,0.008453519609319254,0.009157979576762426,0.009157979576762426,0.00966116526779319,0.00966116526779319,0.009963076682411753,0.009963076682411753,0.01006371382061795,0.01006371382061795,0.00996307668241199,0.00996307668241199,0.009661165267793217,0.009661165267793217,0.009157979576762523,0.009157979576762523,0.008453519609319032,0.008453519609319032,0.00754778536546348,0.00754778536546348,0.006440776845195437,0.006440776845195437,0.005132494048515263,0.005132494048515263,0.0036229369754224583,0.0036229369754224583,0.0019121056259175095,0.0019121056259175095,0.0,0.0]},{\"line\":{\"color\":\"tomato\",\"dash\":\"dash\",\"width\":2},\"marker\":{\"size\":7},\"mode\":\"markers\",\"name\":\"Late Fusion\",\"type\":\"scatter\",\"x\":[0.0,0.0,0.0,0.0,0.0,0.0,0.0,0.0,0.05,0.05,0.05,0.05,0.05,0.05,0.05,0.05,0.1,0.1,0.1,0.1,0.1,0.1,0.1,0.1,0.15000000000000002,0.15000000000000002,0.15000000000000002,0.15000000000000002,0.15000000000000002,0.15000000000000002,0.15000000000000002,0.15000000000000002,0.2,0.2,0.2,0.2,0.2,0.2,0.2,0.2,0.25,0.25,0.25,0.25,0.25,0.25,0.25,0.25,0.30000000000000004,0.30000000000000004,0.30000000000000004,0.30000000000000004,0.30000000000000004,0.30000000000000004,0.30000000000000004,0.30000000000000004,0.35000000000000003,0.35000000000000003,0.35000000000000003,0.35000000000000003,0.35000000000000003,0.35000000000000003,0.35000000000000003,0.35000000000000003,0.4,0.4,0.4,0.4,0.4,0.4,0.4,0.4,0.45,0.45,0.45,0.45,0.45,0.45,0.45,0.45,0.5,0.5,0.5,0.5,0.5,0.5,0.5,0.5,0.55,0.55,0.55,0.55,0.55,0.55,0.55,0.55,0.6000000000000001,0.6000000000000001,0.6000000000000001,0.6000000000000001,0.6000000000000001,0.6000000000000001,0.6000000000000001,0.6000000000000001,0.65,0.65,0.65,0.65,0.65,0.65,0.65,0.65,0.7000000000000001,0.7000000000000001,0.7000000000000001,0.7000000000000001,0.7000000000000001,0.7000000000000001,0.7000000000000001,0.7000000000000001,0.75,0.75,0.75,0.75,0.75,0.75,0.75,0.75,0.8,0.8,0.8,0.8,0.8,0.8,0.8,0.8,0.8500000000000001,0.8500000000000001,0.8500000000000001,0.8500000000000001,0.8500000000000001,0.8500000000000001,0.8500000000000001,0.8500000000000001,0.9,0.9,0.9,0.9,0.9,0.9,0.9,0.9,0.9500000000000001,0.9500000000000001,0.9500000000000001,0.9500000000000001,0.9500000000000001,0.9500000000000001,0.9500000000000001,0.9500000000000001,1.0,1.0,1.0,1.0,1.0,1.0,1.0,1.0],\"y\":[0.0,0.0,0.0,0.0,0.0,0.0,0.0,0.0,0.0019121056259173569,0.0019121056259173569,0.0019121056259173569,0.0019121056259173569,0.0019121056259173569,0.0019121056259173569,0.0019121056259173569,0.0019121056259173569,0.0036229369754225416,0.0036229369754225416,0.0036229369754225416,0.0036229369754225416,0.0036229369754225416,0.0036229369754225416,0.0036229369754225416,0.0036229369754225416,0.005132494048515249,0.005132494048515249,0.005132494048515249,0.005132494048515249,0.005132494048515249,0.005132494048515249,0.005132494048515249,0.005132494048515249,0.006440776845195409,0.006440776845195409,0.006440776845195409,0.006440776845195409,0.006440776845195409,0.006440776845195409,0.006440776845195409,0.006440776845195409,0.007547785365463494,0.007547785365463494,0.007547785365463494,0.007547785365463494,0.007547785365463494,0.007547785365463494,0.007547785365463494,0.007547785365463494,0.008453519609319254,0.008453519609319254,0.008453519609319254,0.008453519609319254,0.008453519609319254,0.008453519609319254,0.008453519609319254,0.008453519609319254,0.009157979576762426,0.009157979576762426,0.009157979576762426,0.009157979576762426,0.009157979576762426,0.009157979576762426,0.009157979576762426,0.009157979576762426,0.00966116526779319,0.00966116526779319,0.00966116526779319,0.00966116526779319,0.00966116526779319,0.00966116526779319,0.00966116526779319,0.00966116526779319,0.009963076682411753,0.009963076682411753,0.009963076682411753,0.009963076682411753,0.009963076682411753,0.009963076682411753,0.009963076682411753,0.009963076682411753,0.01006371382061795,0.01006371382061795,0.01006371382061795,0.01006371382061795,0.01006371382061795,0.01006371382061795,0.01006371382061795,0.01006371382061795,0.00996307668241199,0.00996307668241199,0.00996307668241199,0.00996307668241199,0.00996307668241199,0.00996307668241199,0.00996307668241199,0.00996307668241199,0.009661165267793217,0.009661165267793217,0.009661165267793217,0.009661165267793217,0.009661165267793217,0.009661165267793217,0.009661165267793217,0.009661165267793217,0.009157979576762523,0.009157979576762523,0.009157979576762523,0.009157979576762523,0.009157979576762523,0.009157979576762523,0.009157979576762523,0.009157979576762523,0.008453519609319032,0.008453519609319032,0.008453519609319032,0.008453519609319032,0.008453519609319032,0.008453519609319032,0.008453519609319032,0.008453519609319032,0.00754778536546348,0.00754778536546348,0.00754778536546348,0.00754778536546348,0.00754778536546348,0.00754778536546348,0.00754778536546348,0.00754778536546348,0.006440776845195437,0.006440776845195437,0.006440776845195437,0.006440776845195437,0.006440776845195437,0.006440776845195437,0.006440776845195437,0.006440776845195437,0.005132494048515263,0.005132494048515263,0.005132494048515263,0.005132494048515263,0.005132494048515263,0.005132494048515263,0.005132494048515263,0.005132494048515263,0.0036229369754224583,0.0036229369754224583,0.0036229369754224583,0.0036229369754224583,0.0036229369754224583,0.0036229369754224583,0.0036229369754224583,0.0036229369754224583,0.0019121056259175095,0.0019121056259175095,0.0019121056259175095,0.0019121056259175095,0.0019121056259175095,0.0019121056259175095,0.0019121056259175095,0.0019121056259175095,0.0,0.0,0.0,0.0,0.0,0.0,0.0,0.0]}],                        {\"showlegend\":false,\"template\":{\"data\":{\"bar\":[{\"error_x\":{\"color\":\"#2a3f5f\"},\"error_y\":{\"color\":\"#2a3f5f\"},\"marker\":{\"line\":{\"color\":\"#E5ECF6\",\"width\":0.5},\"pattern\":{\"fillmode\":\"overlay\",\"size\":10,\"solidity\":0.2}},\"type\":\"bar\"}],\"barpolar\":[{\"marker\":{\"line\":{\"color\":\"#E5ECF6\",\"width\":0.5},\"pattern\":{\"fillmode\":\"overlay\",\"size\":10,\"solidity\":0.2}},\"type\":\"barpolar\"}],\"carpet\":[{\"aaxis\":{\"endlinecolor\":\"#2a3f5f\",\"gridcolor\":\"white\",\"linecolor\":\"white\",\"minorgridcolor\":\"white\",\"startlinecolor\":\"#2a3f5f\"},\"baxis\":{\"endlinecolor\":\"#2a3f5f\",\"gridcolor\":\"white\",\"linecolor\":\"white\",\"minorgridcolor\":\"white\",\"startlinecolor\":\"#2a3f5f\"},\"type\":\"carpet\"}],\"choropleth\":[{\"colorbar\":{\"outlinewidth\":0,\"ticks\":\"\"},\"type\":\"choropleth\"}],\"contour\":[{\"colorbar\":{\"outlinewidth\":0,\"ticks\":\"\"},\"colorscale\":[[0.0,\"#0d0887\"],[0.1111111111111111,\"#46039f\"],[0.2222222222222222,\"#7201a8\"],[0.3333333333333333,\"#9c179e\"],[0.4444444444444444,\"#bd3786\"],[0.5555555555555556,\"#d8576b\"],[0.6666666666666666,\"#ed7953\"],[0.7777777777777778,\"#fb9f3a\"],[0.8888888888888888,\"#fdca26\"],[1.0,\"#f0f921\"]],\"type\":\"contour\"}],\"contourcarpet\":[{\"colorbar\":{\"outlinewidth\":0,\"ticks\":\"\"},\"type\":\"contourcarpet\"}],\"heatmap\":[{\"colorbar\":{\"outlinewidth\":0,\"ticks\":\"\"},\"colorscale\":[[0.0,\"#0d0887\"],[0.1111111111111111,\"#46039f\"],[0.2222222222222222,\"#7201a8\"],[0.3333333333333333,\"#9c179e\"],[0.4444444444444444,\"#bd3786\"],[0.5555555555555556,\"#d8576b\"],[0.6666666666666666,\"#ed7953\"],[0.7777777777777778,\"#fb9f3a\"],[0.8888888888888888,\"#fdca26\"],[1.0,\"#f0f921\"]],\"type\":\"heatmap\"}],\"heatmapgl\":[{\"colorbar\":{\"outlinewidth\":0,\"ticks\":\"\"},\"colorscale\":[[0.0,\"#0d0887\"],[0.1111111111111111,\"#46039f\"],[0.2222222222222222,\"#7201a8\"],[0.3333333333333333,\"#9c179e\"],[0.4444444444444444,\"#bd3786\"],[0.5555555555555556,\"#d8576b\"],[0.6666666666666666,\"#ed7953\"],[0.7777777777777778,\"#fb9f3a\"],[0.8888888888888888,\"#fdca26\"],[1.0,\"#f0f921\"]],\"type\":\"heatmapgl\"}],\"histogram\":[{\"marker\":{\"pattern\":{\"fillmode\":\"overlay\",\"size\":10,\"solidity\":0.2}},\"type\":\"histogram\"}],\"histogram2d\":[{\"colorbar\":{\"outlinewidth\":0,\"ticks\":\"\"},\"colorscale\":[[0.0,\"#0d0887\"],[0.1111111111111111,\"#46039f\"],[0.2222222222222222,\"#7201a8\"],[0.3333333333333333,\"#9c179e\"],[0.4444444444444444,\"#bd3786\"],[0.5555555555555556,\"#d8576b\"],[0.6666666666666666,\"#ed7953\"],[0.7777777777777778,\"#fb9f3a\"],[0.8888888888888888,\"#fdca26\"],[1.0,\"#f0f921\"]],\"type\":\"histogram2d\"}],\"histogram2dcontour\":[{\"colorbar\":{\"outlinewidth\":0,\"ticks\":\"\"},\"colorscale\":[[0.0,\"#0d0887\"],[0.1111111111111111,\"#46039f\"],[0.2222222222222222,\"#7201a8\"],[0.3333333333333333,\"#9c179e\"],[0.4444444444444444,\"#bd3786\"],[0.5555555555555556,\"#d8576b\"],[0.6666666666666666,\"#ed7953\"],[0.7777777777777778,\"#fb9f3a\"],[0.8888888888888888,\"#fdca26\"],[1.0,\"#f0f921\"]],\"type\":\"histogram2dcontour\"}],\"mesh3d\":[{\"colorbar\":{\"outlinewidth\":0,\"ticks\":\"\"},\"type\":\"mesh3d\"}],\"parcoords\":[{\"line\":{\"colorbar\":{\"outlinewidth\":0,\"ticks\":\"\"}},\"type\":\"parcoords\"}],\"pie\":[{\"automargin\":true,\"type\":\"pie\"}],\"scatter\":[{\"marker\":{\"colorbar\":{\"outlinewidth\":0,\"ticks\":\"\"}},\"type\":\"scatter\"}],\"scatter3d\":[{\"line\":{\"colorbar\":{\"outlinewidth\":0,\"ticks\":\"\"}},\"marker\":{\"colorbar\":{\"outlinewidth\":0,\"ticks\":\"\"}},\"type\":\"scatter3d\"}],\"scattercarpet\":[{\"marker\":{\"colorbar\":{\"outlinewidth\":0,\"ticks\":\"\"}},\"type\":\"scattercarpet\"}],\"scattergeo\":[{\"marker\":{\"colorbar\":{\"outlinewidth\":0,\"ticks\":\"\"}},\"type\":\"scattergeo\"}],\"scattergl\":[{\"marker\":{\"colorbar\":{\"outlinewidth\":0,\"ticks\":\"\"}},\"type\":\"scattergl\"}],\"scattermapbox\":[{\"marker\":{\"colorbar\":{\"outlinewidth\":0,\"ticks\":\"\"}},\"type\":\"scattermapbox\"}],\"scatterpolar\":[{\"marker\":{\"colorbar\":{\"outlinewidth\":0,\"ticks\":\"\"}},\"type\":\"scatterpolar\"}],\"scatterpolargl\":[{\"marker\":{\"colorbar\":{\"outlinewidth\":0,\"ticks\":\"\"}},\"type\":\"scatterpolargl\"}],\"scatterternary\":[{\"marker\":{\"colorbar\":{\"outlinewidth\":0,\"ticks\":\"\"}},\"type\":\"scatterternary\"}],\"surface\":[{\"colorbar\":{\"outlinewidth\":0,\"ticks\":\"\"},\"colorscale\":[[0.0,\"#0d0887\"],[0.1111111111111111,\"#46039f\"],[0.2222222222222222,\"#7201a8\"],[0.3333333333333333,\"#9c179e\"],[0.4444444444444444,\"#bd3786\"],[0.5555555555555556,\"#d8576b\"],[0.6666666666666666,\"#ed7953\"],[0.7777777777777778,\"#fb9f3a\"],[0.8888888888888888,\"#fdca26\"],[1.0,\"#f0f921\"]],\"type\":\"surface\"}],\"table\":[{\"cells\":{\"fill\":{\"color\":\"#EBF0F8\"},\"line\":{\"color\":\"white\"}},\"header\":{\"fill\":{\"color\":\"#C8D4E3\"},\"line\":{\"color\":\"white\"}},\"type\":\"table\"}]},\"layout\":{\"annotationdefaults\":{\"arrowcolor\":\"#2a3f5f\",\"arrowhead\":0,\"arrowwidth\":1},\"autotypenumbers\":\"strict\",\"coloraxis\":{\"colorbar\":{\"outlinewidth\":0,\"ticks\":\"\"}},\"colorscale\":{\"diverging\":[[0,\"#8e0152\"],[0.1,\"#c51b7d\"],[0.2,\"#de77ae\"],[0.3,\"#f1b6da\"],[0.4,\"#fde0ef\"],[0.5,\"#f7f7f7\"],[0.6,\"#e6f5d0\"],[0.7,\"#b8e186\"],[0.8,\"#7fbc41\"],[0.9,\"#4d9221\"],[1,\"#276419\"]],\"sequential\":[[0.0,\"#0d0887\"],[0.1111111111111111,\"#46039f\"],[0.2222222222222222,\"#7201a8\"],[0.3333333333333333,\"#9c179e\"],[0.4444444444444444,\"#bd3786\"],[0.5555555555555556,\"#d8576b\"],[0.6666666666666666,\"#ed7953\"],[0.7777777777777778,\"#fb9f3a\"],[0.8888888888888888,\"#fdca26\"],[1.0,\"#f0f921\"]],\"sequentialminus\":[[0.0,\"#0d0887\"],[0.1111111111111111,\"#46039f\"],[0.2222222222222222,\"#7201a8\"],[0.3333333333333333,\"#9c179e\"],[0.4444444444444444,\"#bd3786\"],[0.5555555555555556,\"#d8576b\"],[0.6666666666666666,\"#ed7953\"],[0.7777777777777778,\"#fb9f3a\"],[0.8888888888888888,\"#fdca26\"],[1.0,\"#f0f921\"]]},\"colorway\":[\"#636efa\",\"#EF553B\",\"#00cc96\",\"#ab63fa\",\"#FFA15A\",\"#19d3f3\",\"#FF6692\",\"#B6E880\",\"#FF97FF\",\"#FECB52\"],\"font\":{\"color\":\"#2a3f5f\"},\"geo\":{\"bgcolor\":\"white\",\"lakecolor\":\"white\",\"landcolor\":\"#E5ECF6\",\"showlakes\":true,\"showland\":true,\"subunitcolor\":\"white\"},\"hoverlabel\":{\"align\":\"left\"},\"hovermode\":\"closest\",\"mapbox\":{\"style\":\"light\"},\"paper_bgcolor\":\"white\",\"plot_bgcolor\":\"#E5ECF6\",\"polar\":{\"angularaxis\":{\"gridcolor\":\"white\",\"linecolor\":\"white\",\"ticks\":\"\"},\"bgcolor\":\"#E5ECF6\",\"radialaxis\":{\"gridcolor\":\"white\",\"linecolor\":\"white\",\"ticks\":\"\"}},\"scene\":{\"xaxis\":{\"backgroundcolor\":\"#E5ECF6\",\"gridcolor\":\"white\",\"gridwidth\":2,\"linecolor\":\"white\",\"showbackground\":true,\"ticks\":\"\",\"zerolinecolor\":\"white\"},\"yaxis\":{\"backgroundcolor\":\"#E5ECF6\",\"gridcolor\":\"white\",\"gridwidth\":2,\"linecolor\":\"white\",\"showbackground\":true,\"ticks\":\"\",\"zerolinecolor\":\"white\"},\"zaxis\":{\"backgroundcolor\":\"#E5ECF6\",\"gridcolor\":\"white\",\"gridwidth\":2,\"linecolor\":\"white\",\"showbackground\":true,\"ticks\":\"\",\"zerolinecolor\":\"white\"}},\"shapedefaults\":{\"line\":{\"color\":\"#2a3f5f\"}},\"ternary\":{\"aaxis\":{\"gridcolor\":\"white\",\"linecolor\":\"white\",\"ticks\":\"\"},\"baxis\":{\"gridcolor\":\"white\",\"linecolor\":\"white\",\"ticks\":\"\"},\"bgcolor\":\"#E5ECF6\",\"caxis\":{\"gridcolor\":\"white\",\"linecolor\":\"white\",\"ticks\":\"\"}},\"title\":{\"x\":0.05},\"xaxis\":{\"automargin\":true,\"gridcolor\":\"white\",\"linecolor\":\"white\",\"ticks\":\"\",\"title\":{\"standoff\":15},\"zerolinecolor\":\"white\",\"zerolinewidth\":2},\"yaxis\":{\"automargin\":true,\"gridcolor\":\"white\",\"linecolor\":\"white\",\"ticks\":\"\",\"title\":{\"standoff\":15},\"zerolinecolor\":\"white\",\"zerolinewidth\":2}}},\"xaxis\":{\"title\":{\"text\":\"$\\\\alpha$\"}},\"yaxis\":{\"title\":{\"text\":\"$\\\\Delta$\"}}},                        {\"responsive\": true}                    ).then(function(){\n",
       "                            \n",
       "var gd = document.getElementById('3bd89957-9307-43c8-a23f-990bc9f57d7f');\n",
       "var x = new MutationObserver(function (mutations, observer) {{\n",
       "        var display = window.getComputedStyle(gd).display;\n",
       "        if (!display || display === 'none') {{\n",
       "            console.log([gd, 'removed!']);\n",
       "            Plotly.purge(gd);\n",
       "            observer.disconnect();\n",
       "        }}\n",
       "}});\n",
       "\n",
       "// Listen for the removal of the full notebook cells\n",
       "var notebookContainer = gd.closest('#notebook-container');\n",
       "if (notebookContainer) {{\n",
       "    x.observe(notebookContainer, {childList: true});\n",
       "}}\n",
       "\n",
       "// Listen for the clearing of the current output cell\n",
       "var outputEl = gd.closest('.output');\n",
       "if (outputEl) {{\n",
       "    x.observe(outputEl, {childList: true});\n",
       "}}\n",
       "\n",
       "                        })                };                });            </script>        </div>"
      ]
     },
     "metadata": {},
     "output_type": "display_data"
    }
   ],
   "source": [
    "delta = {name: delta_experiment(brute_partitions[name], graph_layers['str'], graph_layers['att']) \n",
    "         for name in brute_partitions.keys()}\n",
    "plot_dots_2d(delta, '$\\Delta$', 'data/plots/toy1/toy1_delta.pdf')"
   ]
  },
  {
   "cell_type": "markdown",
   "metadata": {},
   "source": [
    "## Delta'"
   ]
  },
  {
   "cell_type": "code",
   "execution_count": null,
   "metadata": {},
   "outputs": [],
   "source": [
    "best_partit_phase1 = {layer: define_the_best_partitions_ef(graph_layers[layer]) for layer in ['str', 'att']}\n",
    "partition_combinations_phase1 = list(product(*best_partit_phase1.values()))  # tuples of partitions"
   ]
  },
  {
   "cell_type": "code",
   "execution_count": null,
   "metadata": {},
   "outputs": [],
   "source": [
    "result_new_delta = {'sf': ([], []), 'ef': ([], []), 'lf': ([], [])}\n",
    "for partition_phase1_pair in partition_combinations_phase1:\n",
    "    partition_phase1_pair_dict = {'str': partition_phase1_pair[0], 'att': partition_phase1_pair[1]}\n",
    "    new_graph = {key: late_fusion_transient_absorption(graph_layers[key], partition_phase1_pair_dict[key]) \n",
    "                 for key in graph_layers.keys()}\n",
    "    for method in ['sf', 'ef', 'lf']:\n",
    "        delta_on_new_graph = delta_experiment(brute_partitions[method], new_graph['str'], new_graph['att'])\n",
    "        result_new_delta[method][0].extend(delta_on_new_graph[0])\n",
    "        result_new_delta[method][1].extend(delta_on_new_graph[1])\n",
    "\n",
    "plot_dots(result_new_delta, '$\\Delta`$', 'data/plots/toy1/toy1_delta_new.pdf')"
   ]
  },
  {
   "cell_type": "markdown",
   "metadata": {},
   "source": [
    "## Theta"
   ]
  },
  {
   "cell_type": "code",
   "execution_count": null,
   "metadata": {
    "scrolled": false
   },
   "outputs": [],
   "source": [
    "partition_combinations_phase1 = list(product(*best_partit_phase1.values()))  # tuples of partitions\n",
    "result_theta = {'sf': ([], []), 'ef': ([], []), 'lf': ([], [])}\n",
    "for par_phase1_pair in tqdm_notebook(partition_combinations_phase1, leave=False):\n",
    "    for method in ['sf', 'ef', 'lf']:\n",
    "        theta = theta_experiment(brute_partitions[method], {'str': par_phase1_pair[0], 'att': par_phase1_pair[1]}, graph_layers)\n",
    "        result_theta[method][0].extend(theta[0])\n",
    "        result_theta[method][1].extend(theta[1])\n",
    "        \n",
    "plot_dots(result_theta, '$\\Theta$', 'data/plots/toy1/toy1_theta.pdf')"
   ]
  },
  {
   "cell_type": "markdown",
   "metadata": {},
   "source": [
    "https://deftpdf.com/ru/crop-pdf"
   ]
  },
  {
   "cell_type": "markdown",
   "metadata": {},
   "source": [
    "1 0.8 0.35 0"
   ]
  }
 ],
 "metadata": {
  "kernelspec": {
   "display_name": "Python 3",
   "language": "python",
   "name": "python3"
  },
  "language_info": {
   "codemirror_mode": {
    "name": "ipython",
    "version": 3
   },
   "file_extension": ".py",
   "mimetype": "text/x-python",
   "name": "python",
   "nbconvert_exporter": "python",
   "pygments_lexer": "ipython3",
   "version": "3.7.3"
  }
 },
 "nbformat": 4,
 "nbformat_minor": 2
}
